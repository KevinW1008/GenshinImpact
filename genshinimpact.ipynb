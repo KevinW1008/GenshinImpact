{
 "cells": [
  {
   "cell_type": "markdown",
   "metadata": {},
   "source": [
    "<style>\n",
    "  h1 {text-align:center;}\n",
    "  h2 {text-align:center;}\n",
    "  h3 {text-align:center;}\n",
    "</style>"
   ]
  },
  {
   "cell_type": "markdown",
   "metadata": {},
   "source": [
    "<center><img src=\"https://i.ytimg.com/vi/kHfd0Jt0AvA/maxresdefault.jpg\" width= \"900\" height= \"500\"></center>\n",
    "\n",
    "# The Probabilities and Financial Impact of Gacha Games\n",
    "\n",
    "<h1 style= 'font-family:Lucida Handwriting'>Genshin Impact</h1>\n",
    "\n",
    "### Kevin Wang and Nick Zhang\n"
   ]
  },
  {
   "cell_type": "markdown",
   "metadata": {},
   "source": [
    "## Introduction \n",
    "Genshin Impact is a free-to-play action role-playing game developed and published by miHoYo. The game features a fantasy open world environment and action based battle system using elemental magic, character switching and uses gacha game monetization for players to obtain new characters, weapons, and other resources. The game is online-only and features limited co-op mode, allowing up to four players to play together. It was released on September 28, 2020. About 21.3 million people registered for the game, wit 17 million downlods at the games launch. Read more about Genshin Impact, and download the game for youself today: [Genshin Impact](https://genshin.mihoyo.com/en/home)"
   ]
  },
  {
   "cell_type": "markdown",
   "metadata": {},
   "source": [
    "## The Potential Plight of Gacha Games</h2>\n",
    "Gacha games contain the gacha mechanic, similar to the capsule toy vending machine idea. Players spend in-game currency to  recieve a random virtual item. Genshin Impact gacha rolls contain the following prizes: 3 Star Weapons, 4 Star Weapons, 4 Star Characters, 5 Star Weapons, and 5 Star Characters. Of course, higher the star ranking, higher the rarity of the item, and higher the appeal. Countless players have spent thousands of dollars of games such as Genshin Impact, even though it is free-to-play."
   ]
  },
  {
   "cell_type": "markdown",
   "metadata": {},
   "source": [
    "## Our Objectives\n",
    "We will anaylze the probabilities of attaining the highest ranking items possible, as well as determining the average cost of rolling one 5 star item. Furthermore, we will test to see if there there is a strong positive relationship between money and the number of 5 star achieved, i.e the more money one spends would it lead to more 5 stars? We will then determine the financial costs of these gacha rolls and the investment into Genshin Impact for different player groups. Finally, we will calculate the financial impact of attaining one 5 Star on the typical, young adult, single-person household."
   ]
  },
  {
   "cell_type": "markdown",
   "metadata": {},
   "source": [
    "## Collecting Wishes Data\n",
    "Gacha rolls in Genshin Impact are called wishes. We manually simulated and recorded 500 10-item rolls using the following simulator: [Wish Simulator](https://gi-wish-simulator.uzairashraf.dev/). Go ahead, try your luck!\n",
    "Since our data is straightforward and manually collected to our specifications, there was no need to tidy or modify our data. We immediately processed the data from a csv into a Pandas dataframe."
   ]
  },
  {
   "cell_type": "code",
   "execution_count": 1,
   "metadata": {},
   "outputs": [],
   "source": [
    "import pandas as pd\n",
    "import seaborn as sns\n",
    "import matplotlib.pyplot as plt\n",
    "from scipy import stats as scipy\n",
    "import numpy as np\n",
    "import random as ra\n",
    "# pd.set_option(\"display.max_rows\", None, \"display.max_columns\", None)\n"
   ]
  },
  {
   "cell_type": "code",
   "execution_count": 2,
   "metadata": {},
   "outputs": [
    {
     "data": {
      "text/html": [
       "<div>\n",
       "<style scoped>\n",
       "    .dataframe tbody tr th:only-of-type {\n",
       "        vertical-align: middle;\n",
       "    }\n",
       "\n",
       "    .dataframe tbody tr th {\n",
       "        vertical-align: top;\n",
       "    }\n",
       "\n",
       "    .dataframe thead th {\n",
       "        text-align: right;\n",
       "    }\n",
       "</style>\n",
       "<table border=\"1\" class=\"dataframe\">\n",
       "  <thead>\n",
       "    <tr style=\"text-align: right;\">\n",
       "      <th></th>\n",
       "      <th>3StarWeap</th>\n",
       "      <th>4StarWeap</th>\n",
       "      <th>5StarWeap</th>\n",
       "      <th>4StarChar</th>\n",
       "      <th>5StarChar</th>\n",
       "    </tr>\n",
       "  </thead>\n",
       "  <tbody>\n",
       "    <tr>\n",
       "      <th>0</th>\n",
       "      <td>8</td>\n",
       "      <td>0</td>\n",
       "      <td>0</td>\n",
       "      <td>2</td>\n",
       "      <td>0</td>\n",
       "    </tr>\n",
       "    <tr>\n",
       "      <th>1</th>\n",
       "      <td>9</td>\n",
       "      <td>0</td>\n",
       "      <td>0</td>\n",
       "      <td>1</td>\n",
       "      <td>0</td>\n",
       "    </tr>\n",
       "    <tr>\n",
       "      <th>2</th>\n",
       "      <td>9</td>\n",
       "      <td>0</td>\n",
       "      <td>0</td>\n",
       "      <td>1</td>\n",
       "      <td>0</td>\n",
       "    </tr>\n",
       "    <tr>\n",
       "      <th>3</th>\n",
       "      <td>9</td>\n",
       "      <td>0</td>\n",
       "      <td>0</td>\n",
       "      <td>1</td>\n",
       "      <td>0</td>\n",
       "    </tr>\n",
       "    <tr>\n",
       "      <th>4</th>\n",
       "      <td>9</td>\n",
       "      <td>0</td>\n",
       "      <td>0</td>\n",
       "      <td>1</td>\n",
       "      <td>0</td>\n",
       "    </tr>\n",
       "  </tbody>\n",
       "</table>\n",
       "</div>"
      ],
      "text/plain": [
       "   3StarWeap  4StarWeap  5StarWeap  4StarChar  5StarChar\n",
       "0          8          0          0          2          0\n",
       "1          9          0          0          1          0\n",
       "2          9          0          0          1          0\n",
       "3          9          0          0          1          0\n",
       "4          9          0          0          1          0"
      ]
     },
     "execution_count": 2,
     "metadata": {},
     "output_type": "execute_result"
    }
   ],
   "source": [
    "data = pd.read_csv('data.csv')\n",
    "data = data.dropna(axis= 1)\n",
    "data.head()"
   ]
  },
  {
   "cell_type": "markdown",
   "metadata": {},
   "source": [
    "With the dataframe above, let us calcuate the sum of each star rating item we rolled."
   ]
  },
  {
   "cell_type": "code",
   "execution_count": 3,
   "metadata": {},
   "outputs": [
    {
     "data": {
      "text/html": [
       "<div>\n",
       "<style scoped>\n",
       "    .dataframe tbody tr th:only-of-type {\n",
       "        vertical-align: middle;\n",
       "    }\n",
       "\n",
       "    .dataframe tbody tr th {\n",
       "        vertical-align: top;\n",
       "    }\n",
       "\n",
       "    .dataframe thead th {\n",
       "        text-align: right;\n",
       "    }\n",
       "</style>\n",
       "<table border=\"1\" class=\"dataframe\">\n",
       "  <thead>\n",
       "    <tr style=\"text-align: right;\">\n",
       "      <th></th>\n",
       "      <th>Sum</th>\n",
       "    </tr>\n",
       "  </thead>\n",
       "  <tbody>\n",
       "    <tr>\n",
       "      <th>3StarWeap</th>\n",
       "      <td>4260</td>\n",
       "    </tr>\n",
       "    <tr>\n",
       "      <th>4StarWeap</th>\n",
       "      <td>359</td>\n",
       "    </tr>\n",
       "    <tr>\n",
       "      <th>5StarWeap</th>\n",
       "      <td>34</td>\n",
       "    </tr>\n",
       "    <tr>\n",
       "      <th>4StarChar</th>\n",
       "      <td>304</td>\n",
       "    </tr>\n",
       "    <tr>\n",
       "      <th>5StarChar</th>\n",
       "      <td>43</td>\n",
       "    </tr>\n",
       "  </tbody>\n",
       "</table>\n",
       "</div>"
      ],
      "text/plain": [
       "            Sum\n",
       "3StarWeap  4260\n",
       "4StarWeap   359\n",
       "5StarWeap    34\n",
       "4StarChar   304\n",
       "5StarChar    43"
      ]
     },
     "execution_count": 3,
     "metadata": {},
     "output_type": "execute_result"
    }
   ],
   "source": [
    "sumData = pd.DataFrame(data= data.sum()).rename(columns={0: 'Sum'})\n",
    "sumData"
   ]
  },
  {
   "cell_type": "markdown",
   "metadata": {},
   "source": [
    "Let us visualize the odds better with a simple barplot. Spoiler, the odds are horrendous."
   ]
  },
  {
   "cell_type": "code",
   "execution_count": 4,
   "metadata": {},
   "outputs": [
    {
     "data": {
      "image/png": "[encoded data removed]",
      "text/plain": [
       "<Figure size 720x360 with 1 Axes>"
      ]
     },
     "metadata": {
      "needs_background": "light"
     },
     "output_type": "display_data"
    }
   ],
   "source": [
    "plt.figure(figsize=(10,5))\n",
    "sns.barplot(x= sumData.index, y= 'Sum', data= sumData)\n",
    "plt.title('Total Items Rolled per Star Rating')\n",
    "plt.xlabel('Star Rating')\n",
    "plt.ylabel('Total Number of Items')\n",
    "plt.show()"
   ]
  },
  {
   "cell_type": "markdown",
   "metadata": {},
   "source": [
    "Now we will count and record the number of rolls between each 5 star attained and compute the average distance, based on our data above."
   ]
  },
  {
   "cell_type": "code",
   "execution_count": 5,
   "metadata": {},
   "outputs": [
    {
     "ename": "AttributeError",
     "evalue": "module 'seaborn' has no attribute 'histplot'",
     "output_type": "error",
     "traceback": [
      "\u001b[0;31m---------------------------------------------------------------------------\u001b[0m",
      "\u001b[0;31mAttributeError\u001b[0m                            Traceback (most recent call last)",
      "\u001b[0;32m<ipython-input-5-911ea6613b32>\u001b[0m in \u001b[0;36m<module>\u001b[0;34m\u001b[0m\n\u001b[1;32m     18\u001b[0m         \u001b[0mcount\u001b[0m\u001b[0;34m+=\u001b[0m \u001b[0;36m1\u001b[0m\u001b[0;34m\u001b[0m\u001b[0;34m\u001b[0m\u001b[0m\n\u001b[1;32m     19\u001b[0m \u001b[0;34m\u001b[0m\u001b[0m\n\u001b[0;32m---> 20\u001b[0;31m \u001b[0msns\u001b[0m\u001b[0;34m.\u001b[0m\u001b[0mhistplot\u001b[0m\u001b[0;34m(\u001b[0m\u001b[0mdata\u001b[0m\u001b[0;34m=\u001b[0m \u001b[0mfreq\u001b[0m\u001b[0;34m,\u001b[0m \u001b[0mx\u001b[0m\u001b[0;34m=\u001b[0m\u001b[0;34m\"Number of (10) Rolls\"\u001b[0m\u001b[0;34m,\u001b[0m \u001b[0mbinwidth\u001b[0m\u001b[0;34m=\u001b[0m \u001b[0;36m.2\u001b[0m\u001b[0;34m)\u001b[0m\u001b[0;34m.\u001b[0m\u001b[0mset_title\u001b[0m\u001b[0;34m(\u001b[0m\u001b[0;34m'Frequency of Rolls of 10'\u001b[0m\u001b[0;34m)\u001b[0m\u001b[0;34m\u001b[0m\u001b[0;34m\u001b[0m\u001b[0m\n\u001b[0m\u001b[1;32m     21\u001b[0m \u001b[0;31m#We are summing the distances between each 5 star item, then dividing the distances over the number of 5 stars attained to compute avg rolls per 5 star.\u001b[0m\u001b[0;34m\u001b[0m\u001b[0;34m\u001b[0m\u001b[0;34m\u001b[0m\u001b[0m\n\u001b[1;32m     22\u001b[0m \u001b[0mprint\u001b[0m\u001b[0;34m(\u001b[0m\u001b[0;34m'Based of our own simulated rolls, the average number of rolls between 5 Star Summons (Weapons or Characters):'\u001b[0m \u001b[0;34m,\u001b[0m \u001b[0mround\u001b[0m\u001b[0;34m(\u001b[0m\u001b[0;36m10\u001b[0m\u001b[0;34m*\u001b[0m\u001b[0;34m(\u001b[0m\u001b[0msumDistances\u001b[0m\u001b[0;34m/\u001b[0m\u001b[0;34m(\u001b[0m\u001b[0mdata\u001b[0m\u001b[0;34m[\u001b[0m\u001b[0;34m'5StarChar'\u001b[0m\u001b[0;34m]\u001b[0m\u001b[0;34m.\u001b[0m\u001b[0msum\u001b[0m\u001b[0;34m(\u001b[0m\u001b[0;34m)\u001b[0m\u001b[0;34m+\u001b[0m \u001b[0mdata\u001b[0m\u001b[0;34m[\u001b[0m\u001b[0;34m'5StarWeap'\u001b[0m\u001b[0;34m]\u001b[0m\u001b[0;34m.\u001b[0m\u001b[0msum\u001b[0m\u001b[0;34m(\u001b[0m\u001b[0;34m)\u001b[0m\u001b[0;34m)\u001b[0m\u001b[0;34m)\u001b[0m\u001b[0;34m)\u001b[0m\u001b[0;34m)\u001b[0m\u001b[0;34m\u001b[0m\u001b[0;34m\u001b[0m\u001b[0m\n",
      "\u001b[0;31mAttributeError\u001b[0m: module 'seaborn' has no attribute 'histplot'"
     ]
    }
   ],
   "source": [
    "freq = pd.DataFrame(columns= ['Number of (10) Rolls'])\n",
    "count = 0\n",
    "sumDistances= 0\n",
    "data['response'] = pd.Series(0, index=data.index)\n",
    "item = 1\n",
    "\n",
    "for w, c, index in zip(data['5StarWeap'].to_numpy(), data['5StarChar'].to_numpy(), data.index):\n",
    "    if (w > 0) or (c > 0):\n",
    "        data.loc[index, 'response'] = item\n",
    "        item += 1\n",
    "        #Add count to the frequency dataframe\n",
    "        freq.loc[index] = count\n",
    "        #Add distance to sum\n",
    "        sumDistances += count\n",
    "        #Resets the distnace counter\n",
    "        count = 0\n",
    "    else:\n",
    "        count+= 1\n",
    "\n",
    "sns.histplot(data= freq, x=\"Number of (10) Rolls\", binwidth= .2).set_title('Frequency of Rolls of 10')\n",
    "#We are summing the distances between each 5 star item, then dividing the distances over the number of 5 stars attained to compute avg rolls per 5 star.\n",
    "print('Based of our own simulated rolls, the average number of rolls between 5 Star Summons (Weapons or Characters):' , round(10*(sumDistances/(data['5StarChar'].sum()+ data['5StarWeap'].sum()))))\n",
    "print('A histogram below shows the frequency of rolls of 10 between each 5 star item we attained in our simulation')\n",
    "\n"
   ]
  },
  {
   "cell_type": "markdown",
   "metadata": {},
   "source": [
    "## Fitting a Linear Model\n",
    "We could use the value above to say that a player would, on average, need to roll 55 times to get a 5 star summon (weapon or character). However, we can double check by trying to fit a linear model."
   ]
  },
  {
   "cell_type": "code",
   "execution_count": 6,
   "metadata": {},
   "outputs": [
    {
     "name": "stdout",
     "output_type": "stream",
     "text": [
      "                            OLS Regression Results                            \n",
      "==============================================================================\n",
      "Dep. Variable:               response   R-squared:                       0.998\n",
      "Model:                            OLS   Adj. R-squared:                  0.998\n",
      "Method:                 Least Squares   F-statistic:                 3.606e+04\n",
      "Date:                Fri, 18 Dec 2020   Prob (F-statistic):           7.73e-98\n",
      "Time:                        15:14:42   Log-Likelihood:                -98.600\n",
      "No. Observations:                  73   AIC:                             201.2\n",
      "Df Residuals:                      71   BIC:                             205.8\n",
      "Df Model:                           1                                         \n",
      "Covariance Type:            nonrobust                                         \n",
      "==============================================================================\n",
      "                 coef    std err          t      P>|t|      [0.025      0.975]\n",
      "------------------------------------------------------------------------------\n",
      "Intercept      2.4255      0.213     11.379      0.000       2.000       2.850\n",
      "index          0.1421      0.001    189.906      0.000       0.141       0.144\n",
      "==============================================================================\n",
      "Omnibus:                        0.916   Durbin-Watson:                   0.198\n",
      "Prob(Omnibus):                  0.633   Jarque-Bera (JB):                0.370\n",
      "Skew:                           0.002   Prob(JB):                        0.831\n",
      "Kurtosis:                       3.349   Cond. No.                         548.\n",
      "==============================================================================\n",
      "\n",
      "Warnings:\n",
      "[1] Standard Errors assume that the covariance matrix of the errors is correctly specified.\n"
     ]
    },
    {
     "name": "stderr",
     "output_type": "stream",
     "text": [
      "<ipython-input-6-18ee98cc24f6>:2: SettingWithCopyWarning: \n",
      "A value is trying to be set on a copy of a slice from a DataFrame.\n",
      "Try using .loc[row_indexer,col_indexer] = value instead\n",
      "\n",
      "See the caveats in the documentation: https://pandas.pydata.org/pandas-docs/stable/user_guide/indexing.html#returning-a-view-versus-a-copy\n",
      "  linear_model['index'] = linear_model.index\n"
     ]
    }
   ],
   "source": [
    "linear_model = data[data['response'] != 0]\n",
    "linear_model['index'] = linear_model.index\n",
    "\n",
    "import statsmodels.formula.api as sm\n",
    "ols = sm.ols('response~index', data = linear_model).fit()\n",
    "print(ols.summary())"
   ]
  },
  {
   "cell_type": "markdown",
   "metadata": {},
   "source": [
    "We can see that our predictor, index, has a P-value of zero, meaning that it is a significant predictor in explaining variability of our response variable (number of 5 star weapons / characters obtained). We can also see for simple linear regression, we havea n R-squared of 0.998, meaning that the model we have just created can explain 99.8% of all variability in the model. Thus, we have determined that the number of rolls you will instigate is correlated with the amount of 5 stars obtained. Due to the high R-squared value, it is unlikely that there are additional predictors that can we have not accounted for.\n",
    "\n",
    "The slope by itself indicates that for every 1 grouping of rolls (or for every 10 rolls) the number of 5 star weapons / characters increases by 0.1421 items. Since this does not make much sense, we can instead repharse it as such:\n",
    "\n",
    "For every 7 rolls of 10 (70 individual rolls) rolls, the number of 5 star weapons / characters increases by approximately 1. \n",
    "\n",
    "Note: In this case, an intercept of 2.4255 does not make any sense, since that would be implying that despite doing no rolls, we would still end up with around 3 5 star items / characters. Moving forward, we will ignore the intercept due to this logical fallacy.\n",
    "\n"
   ]
  },
  {
   "cell_type": "markdown",
   "metadata": {},
   "source": [
    "## Analyzing Probabilties\n",
    "Based on our data, let us see the probability of attaining either 5 star character or weapon, seperately."
   ]
  },
  {
   "cell_type": "code",
   "execution_count": 7,
   "metadata": {},
   "outputs": [
    {
     "name": "stdout",
     "output_type": "stream",
     "text": [
      "Probability of achieving a 5 Star Character: 0.0086\n"
     ]
    }
   ],
   "source": [
    "print('Probability of achieving a 5 Star Character:' , data['5StarChar'].sum()/(5000))"
   ]
  },
  {
   "cell_type": "code",
   "execution_count": 8,
   "metadata": {},
   "outputs": [
    {
     "name": "stdout",
     "output_type": "stream",
     "text": [
      "Probability of achieving a 5 Star Character: 0.0068\n"
     ]
    }
   ],
   "source": [
    "print('Probability of achieving a 5 Star Character:' , data['5StarWeap'].sum()/(5000))"
   ]
  },
  {
   "cell_type": "markdown",
   "metadata": {},
   "source": [
    "However, we need to factor in both the sum of 5 star characters and weapons we get. Why? Each roll we are doing has the possiblity of attaining any 5 star item (or multiple if you are really lucky).\n"
   ]
  },
  {
   "cell_type": "code",
   "execution_count": 9,
   "metadata": {},
   "outputs": [
    {
     "name": "stdout",
     "output_type": "stream",
     "text": [
      "Probability of achieving a 5 Star Character: 0.0154\n"
     ]
    }
   ],
   "source": [
    "print('Probability of achieving a 5 Star Character:' , (data['5StarChar'].sum()+data['5StarWeap'].sum())/(5000))"
   ]
  },
  {
   "cell_type": "markdown",
   "metadata": {},
   "source": [
    "Woah! The adjusted probability of achieving a five star item is around 1.54%. How can this be? Isj't 0.6% the 'advertised' probability? It is because Genshin Impact implements a ***pity*** system. The game takes \"pity\" on the player, and guarantees an item after *x* number of rolls. For a 5 star, the pity system kicks in at 90 rolls, i.e after 89 rolls, if you do not attain a 5 star character, the next **90th roll** will be a **guaranteed** 5 star item. Then, the pity system resets until the next 5 star item is attained. Wow, this is quite revolutionary for the gacha game industry."
   ]
  },
  {
   "cell_type": "markdown",
   "metadata": {},
   "source": [
    "We can mathematically compute a similar probability to what we calculated above. Following a binomial probability distrubution, with probability of each roll being .006, the cummulative probability of attaining one 5 star item for 90 rolls is calculated as follows:"
   ]
  },
  {
   "cell_type": "markdown",
   "metadata": {},
   "source": [
    "<center>First we must calculate the cummulative probability of attaining one 5 star over 89 rolls:</center>\n",
    "\\begin{equation}\n",
    "P(X < x) = F(1; .006, 89) = \\sum_{i=0}^{1} \\binom{89}{i}(p)^{i}(1-p)^{89-i}))= .5853\n",
    "\\end{equation}\n",
    "\n",
    "\n",
    "\n",
    "\\begin{equation}\n",
    "P(X \\geq x) = 1 - .585313 = .4147\n",
    "\\end{equation}\n",
    "\n",
    "<center>Factor in the 100% probability of attaining a 5 Star on the 90th roll. Then, the cummulative probaility at 90 rolls is:</center>\n",
    "\n",
    "\\begin{equation}\n",
    "1 + .4147 = 1.4147\n",
    "\\end{equation}\n",
    "\n",
    "<center>Adjusted probability per roll is:</center>\n",
    "\n",
    "\\begin{equation}\n",
    "1.4147 / 90 = .01571 \\approx 1.6\\%\n",
    "\\end{equation}\n",
    "\n"
   ]
  },
  {
   "cell_type": "markdown",
   "metadata": {},
   "source": [
    "So we have the adjusted probability to attain a 5 Star per roll. Now, here is the question. How many rolls do we expected to perform in to order to attain that 5 Star item. This follows a geometric probability distribution, specifically the distribution of the number *x* of Bernoulli trials needed to get one success.The expected value of rolls to attain 1 success is:\n",
    "\\begin{equation}\n",
    "E(rolls) = 1/ p\n",
    "\\end{equation}\n",
    "Let us calculate the expected number of rolls based on non-pity system probability.\n",
    "\\begin{equation}\n",
    "E(rolls) = 1/(.006) \\approx 167 \\;rolls\n",
    "\\end{equation}\n",
    "Now, let us calculate the expected number of rolls based on the pity system probability.\n",
    "\\begin{equation}\n",
    "E(rolls) = 1/(.016) \\approx 63 \\;rolls\n",
    "\\end{equation}\n",
    "That is about 100 rolls less, saving countless dollars. The financial horror will be showcased later.\n"
   ]
  },
  {
   "cell_type": "markdown",
   "metadata": {},
   "source": [
    "Let us graph the geometric distribution with probability = 0.016 and analyze the cummulative probabilities."
   ]
  },
  {
   "cell_type": "code",
   "execution_count": 10,
   "metadata": {},
   "outputs": [
    {
     "name": "stdout",
     "output_type": "stream",
     "text": [
      "Probability that one would roll 1 roll(s) or less until first success: 1.6 %\n",
      "Probability that one would roll 2 roll(s) or less until first success: 3.17 %\n",
      "Probability that one would roll 3 roll(s) or less until first success: 4.72 %\n",
      "Probability that one would roll 4 roll(s) or less until first success: 6.25 %\n",
      "Probability that one would roll 5 roll(s) or less until first success: 7.75 %\n",
      "Probability that one would roll 6 roll(s) or less until first success: 9.22 %\n",
      "Probability that one would roll 7 roll(s) or less until first success: 10.68 %\n",
      "Probability that one would roll 8 roll(s) or less until first success: 12.11 %\n",
      "Probability that one would roll 9 roll(s) or less until first success: 13.51 %\n",
      "Probability that one would roll 10 roll(s) or less until first success: 14.9 %\n",
      "Probability that one would roll 11 roll(s) or less until first success: 16.26 %\n",
      "Probability that one would roll 12 roll(s) or less until first success: 17.6 %\n",
      "Probability that one would roll 13 roll(s) or less until first success: 18.92 %\n",
      "Probability that one would roll 14 roll(s) or less until first success: 20.21 %\n",
      "Probability that one would roll 15 roll(s) or less until first success: 21.49 %\n",
      "Probability that one would roll 16 roll(s) or less until first success: 22.75 %\n",
      "Probability that one would roll 17 roll(s) or less until first success: 23.98 %\n",
      "Probability that one would roll 18 roll(s) or less until first success: 25.2 %\n",
      "Probability that one would roll 19 roll(s) or less until first success: 26.4 %\n",
      "Probability that one would roll 20 roll(s) or less until first success: 27.57 %\n",
      "Probability that one would roll 21 roll(s) or less until first success: 28.73 %\n",
      "Probability that one would roll 22 roll(s) or less until first success: 29.87 %\n",
      "Probability that one would roll 23 roll(s) or less until first success: 30.99 %\n",
      "Probability that one would roll 24 roll(s) or less until first success: 32.1 %\n",
      "Probability that one would roll 25 roll(s) or less until first success: 33.18 %\n",
      "Probability that one would roll 26 roll(s) or less until first success: 34.25 %\n",
      "Probability that one would roll 27 roll(s) or less until first success: 35.31 %\n",
      "Probability that one would roll 28 roll(s) or less until first success: 36.34 %\n",
      "Probability that one would roll 29 roll(s) or less until first success: 37.36 %\n",
      "Probability that one would roll 30 roll(s) or less until first success: 38.36 %\n",
      "Probability that one would roll 31 roll(s) or less until first success: 39.35 %\n",
      "Probability that one would roll 32 roll(s) or less until first success: 40.32 %\n",
      "Probability that one would roll 33 roll(s) or less until first success: 41.27 %\n",
      "Probability that one would roll 34 roll(s) or less until first success: 42.21 %\n",
      "Probability that one would roll 35 roll(s) or less until first success: 43.14 %\n",
      "Probability that one would roll 36 roll(s) or less until first success: 44.05 %\n",
      "Probability that one would roll 37 roll(s) or less until first success: 44.94 %\n",
      "Probability that one would roll 38 roll(s) or less until first success: 45.82 %\n",
      "Probability that one would roll 39 roll(s) or less until first success: 46.69 %\n",
      "Probability that one would roll 40 roll(s) or less until first success: 47.54 %\n",
      "Probability that one would roll 41 roll(s) or less until first success: 48.38 %\n",
      "Probability that one would roll 42 roll(s) or less until first success: 49.21 %\n",
      "Probability that one would roll 43 roll(s) or less until first success: 50.02 %\n",
      "Probability that one would roll 44 roll(s) or less until first success: 50.82 %\n",
      "Probability that one would roll 45 roll(s) or less until first success: 51.61 %\n",
      "Probability that one would roll 46 roll(s) or less until first success: 52.38 %\n",
      "Probability that one would roll 47 roll(s) or less until first success: 53.14 %\n",
      "Probability that one would roll 48 roll(s) or less until first success: 53.89 %\n",
      "Probability that one would roll 49 roll(s) or less until first success: 54.63 %\n",
      "Probability that one would roll 50 roll(s) or less until first success: 55.36 %\n",
      "Probability that one would roll 51 roll(s) or less until first success: 56.07 %\n",
      "Probability that one would roll 52 roll(s) or less until first success: 56.77 %\n",
      "Probability that one would roll 53 roll(s) or less until first success: 57.47 %\n",
      "Probability that one would roll 54 roll(s) or less until first success: 58.15 %\n",
      "Probability that one would roll 55 roll(s) or less until first success: 58.82 %\n",
      "Probability that one would roll 56 roll(s) or less until first success: 59.47 %\n",
      "Probability that one would roll 57 roll(s) or less until first success: 60.12 %\n",
      "Probability that one would roll 58 roll(s) or less until first success: 60.76 %\n",
      "Probability that one would roll 59 roll(s) or less until first success: 61.39 %\n",
      "Probability that one would roll 60 roll(s) or less until first success: 62.01 %\n",
      "Probability that one would roll 61 roll(s) or less until first success: 62.61 %\n",
      "Probability that one would roll 62 roll(s) or less until first success: 63.21 %\n",
      "Probability that one would roll 63 roll(s) or less until first success: 63.8 %\n",
      "Probability that one would roll 64 roll(s) or less until first success: 64.38 %\n",
      "Probability that one would roll 65 roll(s) or less until first success: 64.95 %\n",
      "Probability that one would roll 66 roll(s) or less until first success: 65.51 %\n",
      "Probability that one would roll 67 roll(s) or less until first success: 66.06 %\n",
      "Probability that one would roll 68 roll(s) or less until first success: 66.61 %\n",
      "Probability that one would roll 69 roll(s) or less until first success: 67.14 %\n",
      "Probability that one would roll 70 roll(s) or less until first success: 67.67 %\n",
      "Probability that one would roll 71 roll(s) or less until first success: 68.18 %\n",
      "Probability that one would roll 72 roll(s) or less until first success: 68.69 %\n",
      "Probability that one would roll 73 roll(s) or less until first success: 69.19 %\n",
      "Probability that one would roll 74 roll(s) or less until first success: 69.69 %\n",
      "Probability that one would roll 75 roll(s) or less until first success: 70.17 %\n",
      "Probability that one would roll 76 roll(s) or less until first success: 70.65 %\n",
      "Probability that one would roll 77 roll(s) or less until first success: 71.12 %\n",
      "Probability that one would roll 78 roll(s) or less until first success: 71.58 %\n",
      "Probability that one would roll 79 roll(s) or less until first success: 72.04 %\n",
      "Probability that one would roll 80 roll(s) or less until first success: 72.48 %\n",
      "Probability that one would roll 81 roll(s) or less until first success: 72.92 %\n",
      "Probability that one would roll 82 roll(s) or less until first success: 73.36 %\n",
      "Probability that one would roll 83 roll(s) or less until first success: 73.78 %\n",
      "Probability that one would roll 84 roll(s) or less until first success: 74.2 %\n",
      "Probability that one would roll 85 roll(s) or less until first success: 74.61 %\n",
      "Probability that one would roll 86 roll(s) or less until first success: 75.02 %\n",
      "Probability that one would roll 87 roll(s) or less until first success: 75.42 %\n",
      "Probability that one would roll 88 roll(s) or less until first success: 75.81 %\n",
      "Probability that one would roll 89 roll(s) or less until first success: 76.2 %\n",
      "Probability that one would roll 90 roll(s) or less until first success: 76.58 %\n"
     ]
    },
    {
     "data": {
      "image/png": "[encoded data removed]",
      "text/plain": [
       "<Figure size 432x288 with 1 Axes>"
      ]
     },
     "metadata": {
      "needs_background": "light"
     },
     "output_type": "display_data"
    }
   ],
   "source": [
    "p= .016\n",
    "X = np.arange(1,91,1)\n",
    "y = scipy.geom.pmf(X,p)\n",
    "plt.plot(X,y)\n",
    "plt.title('Geometric Distribution of Roll Probability')\n",
    "plt.ylabel('Probability')\n",
    "plt.xlabel('Number of Rolls')\n",
    "for x in X:\n",
    "    print('Probability that one would roll', x,'roll(s) or less until first success:', round((100*scipy.geom.cdf(x, p)), 2) , '%')\n"
   ]
  },
  {
   "cell_type": "markdown",
   "metadata": {},
   "source": [
    "From the CDF values, one would only have a 50% change of attaining a 5 star by the 44th roll. Our cummulative probabilities doesn't even reach 80% to 90% by the 80th to 89th roll. "
   ]
  },
  {
   "cell_type": "markdown",
   "metadata": {},
   "source": [
    "## Costs of Rolls\n",
    "<center><img src=\"https://img.game8.co/3289481/34ecdaca3909406df4b219f631ce63db.png/show\" ></center>\n",
    "\n",
    "Primogems are the special currency in game that rolls are bought with. Each roll costs ***160*** primogems. The unit cost of primogems is around 0.0157 USD. Let's do some simple roll costs, based on our three numbers of rolls computed previously:\n",
    "\n",
    "\\begin{equation}\n",
    "Each\\ roll\\ will\\ cost = (0.0157 * 160) \\approx $2.51\n",
    "\\end{equation}\n",
    "\\begin{equation}\n",
    "Our\\ simulation\\ had\\ an\\ average\\ of\\ 55\\ rolls\\ per\\ 5\\ star\\ item = ($2.51 * 55) \\approx $138.16\n",
    "\\end{equation}\n",
    "\\begin{equation}\n",
    "Our\\ computed\\ expected\\ value\\ was\\ 63\\ rolls = ($2.51 * 63) \\approx $158.13\n",
    "\\end{equation}\n",
    "\\begin{equation}\n",
    "Our\\ linear\\ model\\ predicted\\ 70\\ rolls\\ per\\ 5\\ star\\ item = ($2.51 * 70) \\approx $175.70\n",
    "\\end{equation}\n",
    "\n",
    "So, we have a range of ***potential*** (Values could exceed or be below this range) costs from 138.16 to 175.70 USD just to attain one 5 star item. "
   ]
  },
  {
   "cell_type": "markdown",
   "metadata": {},
   "source": [
    "## Potential Yearly Primogem Gain Amongst Players\n",
    "Now, we will speculate how many primogems a certain player may accumulate over the course of a non-leap year (365 days). This will be related to the number of 5 star characters that sum may attain, as well as the potential cost of those primogems if one buys them outright.\n",
    "To calculate potential costs, we need to calculate how many primogems players may obtain in a standard year. Their activties and respective primogem gains are detailed below:\n",
    "\n"
   ]
  },
  {
   "cell_type": "markdown",
   "metadata": {},
   "source": [
    "We have grouped players into four general categories: Casual Free to Play, Hardcore Free to Play, Casual Whale, and Hardcore Whale. Each category of players will have specific actions and purchases they may take. Two main subgroups exists: \n",
    "* Free to Play (F2P) - Players who spend no money on the game.\n",
    "* Whales - Players who spend little to whopping, even egregious amounts of money. Take a look at this blog here around whales in gacha games: [Mobile Game Whales](https://www.blog.udonis.co/mobile-marketing/mobile-games/mobile-games-whales#:~:text=A%20mobile%20gaming%20whale%20is,booster%20packs%2C%20cosmetics%2C%20etc.)."
   ]
  },
  {
   "cell_type": "markdown",
   "metadata": {},
   "source": [
    "### Casual Free to Play\n",
    "The Casual F2P may pursue the following actities:\n",
    "* Daily Commissions: Daily activities that may net the player up to 60 primogems. \n",
    "* Spiral Abyss: Each spiral Abyss level will net a one time reward of 300 primogems. There are 8 levels. \n",
    "* Battle Pass Awards: Occurs every 40 days, netting up to 5 awards, each 160 primogems each\n",
    "\n",
    "To best capture how the casual F2P may play, we will run a randomize function on the values above, since a casual player may not work towards attaining the max primogems possible. We will simulate this 10,000 times and take the average to attain a more precise sum."
   ]
  },
  {
   "cell_type": "code",
   "execution_count": 11,
   "metadata": {},
   "outputs": [
    {
     "name": "stdout",
     "output_type": "stream",
     "text": [
      "Potential yearly sum from Casual F2P activities:  12154\n"
     ]
    }
   ],
   "source": [
    "potentialSum = 0\n",
    "iterations = 10000\n",
    "# primo = pd.DataFrame(columns= ['Sum'])\n",
    "for i in range (iterations):\n",
    "    #Each daily activity will net primogems in increments of 10, for a potential total of 60. There are 360 days in a year\n",
    "    dailyGems= 360 * ra.randrange(0, 60, 10)\n",
    "    #Each spiral Abyss level will net a one time reward of 300 primogems. There are 8 levels. \n",
    "    spiralAbyss = 300 * ra.randrange(0, 3, 1)\n",
    "    #Free to play battle pass awards grant 5 occurences of 160 primogems. The Casual Free to Play may not obtain all 5.There are 9 40 day periods in a year\n",
    "    battlePass = 9 * 160 * ra.randrange(0, 5, 1)\n",
    "    potentialSum += dailyGems + spiralAbyss + battlePass\n",
    "    # primo.loc[i, 'Sum'] = dailyGems + spiralAbyss + battlePass\n",
    "# sns.histplot(data= primo, x=\"Sum\").set_title('Frequency of Potential Sums')\n",
    "averageF2P = potentialSum//iterations\n",
    "print('Potential yearly sum from Casual F2P activities: ' , averageF2P)"
   ]
  },
  {
   "cell_type": "markdown",
   "metadata": {},
   "source": [
    "### Hardcore Free to Play\n",
    "The Hardcore F2P may pursue the following actities:\n",
    "* Daily Commissions: Daily activities that may net the player up to 60 primogems. \n",
    "* Spiral Abyss: Each spiral Abyss level will net a one time reward of 300 primogems. There are 8 levels. \n",
    "* Battle Pass Awards: Occurs every 40 days, netting up to 5 awards, each 160 primogems each\n",
    "\n",
    "To best capture how the Hardcore F2P may play, we will run a randomize function on ***some*** the values above, since even a hardcore free-to-play may not work towards, or even be able to attain the max primogems possible. We will simulate this 10,000 times and take the average to attain a more precise sum."
   ]
  },
  {
   "cell_type": "code",
   "execution_count": 12,
   "metadata": {},
   "outputs": [
    {
     "name": "stdout",
     "output_type": "stream",
     "text": [
      "Potential yearly sum from Hardcore F2P activities:  30294\n"
     ]
    }
   ],
   "source": [
    "potentialSum = 0\n",
    "for i in range (iterations):\n",
    "    #Each daily activity will net primogems in increments of 10, for a potential total of 60.The Hardcore F2P will finish all daily commissions There are 360 days in a year\n",
    "    dailyGems= 360 * 60\n",
    "    #Each spiral Abyss level will net a one time reward of 300 primogems. There are 9 levels. Hardcore to F2P may play from at least 3 levels to 8 levels, since the upper levels are extremely         difficult\n",
    "    spiralAbyss = 300 * ra.randrange(3, 8, 1)\n",
    "    #Free to play battle pass awards grant 5 occurences of 160 primogems. \n",
    "    battlePass = 9 * 160 * 5\n",
    "    potentialSum += dailyGems + spiralAbyss + battlePass\n",
    "averageHardF2P = potentialSum//iterations\n",
    "print('Potential yearly sum from Hardcore F2P activities: ' , averageHardF2P)"
   ]
  },
  {
   "cell_type": "markdown",
   "metadata": {},
   "source": [
    "### Casual Whales\n",
    "The Casual Whale may pursue the following actities:\n",
    "* Daily Commissions: Daily activities that may net the player up to 60 primogems. \n",
    "* Spiral Abyss: Each spiral Abyss level will net a one time reward of 300 primogems. There are 8 levels. \n",
    "* Premium Battle Pass Awards: Occurs every 40 days, netting up to 9 awards, each 160 primogems each. This costs ***$9.99*** per Battle Pass period\n",
    "* Monthly Pass: This will award the player 90 primogems per day. This costs ***$4.99*** per month.\n",
    "\n",
    "To best capture how the Casual Whales may play, we will run a randomize function on ***some*** the values above, since a casual whale may not work towards attaining the max primogems possible. We will simulate this 10,000 times and take the average to attain a more precise sum."
   ]
  },
  {
   "cell_type": "code",
   "execution_count": 13,
   "metadata": {},
   "outputs": [
    {
     "name": "stdout",
     "output_type": "stream",
     "text": [
      "Potential yearly sum from Casual Whale activities:  62370\n"
     ]
    }
   ],
   "source": [
    "potentialSum = 0\n",
    "for i in range (iterations):\n",
    "    #Each daily activity will net primogems in increments of 10, for a potential total of 60. There are 360 days in a year\n",
    "    dailyGems= 360 * ra.randrange(0, 60, 10)\n",
    "    #Each spiral Abyss level will net a one time reward of 300 primogems. There are 9 levels. Like Hardcore to F2P, Casual Whales may play from at least 3 levels to 8 levels, since the upper          levels are extremely difficult\n",
    "    spiralAbyss = 300 * ra.randrange(3, 8, 1)\n",
    "    #Premium battle pass awards grant 9 occurences of 160 primogems. The last premium awards an extra 680 primogems\n",
    "    battlePass = 9 * ((160 * 9) + 680)\n",
    "    #90 primogems per day.\n",
    "    monthlyPass = 90 * 365\n",
    "    potentialSum += dailyGems + spiralAbyss + battlePass + monthlyPass\n",
    "averageWhale = potentialSum//iterations\n",
    "print('Potential yearly sum from Casual Whale activities: ' , averageWhale)"
   ]
  },
  {
   "cell_type": "markdown",
   "metadata": {},
   "source": [
    "### Hardcore Whales\n",
    "The Hardcore Whale may pursue the following actities:\n",
    "* Daily Commissions: Daily activities that may net the player up to 60 primogems. \n",
    "* Spiral Abyss: Each spiral Abyss level will net a one time reward of 300 primogems. There are 8 levels. \n",
    "* Premium Battle Pass Awards: Occurs every 40 days, netting up to 9 awards, each 160 primogems each. This costs ***$19.99*** per Battle Pass period because the Hardcore whale will purchase the more expensive version, which gives free progress (basically the player can skip levels and advanced quicker)\n",
    "* Monthly Pass: This will award the player 90 primogems per day. This costs ***$4.99*** per month.\n",
    "\n",
    "Hardcore Whales will attain everything possible from these sources."
   ]
  },
  {
   "cell_type": "code",
   "execution_count": 14,
   "metadata": {},
   "outputs": [
    {
     "name": "stdout",
     "output_type": "stream",
     "text": [
      "Potential yearly sum from Casual Whale activities:  75930\n"
     ]
    }
   ],
   "source": [
    "potentialSum = 0\n",
    "for i in range (iterations):\n",
    "    #Each daily activity will net primogems in increments of 10, for a potential total of 60. There are 360 days in a year\n",
    "    dailyGems= 360 * 60\n",
    "    #Each spiral Abyss level will net a one time reward of 300 primogems. There are 9 levels. Like Hardcore to F2P, Casual Whales may play from at least 3 levels to 8 levels, since the upper          levels are extremely difficult\n",
    "    spiralAbyss = 300 * 8\n",
    "    #Premium battle pass awards grant 9 occurences of 160 primogems. The last premium awards an extra 680 primogems\n",
    "    battlePass = 9 * ((160 * 9) + 680)\n",
    "    #90 primogems per day.\n",
    "    monthlyPass = 90 * 365\n",
    "    potentialSum += dailyGems + spiralAbyss + battlePass + monthlyPass\n",
    "averageHardWhale = potentialSum//iterations\n",
    "print('Potential yearly sum from Casual Whale activities: ' , averageHardWhale)"
   ]
  },
  {
   "cell_type": "markdown",
   "metadata": {},
   "source": [
    "<center><img src=\"https://static2.gamerantimages.com/wordpress/wp-content/uploads/2020/10/genshin-impact-five-star-characters.jpg?q=50&fit=crop&w=960&h=500\" width = \"500\" height= \"250\"></center>"
   ]
  },
  {
   "cell_type": "markdown",
   "metadata": {},
   "source": [
    "## Primogems, Rolls, Costs: Got to Catch Them All?"
   ]
  },
  {
   "cell_type": "markdown",
   "metadata": {},
   "source": [
    "To summarize, here are the potential year sum for each category of player:\n"
   ]
  },
  {
   "cell_type": "code",
   "execution_count": 15,
   "metadata": {},
   "outputs": [
    {
     "name": "stdout",
     "output_type": "stream",
     "text": [
      "Potential yearly sum from Casual F2P activities:  12154\n",
      "Potential yearly sum from Hardcore F2P activities:  30294\n",
      "Potential yearly sum from Casual Whale activities:  62370\n",
      "Potential yearly sum from Hardcore Whale activities:  75930\n"
     ]
    }
   ],
   "source": [
    "print('Potential yearly sum from Casual F2P activities: ' , averageF2P)\n",
    "print('Potential yearly sum from Hardcore F2P activities: ' , averageHardF2P)\n",
    "print('Potential yearly sum from Casual Whale activities: ' , averageWhale)\n",
    "print('Potential yearly sum from Hardcore Whale activities: ' , averageHardWhale)"
   ]
  },
  {
   "cell_type": "markdown",
   "metadata": {},
   "source": [
    "About how many rolls do theses values covert to?"
   ]
  },
  {
   "cell_type": "code",
   "execution_count": 16,
   "metadata": {},
   "outputs": [
    {
     "name": "stdout",
     "output_type": "stream",
     "text": [
      "Casual F2P:  75  rolls\n",
      "Hardcore F2P:  189  rolls\n",
      "Casual Whale:  389  rolls\n",
      "Hardcore Whale  474  rolls\n"
     ]
    }
   ],
   "source": [
    "print('Casual F2P: ' , averageF2P//160, ' rolls') \n",
    "print('Hardcore F2P: ' , averageHardF2P//160, ' rolls') \n",
    "print('Casual Whale: ' , averageWhale//160, ' rolls') \n",
    "print('Hardcore Whale ' , averageHardWhale//160, ' rolls') "
   ]
  },
  {
   "cell_type": "markdown",
   "metadata": {},
   "source": [
    "How many 5 Star Items can this translate into? We will use our simulated average of 55 rolls per 5 star as a upper bound, and our linear model's predicted 70 rolls per 5 star as a lower bound."
   ]
  },
  {
   "cell_type": "code",
   "execution_count": 17,
   "metadata": {},
   "outputs": [
    {
     "name": "stdout",
     "output_type": "stream",
     "text": [
      "Casual F2P:  1 to 1  5 star items\n",
      "Hardcore F2P:  3 to 3  5 star items\n",
      "Casual Whale:  6 to 7  5 star items\n",
      "Hardcore Whale  7 to 9  5 star items\n"
     ]
    }
   ],
   "source": [
    "print('Casual F2P: ' , round((averageF2P//160)/70), 'to', round((averageF2P//160)/55), ' 5 star items') \n",
    "print('Hardcore F2P: ' , round((averageHardF2P//160)/70), 'to', round((averageHardF2P//160)/55), ' 5 star items') \n",
    "print('Casual Whale: ' , round((averageWhale//160)/70), 'to', round((averageWhale//160)/55), ' 5 star items')  \n",
    "print('Hardcore Whale ' , round((averageHardWhale//160)/70), 'to', round((averageHardWhale//160)/55), ' 5 star items')  "
   ]
  },
  {
   "cell_type": "markdown",
   "metadata": {},
   "source": [
    "Based the calculations above, even for whales, it takes about a ***year*** to attain not even all of the 5 star characters guranteed. Thus, it is often the case whales would not only buy the battle pass and monthly pass, but they have a chance of purchasing additional primogems seperately. Note the unit cost of a primo gem is 0.0154 USD.\n",
    "\n",
    "We will compute a new set of values that captures, **only in lucky sernarios**, the amount of money whales may spend on obtain a certain number or certain selection of 5 star characters."
   ]
  },
  {
   "cell_type": "markdown",
   "metadata": {},
   "source": [
    "### Casual Whales\n",
    "* They have bought the Monthly pass for each month: $4.99 per month\n",
    "* They have bought the Premium Battle pass for each 40 day period: $9.99 per period\n",
    "* They are determined to obtain  1 particular 5 star character. They are **9** 5 star characters in total. As a result, there is a 1/9 chance of obtain the once you want. Like what we computed before, the expected number of times until you get the one you want is:\n",
    "\n",
    "\\begin{equation}\n",
    "E(times) = 1/ p\n",
    "\\end{equation}\n",
    "\\begin{equation}\n",
    "E(times) = 1/(1/9) \\approx 9 \\;times\n",
    "\\end{equation}\n"
   ]
  },
  {
   "cell_type": "markdown",
   "metadata": {},
   "source": [
    "This means that I expected to roll 9 5 Star Character until one obtains the character he/she wants. Since the expected number of rolls per 5 star was computed to be 63, we can calculate the costs as follows:"
   ]
  },
  {
   "cell_type": "code",
   "execution_count": 18,
   "metadata": {},
   "outputs": [
    {
     "name": "stdout",
     "output_type": "stream",
     "text": [
      "Potential (Lucky Case Senario) Cost:  1546.878  USD\n"
     ]
    }
   ],
   "source": [
    "monthyPassSum = 12 * 4.99\n",
    "#There are 9 40 day periods in a year\n",
    "battlePassSum = 9 * 9.99\n",
    "#160 primogems per roll, times expected value of rolls per 5 star, times the expected value of 5 stars to roll for until one gets the particular character, times the unit cost of a primogem\n",
    "primogemSum = 160 * 63 * 9 * .0154\n",
    "print('Potential (Lucky Case Senario) Cost: ' , (monthyPassSum + battlePassSum + primogemSum), ' USD')"
   ]
  },
  {
   "cell_type": "markdown",
   "metadata": {},
   "source": [
    "### Hardcore Whales\n",
    "* They have bought the Monthly pass for each month: $4.99 per month\n",
    "* They have bought the Advanced Premium Battle pass for each 40 day period: $19.99 per period\n",
    "* They are determined to obtain  all 9 5 star characters. \n"
   ]
  },
  {
   "cell_type": "code",
   "execution_count": 19,
   "metadata": {},
   "outputs": [
    {
     "name": "stdout",
     "output_type": "stream",
     "text": [
      "Potential (Lucky Case Senario) Cost:  12813.582  USD\n"
     ]
    }
   ],
   "source": [
    "monthyPassSum = 12 * 4.99\n",
    "#There are 9 40 day periods in a year\n",
    "battlePassSum = 9 * 19.99\n",
    "#160 primogems per roll, times expected value of rolls per 5 star, times the expected value of 5 stars to roll for until one gets the particular character, times the unit cost of a primogem.\n",
    "#This is a multiplied 9 times, since the Hardcore whale will want to obtain all 9 Characters\n",
    "primogemSum = (160 * 63 * 9 * .0154) * 9\n",
    "print('Potential (Lucky Case Senario) Cost: ' , (monthyPassSum + battlePassSum + primogemSum), ' USD')"
   ]
  },
  {
   "cell_type": "markdown",
   "metadata": {},
   "source": [
    "This is a disturbance in the Force. Potentially, a whale may spend thousands of dollars on Genshin Impact, a Free to Play game, in one or more sittings, not throughout the year. It is important to note that it is not guarenteed to attain a unique 5 star character every time you attain a 5 star; there are repeats. Furthermore, whales may not be finished after attaining all 9 characters, for they can use to repeated 5 star character drops to level up those respective drops, for a total of 6 times. A player may go for 6 drops per 9 5 star character (54 times). \n",
    "\n",
    "These...calculations may seem like speculation; who would rationally spend this amount of money: \n",
    "\n",
    "[Mtashed's $2000 Genshin Impact Blowout](https://www.polygon.com/2020/10/30/21540515/genshin-impact-gacha-f2p-mtash-tectone-wish-giving-up-youtube-mihoyo-ps4-whales)\n",
    "\n",
    "[Tectone Spends more than $5000 on Genshin Impact](https://www.youtube.com/watch?v=Jiubf8FbvO8)\n",
    "\n",
    "Most likely, these are not the only examples. Otherwise, how else could Genshin Impact generate [$400 Million Dollars](https://sensortower.com/blog/genshin-impact-first-two-months-revenue#:~:text=On%20average%2C%20Genshin%20Impact%20has,30.5%20percent%20of%20total%20revenue.)?"
   ]
  },
  {
   "cell_type": "markdown",
   "metadata": {},
   "source": [
    "## Potential Economic Impact \n",
    "\n",
    "Given that we have now calculated how much money on average would be needed for each target demographic, now lets see how much pursuing any one of those paths will impact someone's economic position. For this section, we used data gathered from the 2018 - 2019 US census on median income, and compared them to the values calculated above. "
   ]
  },
  {
   "cell_type": "code",
   "execution_count": 24,
   "metadata": {},
   "outputs": [
    {
     "data": {
      "text/html": [
       "<div>\n",
       "<style scoped>\n",
       "    .dataframe tbody tr th:only-of-type {\n",
       "        vertical-align: middle;\n",
       "    }\n",
       "\n",
       "    .dataframe tbody tr th {\n",
       "        vertical-align: top;\n",
       "    }\n",
       "\n",
       "    .dataframe thead th {\n",
       "        text-align: right;\n",
       "    }\n",
       "</style>\n",
       "<table border=\"1\" class=\"dataframe\">\n",
       "  <thead>\n",
       "    <tr style=\"text-align: right;\">\n",
       "      <th></th>\n",
       "      <th>Characteristic</th>\n",
       "      <th>Number in Thousands 2018</th>\n",
       "      <th>Median income Estimate</th>\n",
       "      <th>Median income Margin of Error</th>\n",
       "      <th>Number in Thousands 2019</th>\n",
       "      <th>Median Income Estimate</th>\n",
       "      <th>Median Income Margin of Error</th>\n",
       "      <th>Percent change from median income 2018 - 2019 estimate</th>\n",
       "      <th>Percent change from median income 2018 - 2019 margin of error</th>\n",
       "    </tr>\n",
       "  </thead>\n",
       "  <tbody>\n",
       "    <tr>\n",
       "      <th>2</th>\n",
       "      <td>All households</td>\n",
       "      <td>128579.0</td>\n",
       "      <td>64324.0</td>\n",
       "      <td>704.0</td>\n",
       "      <td>128451.0</td>\n",
       "      <td>68703.0</td>\n",
       "      <td>904.0</td>\n",
       "      <td>6.8</td>\n",
       "      <td>1.55</td>\n",
       "    </tr>\n",
       "    <tr>\n",
       "      <th>4</th>\n",
       "      <td>Family households</td>\n",
       "      <td>83482.0</td>\n",
       "      <td>82124.0</td>\n",
       "      <td>676.0</td>\n",
       "      <td>83677.0</td>\n",
       "      <td>88149.0</td>\n",
       "      <td>1113.0</td>\n",
       "      <td>7.3</td>\n",
       "      <td>1.47</td>\n",
       "    </tr>\n",
       "    <tr>\n",
       "      <th>5</th>\n",
       "      <td>...Married-couple</td>\n",
       "      <td>61959.0</td>\n",
       "      <td>95351.0</td>\n",
       "      <td>1145.0</td>\n",
       "      <td>62342.0</td>\n",
       "      <td>102308.0</td>\n",
       "      <td>1022.0</td>\n",
       "      <td>7.3</td>\n",
       "      <td>1.53</td>\n",
       "    </tr>\n",
       "    <tr>\n",
       "      <th>6</th>\n",
       "      <td>...Female householder, no spouse present</td>\n",
       "      <td>15043.0</td>\n",
       "      <td>45946.0</td>\n",
       "      <td>1136.0</td>\n",
       "      <td>14832.0</td>\n",
       "      <td>48098.0</td>\n",
       "      <td>985.0</td>\n",
       "      <td>4.7</td>\n",
       "      <td>2.92</td>\n",
       "    </tr>\n",
       "    <tr>\n",
       "      <th>7</th>\n",
       "      <td>...Male householder, no spouse present</td>\n",
       "      <td>6480.0</td>\n",
       "      <td>62632.0</td>\n",
       "      <td>1269.0</td>\n",
       "      <td>6503.0</td>\n",
       "      <td>69244.0</td>\n",
       "      <td>2988.0</td>\n",
       "      <td>10.6</td>\n",
       "      <td>5.05</td>\n",
       "    </tr>\n",
       "    <tr>\n",
       "      <th>8</th>\n",
       "      <td>Nonfamily households</td>\n",
       "      <td>45096.0</td>\n",
       "      <td>38813.0</td>\n",
       "      <td>840.0</td>\n",
       "      <td>44774.0</td>\n",
       "      <td>41232.0</td>\n",
       "      <td>466.0</td>\n",
       "      <td>6.2</td>\n",
       "      <td>2.28</td>\n",
       "    </tr>\n",
       "    <tr>\n",
       "      <th>9</th>\n",
       "      <td>...Female householder</td>\n",
       "      <td>23515.0</td>\n",
       "      <td>32587.0</td>\n",
       "      <td>679.0</td>\n",
       "      <td>23470.0</td>\n",
       "      <td>34612.0</td>\n",
       "      <td>851.0</td>\n",
       "      <td>6.2</td>\n",
       "      <td>3.05</td>\n",
       "    </tr>\n",
       "    <tr>\n",
       "      <th>10</th>\n",
       "      <td>...Male householder</td>\n",
       "      <td>21582.0</td>\n",
       "      <td>46583.0</td>\n",
       "      <td>884.0</td>\n",
       "      <td>21304.0</td>\n",
       "      <td>48496.0</td>\n",
       "      <td>1252.0</td>\n",
       "      <td>4.1</td>\n",
       "      <td>3.13</td>\n",
       "    </tr>\n",
       "    <tr>\n",
       "      <th>12</th>\n",
       "      <td>White</td>\n",
       "      <td>100528.0</td>\n",
       "      <td>68156.0</td>\n",
       "      <td>657.0</td>\n",
       "      <td>100568.0</td>\n",
       "      <td>72204.0</td>\n",
       "      <td>800.0</td>\n",
       "      <td>5.9</td>\n",
       "      <td>1.25</td>\n",
       "    </tr>\n",
       "    <tr>\n",
       "      <th>13</th>\n",
       "      <td>...White, not Hispanic</td>\n",
       "      <td>84727.0</td>\n",
       "      <td>71922.0</td>\n",
       "      <td>664.0</td>\n",
       "      <td>84868.0</td>\n",
       "      <td>76057.0</td>\n",
       "      <td>876.0</td>\n",
       "      <td>5.7</td>\n",
       "      <td>1.25</td>\n",
       "    </tr>\n",
       "    <tr>\n",
       "      <th>14</th>\n",
       "      <td>Black</td>\n",
       "      <td>17167.0</td>\n",
       "      <td>42110.0</td>\n",
       "      <td>922.0</td>\n",
       "      <td>17054.0</td>\n",
       "      <td>45438.0</td>\n",
       "      <td>1212.0</td>\n",
       "      <td>7.9</td>\n",
       "      <td>3.51</td>\n",
       "    </tr>\n",
       "    <tr>\n",
       "      <th>15</th>\n",
       "      <td>Asian</td>\n",
       "      <td>6981.0</td>\n",
       "      <td>88774.0</td>\n",
       "      <td>2856.0</td>\n",
       "      <td>6853.0</td>\n",
       "      <td>98174.0</td>\n",
       "      <td>3068.0</td>\n",
       "      <td>10.6</td>\n",
       "      <td>5.24</td>\n",
       "    </tr>\n",
       "    <tr>\n",
       "      <th>16</th>\n",
       "      <td>Hispanic (any race)</td>\n",
       "      <td>17758.0</td>\n",
       "      <td>52382.0</td>\n",
       "      <td>748.0</td>\n",
       "      <td>17667.0</td>\n",
       "      <td>56113.0</td>\n",
       "      <td>1173.0</td>\n",
       "      <td>7.1</td>\n",
       "      <td>2.30</td>\n",
       "    </tr>\n",
       "    <tr>\n",
       "      <th>18</th>\n",
       "      <td>Under 65 years</td>\n",
       "      <td>94423.0</td>\n",
       "      <td>72958.0</td>\n",
       "      <td>584.0</td>\n",
       "      <td>93524.0</td>\n",
       "      <td>77873.0</td>\n",
       "      <td>1151.0</td>\n",
       "      <td>6.7</td>\n",
       "      <td>1.58</td>\n",
       "    </tr>\n",
       "    <tr>\n",
       "      <th>19</th>\n",
       "      <td>...15 to 24 years</td>\n",
       "      <td>6199.0</td>\n",
       "      <td>44320.0</td>\n",
       "      <td>2738.0</td>\n",
       "      <td>5406.0</td>\n",
       "      <td>47934.0</td>\n",
       "      <td>2132.0</td>\n",
       "      <td>8.2</td>\n",
       "      <td>8.15</td>\n",
       "    </tr>\n",
       "    <tr>\n",
       "      <th>20</th>\n",
       "      <td>...25 to 34 years</td>\n",
       "      <td>20611.0</td>\n",
       "      <td>67084.0</td>\n",
       "      <td>1095.0</td>\n",
       "      <td>20424.0</td>\n",
       "      <td>70283.0</td>\n",
       "      <td>1406.0</td>\n",
       "      <td>4.8</td>\n",
       "      <td>2.42</td>\n",
       "    </tr>\n",
       "    <tr>\n",
       "      <th>21</th>\n",
       "      <td>...35 to 44 years</td>\n",
       "      <td>21370.0</td>\n",
       "      <td>82206.0</td>\n",
       "      <td>1090.0</td>\n",
       "      <td>21432.0</td>\n",
       "      <td>88858.0</td>\n",
       "      <td>2531.0</td>\n",
       "      <td>8.1</td>\n",
       "      <td>3.01</td>\n",
       "    </tr>\n",
       "    <tr>\n",
       "      <th>22</th>\n",
       "      <td>...45 to 54 years</td>\n",
       "      <td>22071.0</td>\n",
       "      <td>85994.0</td>\n",
       "      <td>1878.0</td>\n",
       "      <td>21659.0</td>\n",
       "      <td>92221.0</td>\n",
       "      <td>1983.0</td>\n",
       "      <td>7.2</td>\n",
       "      <td>3.17</td>\n",
       "    </tr>\n",
       "    <tr>\n",
       "      <th>23</th>\n",
       "      <td>...55 to 64 years</td>\n",
       "      <td>24172.0</td>\n",
       "      <td>70200.0</td>\n",
       "      <td>1470.0</td>\n",
       "      <td>24603.0</td>\n",
       "      <td>75686.0</td>\n",
       "      <td>1482.0</td>\n",
       "      <td>7.8</td>\n",
       "      <td>2.71</td>\n",
       "    </tr>\n",
       "    <tr>\n",
       "      <th>24</th>\n",
       "      <td>65 years and older</td>\n",
       "      <td>34156.0</td>\n",
       "      <td>44487.0</td>\n",
       "      <td>831.0</td>\n",
       "      <td>34927.0</td>\n",
       "      <td>47357.0</td>\n",
       "      <td>911.0</td>\n",
       "      <td>6.5</td>\n",
       "      <td>2.57</td>\n",
       "    </tr>\n",
       "    <tr>\n",
       "      <th>26</th>\n",
       "      <td>Native-born</td>\n",
       "      <td>108560.0</td>\n",
       "      <td>65407.0</td>\n",
       "      <td>725.0</td>\n",
       "      <td>108851.0</td>\n",
       "      <td>69474.0</td>\n",
       "      <td>960.0</td>\n",
       "      <td>6.2</td>\n",
       "      <td>1.57</td>\n",
       "    </tr>\n",
       "    <tr>\n",
       "      <th>27</th>\n",
       "      <td>Foreign-born</td>\n",
       "      <td>20019.0</td>\n",
       "      <td>59841.0</td>\n",
       "      <td>1616.0</td>\n",
       "      <td>19600.0</td>\n",
       "      <td>64900.0</td>\n",
       "      <td>1930.0</td>\n",
       "      <td>8.5</td>\n",
       "      <td>4.19</td>\n",
       "    </tr>\n",
       "    <tr>\n",
       "      <th>28</th>\n",
       "      <td>...Naturalized citizen</td>\n",
       "      <td>11043.0</td>\n",
       "      <td>66707.0</td>\n",
       "      <td>2292.0</td>\n",
       "      <td>11208.0</td>\n",
       "      <td>71538.0</td>\n",
       "      <td>2040.0</td>\n",
       "      <td>7.2</td>\n",
       "      <td>4.69</td>\n",
       "    </tr>\n",
       "    <tr>\n",
       "      <th>29</th>\n",
       "      <td>...Not a citizen</td>\n",
       "      <td>8976.0</td>\n",
       "      <td>52885.0</td>\n",
       "      <td>1072.0</td>\n",
       "      <td>8392.0</td>\n",
       "      <td>57668.0</td>\n",
       "      <td>2598.0</td>\n",
       "      <td>9.0</td>\n",
       "      <td>4.94</td>\n",
       "    </tr>\n",
       "    <tr>\n",
       "      <th>31</th>\n",
       "      <td>Northeast</td>\n",
       "      <td>22054.0</td>\n",
       "      <td>71383.0</td>\n",
       "      <td>1920.0</td>\n",
       "      <td>22031.0</td>\n",
       "      <td>76221.0</td>\n",
       "      <td>1952.0</td>\n",
       "      <td>6.8</td>\n",
       "      <td>3.00</td>\n",
       "    </tr>\n",
       "    <tr>\n",
       "      <th>32</th>\n",
       "      <td>Midwest</td>\n",
       "      <td>27686.0</td>\n",
       "      <td>65230.0</td>\n",
       "      <td>1471.0</td>\n",
       "      <td>27757.0</td>\n",
       "      <td>68354.0</td>\n",
       "      <td>1824.0</td>\n",
       "      <td>4.8</td>\n",
       "      <td>3.10</td>\n",
       "    </tr>\n",
       "    <tr>\n",
       "      <th>33</th>\n",
       "      <td>South</td>\n",
       "      <td>49743.0</td>\n",
       "      <td>58337.0</td>\n",
       "      <td>836.0</td>\n",
       "      <td>49486.0</td>\n",
       "      <td>61884.0</td>\n",
       "      <td>766.0</td>\n",
       "      <td>6.1</td>\n",
       "      <td>1.82</td>\n",
       "    </tr>\n",
       "    <tr>\n",
       "      <th>34</th>\n",
       "      <td>West</td>\n",
       "      <td>29096.0</td>\n",
       "      <td>70779.0</td>\n",
       "      <td>1624.0</td>\n",
       "      <td>29177.0</td>\n",
       "      <td>75769.0</td>\n",
       "      <td>1244.0</td>\n",
       "      <td>7.0</td>\n",
       "      <td>2.58</td>\n",
       "    </tr>\n",
       "    <tr>\n",
       "      <th>36</th>\n",
       "      <td>Inside metropolitan statistical areas</td>\n",
       "      <td>110789.0</td>\n",
       "      <td>67363.0</td>\n",
       "      <td>620.0</td>\n",
       "      <td>110679.0</td>\n",
       "      <td>71961.0</td>\n",
       "      <td>699.0</td>\n",
       "      <td>6.8</td>\n",
       "      <td>1.29</td>\n",
       "    </tr>\n",
       "    <tr>\n",
       "      <th>37</th>\n",
       "      <td>...Inside principal cities</td>\n",
       "      <td>42983.0</td>\n",
       "      <td>60434.0</td>\n",
       "      <td>1245.0</td>\n",
       "      <td>42992.0</td>\n",
       "      <td>63745.0</td>\n",
       "      <td>1586.0</td>\n",
       "      <td>5.5</td>\n",
       "      <td>3.01</td>\n",
       "    </tr>\n",
       "    <tr>\n",
       "      <th>38</th>\n",
       "      <td>...Outside principal cities</td>\n",
       "      <td>67806.0</td>\n",
       "      <td>72213.0</td>\n",
       "      <td>771.0</td>\n",
       "      <td>67687.0</td>\n",
       "      <td>77170.0</td>\n",
       "      <td>1021.0</td>\n",
       "      <td>6.9</td>\n",
       "      <td>1.57</td>\n",
       "    </tr>\n",
       "    <tr>\n",
       "      <th>39</th>\n",
       "      <td>Outside metropolitan statistical areas</td>\n",
       "      <td>17790.0</td>\n",
       "      <td>50771.0</td>\n",
       "      <td>1659.0</td>\n",
       "      <td>17772.0</td>\n",
       "      <td>52100.0</td>\n",
       "      <td>1150.0</td>\n",
       "      <td>2.6</td>\n",
       "      <td>2.80</td>\n",
       "    </tr>\n",
       "  </tbody>\n",
       "</table>\n",
       "</div>"
      ],
      "text/plain": [
       "                              Characteristic  Number in Thousands 2018  \\\n",
       "2                             All households                  128579.0   \n",
       "4                          Family households                   83482.0   \n",
       "5                          ...Married-couple                   61959.0   \n",
       "6   ...Female householder, no spouse present                   15043.0   \n",
       "7     ...Male householder, no spouse present                    6480.0   \n",
       "8                       Nonfamily households                   45096.0   \n",
       "9                      ...Female householder                   23515.0   \n",
       "10                       ...Male householder                   21582.0   \n",
       "12                                     White                  100528.0   \n",
       "13                    ...White, not Hispanic                   84727.0   \n",
       "14                                     Black                   17167.0   \n",
       "15                                     Asian                    6981.0   \n",
       "16                       Hispanic (any race)                   17758.0   \n",
       "18                            Under 65 years                   94423.0   \n",
       "19                         ...15 to 24 years                    6199.0   \n",
       "20                         ...25 to 34 years                   20611.0   \n",
       "21                         ...35 to 44 years                   21370.0   \n",
       "22                         ...45 to 54 years                   22071.0   \n",
       "23                         ...55 to 64 years                   24172.0   \n",
       "24                        65 years and older                   34156.0   \n",
       "26                               Native-born                  108560.0   \n",
       "27                              Foreign-born                   20019.0   \n",
       "28                    ...Naturalized citizen                   11043.0   \n",
       "29                          ...Not a citizen                    8976.0   \n",
       "31                                 Northeast                   22054.0   \n",
       "32                                   Midwest                   27686.0   \n",
       "33                                     South                   49743.0   \n",
       "34                                      West                   29096.0   \n",
       "36     Inside metropolitan statistical areas                  110789.0   \n",
       "37                ...Inside principal cities                   42983.0   \n",
       "38               ...Outside principal cities                   67806.0   \n",
       "39    Outside metropolitan statistical areas                   17790.0   \n",
       "\n",
       "    Median income Estimate  Median income Margin of Error  \\\n",
       "2                  64324.0                          704.0   \n",
       "4                  82124.0                          676.0   \n",
       "5                  95351.0                         1145.0   \n",
       "6                  45946.0                         1136.0   \n",
       "7                  62632.0                         1269.0   \n",
       "8                  38813.0                          840.0   \n",
       "9                  32587.0                          679.0   \n",
       "10                 46583.0                          884.0   \n",
       "12                 68156.0                          657.0   \n",
       "13                 71922.0                          664.0   \n",
       "14                 42110.0                          922.0   \n",
       "15                 88774.0                         2856.0   \n",
       "16                 52382.0                          748.0   \n",
       "18                 72958.0                          584.0   \n",
       "19                 44320.0                         2738.0   \n",
       "20                 67084.0                         1095.0   \n",
       "21                 82206.0                         1090.0   \n",
       "22                 85994.0                         1878.0   \n",
       "23                 70200.0                         1470.0   \n",
       "24                 44487.0                          831.0   \n",
       "26                 65407.0                          725.0   \n",
       "27                 59841.0                         1616.0   \n",
       "28                 66707.0                         2292.0   \n",
       "29                 52885.0                         1072.0   \n",
       "31                 71383.0                         1920.0   \n",
       "32                 65230.0                         1471.0   \n",
       "33                 58337.0                          836.0   \n",
       "34                 70779.0                         1624.0   \n",
       "36                 67363.0                          620.0   \n",
       "37                 60434.0                         1245.0   \n",
       "38                 72213.0                          771.0   \n",
       "39                 50771.0                         1659.0   \n",
       "\n",
       "    Number in Thousands 2019  Median Income Estimate  \\\n",
       "2                   128451.0                 68703.0   \n",
       "4                    83677.0                 88149.0   \n",
       "5                    62342.0                102308.0   \n",
       "6                    14832.0                 48098.0   \n",
       "7                     6503.0                 69244.0   \n",
       "8                    44774.0                 41232.0   \n",
       "9                    23470.0                 34612.0   \n",
       "10                   21304.0                 48496.0   \n",
       "12                  100568.0                 72204.0   \n",
       "13                   84868.0                 76057.0   \n",
       "14                   17054.0                 45438.0   \n",
       "15                    6853.0                 98174.0   \n",
       "16                   17667.0                 56113.0   \n",
       "18                   93524.0                 77873.0   \n",
       "19                    5406.0                 47934.0   \n",
       "20                   20424.0                 70283.0   \n",
       "21                   21432.0                 88858.0   \n",
       "22                   21659.0                 92221.0   \n",
       "23                   24603.0                 75686.0   \n",
       "24                   34927.0                 47357.0   \n",
       "26                  108851.0                 69474.0   \n",
       "27                   19600.0                 64900.0   \n",
       "28                   11208.0                 71538.0   \n",
       "29                    8392.0                 57668.0   \n",
       "31                   22031.0                 76221.0   \n",
       "32                   27757.0                 68354.0   \n",
       "33                   49486.0                 61884.0   \n",
       "34                   29177.0                 75769.0   \n",
       "36                  110679.0                 71961.0   \n",
       "37                   42992.0                 63745.0   \n",
       "38                   67687.0                 77170.0   \n",
       "39                   17772.0                 52100.0   \n",
       "\n",
       "    Median Income Margin of Error  \\\n",
       "2                           904.0   \n",
       "4                          1113.0   \n",
       "5                          1022.0   \n",
       "6                           985.0   \n",
       "7                          2988.0   \n",
       "8                           466.0   \n",
       "9                           851.0   \n",
       "10                         1252.0   \n",
       "12                          800.0   \n",
       "13                          876.0   \n",
       "14                         1212.0   \n",
       "15                         3068.0   \n",
       "16                         1173.0   \n",
       "18                         1151.0   \n",
       "19                         2132.0   \n",
       "20                         1406.0   \n",
       "21                         2531.0   \n",
       "22                         1983.0   \n",
       "23                         1482.0   \n",
       "24                          911.0   \n",
       "26                          960.0   \n",
       "27                         1930.0   \n",
       "28                         2040.0   \n",
       "29                         2598.0   \n",
       "31                         1952.0   \n",
       "32                         1824.0   \n",
       "33                          766.0   \n",
       "34                         1244.0   \n",
       "36                          699.0   \n",
       "37                         1586.0   \n",
       "38                         1021.0   \n",
       "39                         1150.0   \n",
       "\n",
       "    Percent change from median income 2018 - 2019 estimate  \\\n",
       "2                                                 6.8        \n",
       "4                                                 7.3        \n",
       "5                                                 7.3        \n",
       "6                                                 4.7        \n",
       "7                                                10.6        \n",
       "8                                                 6.2        \n",
       "9                                                 6.2        \n",
       "10                                                4.1        \n",
       "12                                                5.9        \n",
       "13                                                5.7        \n",
       "14                                                7.9        \n",
       "15                                               10.6        \n",
       "16                                                7.1        \n",
       "18                                                6.7        \n",
       "19                                                8.2        \n",
       "20                                                4.8        \n",
       "21                                                8.1        \n",
       "22                                                7.2        \n",
       "23                                                7.8        \n",
       "24                                                6.5        \n",
       "26                                                6.2        \n",
       "27                                                8.5        \n",
       "28                                                7.2        \n",
       "29                                                9.0        \n",
       "31                                                6.8        \n",
       "32                                                4.8        \n",
       "33                                                6.1        \n",
       "34                                                7.0        \n",
       "36                                                6.8        \n",
       "37                                                5.5        \n",
       "38                                                6.9        \n",
       "39                                                2.6        \n",
       "\n",
       "    Percent change from median income 2018 - 2019 margin of error  \n",
       "2                                                1.55              \n",
       "4                                                1.47              \n",
       "5                                                1.53              \n",
       "6                                                2.92              \n",
       "7                                                5.05              \n",
       "8                                                2.28              \n",
       "9                                                3.05              \n",
       "10                                               3.13              \n",
       "12                                               1.25              \n",
       "13                                               1.25              \n",
       "14                                               3.51              \n",
       "15                                               5.24              \n",
       "16                                               2.30              \n",
       "18                                               1.58              \n",
       "19                                               8.15              \n",
       "20                                               2.42              \n",
       "21                                               3.01              \n",
       "22                                               3.17              \n",
       "23                                               2.71              \n",
       "24                                               2.57              \n",
       "26                                               1.57              \n",
       "27                                               4.19              \n",
       "28                                               4.69              \n",
       "29                                               4.94              \n",
       "31                                               3.00              \n",
       "32                                               3.10              \n",
       "33                                               1.82              \n",
       "34                                               2.58              \n",
       "36                                               1.29              \n",
       "37                                               3.01              \n",
       "38                                               1.57              \n",
       "39                                               2.80              "
      ]
     },
     "execution_count": 24,
     "metadata": {},
     "output_type": "execute_result"
    }
   ],
   "source": [
    "# Clean up the table\n",
    "pd.option_context('display.max_rows', None, 'display.max_columns', None)\n",
    "df = pd.read_excel('tableA1.xlsx')\n",
    "df.columns = ['Characteristic', 'Number in Thousands 2018', 'Median income Estimate', \n",
    "              'Median income Margin of Error', 'Number in Thousands 2019', \n",
    "              'Median Income Estimate', 'Median Income Margin of Error',\n",
    "              'Percent change from median income 2018 - 2019 estimate', \n",
    "              'Percent change from median income 2018 - 2019 margin of error']\n",
    "df = df.dropna()\n",
    "df"
   ]
  },
  {
   "cell_type": "markdown",
   "metadata": {},
   "source": [
    "This table, once cleaned up, still has a lot of data. However, we want to observe a couple demographics for our analysis. \n",
    "\n",
    "First off, age should definetely be something to look at, because the Genshin Impact game, and video games in general, has a greater appeal to children, people in their teens, and young adults. For this reason, we look at age range 15 - 24 and age range 24 - 35, since those ranges best describe the age of the players of Genshin Impact\n",
    "\n",
    "Next, we should consider the familial situation of each player. We do this by looking at married and unmarried males, and married and unmaried females. \n",
    "\n",
    "Finally, we decided to partition the country of America into different regions - Northeast, Midwest, Southwest, and West. This is because the socioeconomic conditions in America vary greatly depending on what region you live in; for example, there is more money councentrated in the Northeast and West than there is in the Midwest, which is still very agrarian, and the Southwest, which does not have as many economic centers of commerce or business.\n",
    "\n",
    "Using these 10 subdivisions, we created pie charts based on all those demographics' median incomes, where we counted how much of their total median income would be spent on the game depending on their playstyle (casual whale or hardcore whale)\n",
    "\n",
    "Below is the function we used to create the pie graphs, where classification is a string that determines which spending habit we want to measure against our chosen demographics:"
   ]
  },
  {
   "cell_type": "code",
   "execution_count": 25,
   "metadata": {},
   "outputs": [],
   "source": [
    "def create_pie_graphs(classification):\n",
    "    \n",
    "    indexes = [6, 7, 9, 10, 19, 20, 31, 32, 33, 34]\n",
    "    labels = 'Spent Cost', 'Other'\n",
    "    \n",
    "    expenditure = 12813.582\n",
    "    if classification == 'casual':\n",
    "        expenditure = 1546.878\n",
    "\n",
    "    fig, axes= plt.subplots(2, 5, figsize = (15, 7))\n",
    "    \n",
    "    for index, (l, ax) in zip(indexes, enumerate(axes.flatten())):\n",
    "        income = df.loc[index, 'Median income Estimate']\n",
    "        percentage1 = (expenditure / income) * 100\n",
    "        difference = 100 - percentage1\n",
    "        \n",
    "        sizes1 = [percentage1, difference]\n",
    "\n",
    "        _, _, autotexts = ax.pie(sizes1, labels=labels, radius = 1.1, \n",
    "                                 explode=(0, 0.10), autopct=\"%.0f%%\", startangle=80)\n",
    "        \n",
    "        graph_name = df.loc[index, 'Characteristic']\n",
    "        graph_name = graph_name.replace('...', '')\n",
    "        graph_name = graph_name.replace(', no spouse present', ' (s)')\n",
    "        ax.set_title(graph_name)\n",
    "        \n",
    "        for i in autotexts:\n",
    "            i.set_color('white')\n",
    "        \n",
    "    plt.show()\n",
    "    \n",
    "\n"
   ]
  },
  {
   "cell_type": "code",
   "execution_count": 26,
   "metadata": {},
   "outputs": [
    {
     "data": {
      "image/png": "[encoded data removed]",
      "text/plain": [
       "<Figure size 1080x504 with 10 Axes>"
      ]
     },
     "metadata": {},
     "output_type": "display_data"
    }
   ],
   "source": [
    "create_pie_graphs('casual')"
   ]
  },
  {
   "cell_type": "markdown",
   "metadata": {},
   "source": [
    "Based on the above graphs, we can see the amount of money spent on Genshin Impact (Blue) is only a small part of each group's expected income. Percentage of money spent on the game is still around 2% to 5% of someone's total income, which, while not a staggering amount, is still a mildly large amount to spend on a single pasttime. It is also worth noting that by a report filed by the US Beurau of Labor, the average percentage of anual income spent on entertainment should average out to be 3% of someone's total anual income. \n",
    "\n",
    "Source: https://www.bls.gov/news.release/cesan.nr0.htm"
   ]
  },
  {
   "cell_type": "code",
   "execution_count": 27,
   "metadata": {},
   "outputs": [
    {
     "data": {
      "image/png": "[encoded data removed]",
      "text/plain": [
       "<Figure size 1080x504 with 10 Axes>"
      ]
     },
     "metadata": {},
     "output_type": "display_data"
    }
   ],
   "source": [
    "create_pie_graphs('hardcore')"
   ]
  },
  {
   "cell_type": "markdown",
   "metadata": {},
   "source": []
  },
  {
   "cell_type": "markdown",
   "metadata": {},
   "source": [
    "Based on the above graphs, we can see the amount of money spent on Genshin Impact (Blue) is a much larger portion of someone's expected income. It is with these graphs that we can really analyze how destructive this type of spending could be. With a range of 18% to as high as 39% of someone's annual income, this is a significant amount of money to spend on a video game. We can also see some more pronounced differences on how this would affect you:\n",
    "\n",
    "* If you live in the Northeast or West, you will be spending a significant amount, but it wouldn't be as much money taken out of your annual income as if you were living in the South or Midwest\n",
    "* In both married and unmarried males and females, females are more adversely affected than males.\n",
    "* People around 15 - 24 (teens and young adults) are hit harder than their older counterparts (25-34)\n",
    "\n",
    "Nevertheless, all these values are much higher than the 3% spent on entertainment that we noted in the above analysis."
   ]
  },
  {
   "cell_type": "code",
   "execution_count": null,
   "metadata": {},
   "outputs": [],
   "source": []
  }
 ],
 "metadata": {
  "kernelspec": {
   "display_name": "Python 3",
   "language": "python",
   "name": "python3"
  },
  "language_info": {
   "codemirror_mode": {
    "name": "ipython",
    "version": 3
   },
   "file_extension": ".py",
   "mimetype": "text/x-python",
   "name": "python",
   "nbconvert_exporter": "python",
   "pygments_lexer": "ipython3",
   "version": "3.8.5"
  }
 },
 "nbformat": 4,
 "nbformat_minor": 2
}
