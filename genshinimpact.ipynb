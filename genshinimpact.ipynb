{
 "cells": [
  {
   "cell_type": "markdown",
   "metadata": {},
   "source": [
    "<style>\n",
    "  h1 {text-align:center;}\n",
    "  h2 {text-align:center;}\n",
    "  h3 {text-align:center;}\n",
    "</style>"
   ]
  },
  {
   "cell_type": "markdown",
   "metadata": {},
   "source": [
    "<center><img src=\"https://i.ytimg.com/vi/kHfd0Jt0AvA/maxresdefault.jpg\" width= \"900\" height= \"500\"></center>\n",
    "\n",
    "# The Probabilities and Financial Impact of Gacha Games\n",
    "\n",
    "<h1 style= 'font-family:Lucida Handwriting'>Genshin Impact</h1>\n",
    "<h3 style= 'font-weight: normal'>Kevin Wang and Nick Zhang</h3>\n"
   ]
  },
  {
   "cell_type": "markdown",
   "metadata": {},
   "source": [
    "## Introduction \n",
    "Genshin Impact is a free-to-play action role-playing game developed and published by miHoYo. The game features a fantasy open world environment and action based battle system using elemental magic, character switching and uses gacha game monetization for players to obtain new characters, weapons, and other resources. The game is online-only and features limited co-op mode, allowing up to four players to play together. It was released on September 28, 2020. About 21.3 million people registered for the game, wit 17 million downlods at the games launch. Read more about Genshin Impact, and download the game for youself today: [Genshin Impact](https://genshin.mihoyo.com/en/home)"
   ]
  },
  {
   "cell_type": "markdown",
   "metadata": {},
   "source": [
    "## The Potential Plight of Gacha Games</h2>\n",
    "Gacha games contain the gacha mechanic, similar to the capsule toy vending machine idea. Players spend in-game currency to  recieve a random virtual item. Genshin Impact gacha rolls contain the following prizes: 3 Star Weapons, 4 Star Weapons, 4 Star Characters, 5 Star Weapons, and 5 Star Characters. Of course, higher the star ranking, higher the rarity of the item, and higher the appeal. Countless players have spent thousands of dollars of games such as Genshin Impact, even though it is free-to-play."
   ]
  },
  {
   "cell_type": "markdown",
   "metadata": {},
   "source": [
    "## Our Objectives\n",
    "We will anaylze the probabilities of attaining the highest ranking items possible, as well as determining the average cost of rolling one 5 star item. Furthermore, we will test to see if there there is a strong positive relationship between money and the number of 5 star achieved, i.e the more money one spends would it lead to more 5 stars? We will then determine the financial costs of these gacha rolls and the investment into Genshin Impact for different player groups. Finally, we will calculate the financial impact of attaining one 5 Star on the typical, young adult, single-person household."
   ]
  },
  {
   "cell_type": "markdown",
   "metadata": {},
   "source": [
    "## Collecting Wishes Data\n",
    "Gacha rolls in Genshin Impact are called wishes. We manually simulated and recorded 500 10-item rolls using the following simulator: [Wish Simulator](https://gi-wish-simulator.uzairashraf.dev/). Go ahead, try your luck!\n",
    "Since our data is straightforward and manually collected to our specifications, there was no need to tidy or modify our data. We immediately processed the data from a csv into a Pandas dataframe."
   ]
  },
  {
   "cell_type": "code",
   "execution_count": 1,
   "metadata": {},
   "outputs": [],
   "source": [
    "import pandas as pd\n",
    "import seaborn as sb\n",
    "import matplotlib.pyplot as plt\n"
   ]
  },
  {
   "cell_type": "code",
   "execution_count": 2,
   "metadata": {},
   "outputs": [
    {
     "data": {
      "text/html": [
       "<div>\n",
       "<style scoped>\n",
       "    .dataframe tbody tr th:only-of-type {\n",
       "        vertical-align: middle;\n",
       "    }\n",
       "\n",
       "    .dataframe tbody tr th {\n",
       "        vertical-align: top;\n",
       "    }\n",
       "\n",
       "    .dataframe thead th {\n",
       "        text-align: right;\n",
       "    }\n",
       "</style>\n",
       "<table border=\"1\" class=\"dataframe\">\n",
       "  <thead>\n",
       "    <tr style=\"text-align: right;\">\n",
       "      <th></th>\n",
       "      <th>3StarWeap</th>\n",
       "      <th>4StarWeap</th>\n",
       "      <th>5StarWeap</th>\n",
       "      <th>4StarChar</th>\n",
       "      <th>5StarChar</th>\n",
       "    </tr>\n",
       "  </thead>\n",
       "  <tbody>\n",
       "    <tr>\n",
       "      <th>0</th>\n",
       "      <td>8</td>\n",
       "      <td>0</td>\n",
       "      <td>0</td>\n",
       "      <td>2</td>\n",
       "      <td>0</td>\n",
       "    </tr>\n",
       "    <tr>\n",
       "      <th>1</th>\n",
       "      <td>9</td>\n",
       "      <td>0</td>\n",
       "      <td>0</td>\n",
       "      <td>1</td>\n",
       "      <td>0</td>\n",
       "    </tr>\n",
       "    <tr>\n",
       "      <th>2</th>\n",
       "      <td>9</td>\n",
       "      <td>0</td>\n",
       "      <td>0</td>\n",
       "      <td>1</td>\n",
       "      <td>0</td>\n",
       "    </tr>\n",
       "    <tr>\n",
       "      <th>3</th>\n",
       "      <td>9</td>\n",
       "      <td>0</td>\n",
       "      <td>0</td>\n",
       "      <td>1</td>\n",
       "      <td>0</td>\n",
       "    </tr>\n",
       "    <tr>\n",
       "      <th>4</th>\n",
       "      <td>9</td>\n",
       "      <td>0</td>\n",
       "      <td>0</td>\n",
       "      <td>1</td>\n",
       "      <td>0</td>\n",
       "    </tr>\n",
       "    <tr>\n",
       "      <th>...</th>\n",
       "      <td>...</td>\n",
       "      <td>...</td>\n",
       "      <td>...</td>\n",
       "      <td>...</td>\n",
       "      <td>...</td>\n",
       "    </tr>\n",
       "    <tr>\n",
       "      <th>495</th>\n",
       "      <td>8</td>\n",
       "      <td>2</td>\n",
       "      <td>0</td>\n",
       "      <td>0</td>\n",
       "      <td>0</td>\n",
       "    </tr>\n",
       "    <tr>\n",
       "      <th>496</th>\n",
       "      <td>9</td>\n",
       "      <td>1</td>\n",
       "      <td>0</td>\n",
       "      <td>0</td>\n",
       "      <td>0</td>\n",
       "    </tr>\n",
       "    <tr>\n",
       "      <th>497</th>\n",
       "      <td>9</td>\n",
       "      <td>0</td>\n",
       "      <td>0</td>\n",
       "      <td>1</td>\n",
       "      <td>0</td>\n",
       "    </tr>\n",
       "    <tr>\n",
       "      <th>498</th>\n",
       "      <td>9</td>\n",
       "      <td>1</td>\n",
       "      <td>0</td>\n",
       "      <td>0</td>\n",
       "      <td>0</td>\n",
       "    </tr>\n",
       "    <tr>\n",
       "      <th>499</th>\n",
       "      <td>9</td>\n",
       "      <td>0</td>\n",
       "      <td>0</td>\n",
       "      <td>1</td>\n",
       "      <td>0</td>\n",
       "    </tr>\n",
       "  </tbody>\n",
       "</table>\n",
       "<p>500 rows × 5 columns</p>\n",
       "</div>"
      ],
      "text/plain": [
       "     3StarWeap  4StarWeap  5StarWeap  4StarChar  5StarChar\n",
       "0            8          0          0          2          0\n",
       "1            9          0          0          1          0\n",
       "2            9          0          0          1          0\n",
       "3            9          0          0          1          0\n",
       "4            9          0          0          1          0\n",
       "..         ...        ...        ...        ...        ...\n",
       "495          8          2          0          0          0\n",
       "496          9          1          0          0          0\n",
       "497          9          0          0          1          0\n",
       "498          9          1          0          0          0\n",
       "499          9          0          0          1          0\n",
       "\n",
       "[500 rows x 5 columns]"
      ]
     },
     "execution_count": 2,
     "metadata": {},
     "output_type": "execute_result"
    }
   ],
   "source": [
    "data = pd.read_csv('data.csv')\n",
    "data = data.dropna(axis= 1)\n",
    "data"
   ]
  },
  {
   "cell_type": "markdown",
   "metadata": {},
   "source": [
    "With the dataframe above, let us calcuate the sum of each star rating item we rolled."
   ]
  },
  {
   "cell_type": "code",
   "execution_count": 3,
   "metadata": {},
   "outputs": [
    {
     "data": {
      "text/html": [
       "<div>\n",
       "<style scoped>\n",
       "    .dataframe tbody tr th:only-of-type {\n",
       "        vertical-align: middle;\n",
       "    }\n",
       "\n",
       "    .dataframe tbody tr th {\n",
       "        vertical-align: top;\n",
       "    }\n",
       "\n",
       "    .dataframe thead th {\n",
       "        text-align: right;\n",
       "    }\n",
       "</style>\n",
       "<table border=\"1\" class=\"dataframe\">\n",
       "  <thead>\n",
       "    <tr style=\"text-align: right;\">\n",
       "      <th></th>\n",
       "      <th>Sum</th>\n",
       "    </tr>\n",
       "  </thead>\n",
       "  <tbody>\n",
       "    <tr>\n",
       "      <th>3StarWeap</th>\n",
       "      <td>4260</td>\n",
       "    </tr>\n",
       "    <tr>\n",
       "      <th>4StarWeap</th>\n",
       "      <td>359</td>\n",
       "    </tr>\n",
       "    <tr>\n",
       "      <th>5StarWeap</th>\n",
       "      <td>34</td>\n",
       "    </tr>\n",
       "    <tr>\n",
       "      <th>4StarChar</th>\n",
       "      <td>304</td>\n",
       "    </tr>\n",
       "    <tr>\n",
       "      <th>5StarChar</th>\n",
       "      <td>43</td>\n",
       "    </tr>\n",
       "  </tbody>\n",
       "</table>\n",
       "</div>"
      ],
      "text/plain": [
       "            Sum\n",
       "3StarWeap  4260\n",
       "4StarWeap   359\n",
       "5StarWeap    34\n",
       "4StarChar   304\n",
       "5StarChar    43"
      ]
     },
     "execution_count": 3,
     "metadata": {},
     "output_type": "execute_result"
    }
   ],
   "source": [
    "sumData = pd.DataFrame(data= data.sum()).rename(columns={0: 'Sum'})\n",
    "sumData"
   ]
  },
  {
   "cell_type": "markdown",
   "metadata": {},
   "source": [
    "Let us visualize the odds better with a simple barplot."
   ]
  },
  {
   "cell_type": "code",
   "execution_count": 4,
   "metadata": {},
   "outputs": [
    {
     "data": {
      "image/png": "[encoded data removed]",
      "text/plain": [
       "<Figure size 720x360 with 1 Axes>"
      ]
     },
     "metadata": {
      "needs_background": "light"
     },
     "output_type": "display_data"
    }
   ],
   "source": [
    "plt.figure(figsize=(10,5))\n",
    "sb.barplot(x= sumData.index, y= 'Sum', data= sumData)\n",
    "plt.title('Total Items Rolled per Star Rating')\n",
    "plt.xlabel('Star Rating')\n",
    "plt.ylabel('Total Number of Items')\n",
    "plt.show()"
   ]
  },
  {
   "cell_type": "code",
   "execution_count": 5,
   "metadata": {},
   "outputs": [
    {
     "name": "stdout",
     "output_type": "stream",
     "text": [
      "Probability of achieving a 5 Star Weapon 0.0068\n"
     ]
    }
   ],
   "source": [
    "print('Probability of achieving a 5 Star Weapon' , data['5StarWeap'].sum()/(5000))"
   ]
  },
  {
   "cell_type": "code",
   "execution_count": 6,
   "metadata": {},
   "outputs": [
    {
     "name": "stdout",
     "output_type": "stream",
     "text": [
      "Probability of achieving a 5 Star Character: 0.0086\n"
     ]
    }
   ],
   "source": [
    "print('Probability of achieving a 5 Star Character:' , data['5StarChar'].sum()/(5000))"
   ]
  },
  {
   "cell_type": "code",
   "execution_count": 37,
   "metadata": {},
   "outputs": [
    {
     "name": "stdout",
     "output_type": "stream",
     "text": [
      "The average number of rolls between 5 Star Summons (Weapons or Characters): 50\n"
     ]
    }
   ],
   "source": [
    "count = 0\n",
    "sumDistances= 0\n",
    "data['response'] = pd.Series(0, index=data.index)\n",
    "\n",
    "item = 1\n",
    "for w, c, index in zip(data['5StarWeap'].to_numpy(), data['5StarChar'].to_numpy(), data.index):\n",
    "    if (w == 1) or (c == 1):\n",
    "        data.loc[index, 'response'] = item\n",
    "        sumDistances += count\n",
    "        item += 1\n",
    "        count = 0\n",
    "    else:\n",
    "        count+= 1\n",
    "print('The average number of rolls between 5 Star Summons (Weapons or Characters):' , 10*(sumDistances//(data['5StarChar'].sum()+ data['5StarWeap'].sum())))\n",
    "\n",
    "pd.set_option(\"display.max_rows\", None, \"display.max_columns\", None)"
   ]
  },
  {
   "cell_type": "markdown",
   "metadata": {},
   "source": [
    "## Fitting a Linear Model\n",
    "We could use the above conclusion to say that a player would need to roll 50 times to get a 5 star summon (weapon or character), however, we can double check by trying to fit a linear model."
   ]
  },
  {
   "cell_type": "code",
   "execution_count": 1,
   "metadata": {},
   "outputs": [
    {
     "ename": "NameError",
     "evalue": "name 'data' is not defined",
     "output_type": "error",
     "traceback": [
      "\u001b[0;31m---------------------------------------------------------------------------\u001b[0m",
      "\u001b[0;31mNameError\u001b[0m                                 Traceback (most recent call last)",
      "\u001b[0;32m<ipython-input-1-18ee98cc24f6>\u001b[0m in \u001b[0;36m<module>\u001b[0;34m\u001b[0m\n\u001b[0;32m----> 1\u001b[0;31m \u001b[0mlinear_model\u001b[0m \u001b[0;34m=\u001b[0m \u001b[0mdata\u001b[0m\u001b[0;34m[\u001b[0m\u001b[0mdata\u001b[0m\u001b[0;34m[\u001b[0m\u001b[0;34m'response'\u001b[0m\u001b[0;34m]\u001b[0m \u001b[0;34m!=\u001b[0m \u001b[0;36m0\u001b[0m\u001b[0;34m]\u001b[0m\u001b[0;34m\u001b[0m\u001b[0;34m\u001b[0m\u001b[0m\n\u001b[0m\u001b[1;32m      2\u001b[0m \u001b[0mlinear_model\u001b[0m\u001b[0;34m[\u001b[0m\u001b[0;34m'index'\u001b[0m\u001b[0;34m]\u001b[0m \u001b[0;34m=\u001b[0m \u001b[0mlinear_model\u001b[0m\u001b[0;34m.\u001b[0m\u001b[0mindex\u001b[0m\u001b[0;34m\u001b[0m\u001b[0;34m\u001b[0m\u001b[0m\n\u001b[1;32m      3\u001b[0m \u001b[0;34m\u001b[0m\u001b[0m\n\u001b[1;32m      4\u001b[0m \u001b[0;32mimport\u001b[0m \u001b[0mstatsmodels\u001b[0m\u001b[0;34m.\u001b[0m\u001b[0mformula\u001b[0m\u001b[0;34m.\u001b[0m\u001b[0mapi\u001b[0m \u001b[0;32mas\u001b[0m \u001b[0msm\u001b[0m\u001b[0;34m\u001b[0m\u001b[0;34m\u001b[0m\u001b[0m\n\u001b[1;32m      5\u001b[0m \u001b[0mols\u001b[0m \u001b[0;34m=\u001b[0m \u001b[0msm\u001b[0m\u001b[0;34m.\u001b[0m\u001b[0mols\u001b[0m\u001b[0;34m(\u001b[0m\u001b[0;34m'response~index'\u001b[0m\u001b[0;34m,\u001b[0m \u001b[0mdata\u001b[0m \u001b[0;34m=\u001b[0m \u001b[0mlinear_model\u001b[0m\u001b[0;34m)\u001b[0m\u001b[0;34m.\u001b[0m\u001b[0mfit\u001b[0m\u001b[0;34m(\u001b[0m\u001b[0;34m)\u001b[0m\u001b[0;34m\u001b[0m\u001b[0;34m\u001b[0m\u001b[0m\n",
      "\u001b[0;31mNameError\u001b[0m: name 'data' is not defined"
     ]
    }
   ],
   "source": [
    "linear_model = data[data['response'] != 0]\n",
    "linear_model['index'] = linear_model.index\n",
    "\n",
    "import statsmodels.formula.api as sm\n",
    "ols = sm.ols('response~index', data = linear_model).fit()\n",
    "print(ols.summary())"
   ]
  },
  {
   "cell_type": "markdown",
   "metadata": {},
   "source": [
    "We can see that our predictor, index, has a P-value of zero, meaning that it is a significant predictor in explaining variability of our response variable (number of 5 star weapons / characters obtained). We can also see for simple linear regression, we havea n R-squared of 0.997, meaning that the model we have just created can explain 99.7% of all variability in the model. Thus, we have determined that the number of rolls you will instigate is correlated with the amount of 5 stars obtained. Due to the high R-squared value, it is unlikely that there are additional predictors that can we have not accounted for.\n",
    "\n",
    "The slope by itself indicates that for every 1 grouping of rolls (or for every 10 rolls) the number of 5 star weapons / characters increases by 0.1349 items. Since this does not make much sense, we can instead repharse it as such:\n",
    "\n",
    "For every 8 rolls of 10 (80 individual rolls) rolls, the number of 5 star weapons / characters increases by approximately 1 item. \n",
    "\n",
    "Note: In this case, an intercept of 3.2414 does not make any sense, since that would be implying that despite doing no rolls, we would still end up with around 3 5 star items / characters. Moving forward, we will ignore the intercept due to this logical fallacy.\n",
    "\n"
   ]
  },
  {
   "cell_type": "code",
   "execution_count": null,
   "metadata": {},
   "outputs": [],
   "source": []
  }
 ],
 "metadata": {
  "kernelspec": {
   "display_name": "Python 3",
   "language": "python",
   "name": "python3"
  },
  "language_info": {
   "codemirror_mode": {
    "name": "ipython",
    "version": 3
   },
   "file_extension": ".py",
   "mimetype": "text/x-python",
   "name": "python",
   "nbconvert_exporter": "python",
   "pygments_lexer": "ipython3",
   "version": "3.8.5"
  }
 },
 "nbformat": 4,
 "nbformat_minor": 2
}
