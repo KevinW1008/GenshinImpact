{
 "cells": [
  {
   "cell_type": "markdown",
   "metadata": {},
   "source": [
    "<style>\n",
    "  h1 {text-align:center;}\n",
    "  h2 {text-align:center;}\n",
    "  h3 {text-align:center;}\n",
    "</style>"
   ]
  },
  {
   "cell_type": "markdown",
   "metadata": {},
   "source": [
    "<center><img src=\"https://i.ytimg.com/vi/kHfd0Jt0AvA/maxresdefault.jpg\" width= \"900\" height= \"500\"></center>\n",
    "\n",
    "# The Probabilities and Financial Impact of Gacha Games\n",
    "\n",
    "<h1 style= 'font-family:Lucida Handwriting'>Genshin Impact</h1>\n",
    "\n",
    "### Kevin Wang and Nick Zhang\n"
   ]
  },
  {
   "cell_type": "markdown",
   "metadata": {},
   "source": [
    "## Introduction \n",
    "Genshin Impact is a free-to-play action role-playing game developed and published by miHoYo. The game features a fantasy open world environment and action based battle system using elemental magic, character switching and uses gacha game monetization for players to obtain new characters, weapons, and other resources. The game is online-only and features limited co-op mode, allowing up to four players to play together. It was released on September 28, 2020. About 21.3 million people registered for the game, wit 17 million downlods at the games launch. Read more about Genshin Impact, and download the game for youself today: [Genshin Impact](https://genshin.mihoyo.com/en/home)"
   ]
  },
  {
   "cell_type": "markdown",
   "metadata": {},
   "source": [
    "## The Potential Plight of Gacha Games</h2>\n",
    "Gacha games contain the gacha mechanic, similar to the capsule toy vending machine idea. Players spend in-game currency to  recieve a random virtual item. Genshin Impact gacha rolls contain the following prizes: 3 Star Weapons, 4 Star Weapons, 4 Star Characters, 5 Star Weapons, and 5 Star Characters. Of course, higher the star ranking, higher the rarity of the item, and higher the appeal. Countless players have spent thousands of dollars of games such as Genshin Impact, even though it is free-to-play."
   ]
  },
  {
   "cell_type": "markdown",
   "metadata": {},
   "source": [
    "## Our Objectives\n",
    "We will anaylze the probabilities of attaining the highest ranking items possible, as well as determining the average cost of rolling one 5 star item. Furthermore, we will test to see if there there is a strong positive relationship between money and the number of 5 star achieved, i.e the more money one spends would it lead to more 5 stars? We will then determine the financial costs of these gacha rolls and the investment into Genshin Impact for different player groups. Finally, we will calculate the financial impact of attaining one 5 Star on the typical, young adult, single-person household."
   ]
  },
  {
   "cell_type": "markdown",
   "metadata": {},
   "source": [
    "## Collecting Wishes Data\n",
    "Gacha rolls in Genshin Impact are called wishes. We manually simulated and recorded 500 10-item rolls using the following simulator: [Wish Simulator](https://gi-wish-simulator.uzairashraf.dev/). Go ahead, try your luck!\n",
    "Since our data is straightforward and manually collected to our specifications, there was no need to tidy or modify our data. We immediately processed the data from a csv into a Pandas dataframe."
   ]
  },
  {
   "cell_type": "code",
   "execution_count": 137,
   "metadata": {},
   "outputs": [],
   "source": [
    "import pandas as pd\n",
    "import seaborn as sns\n",
    "import matplotlib.pyplot as plt\n",
    "from scipy import stats as scipy\n",
    "import numpy as np\n",
    "import random as ra\n",
    "# pd.set_option(\"display.max_rows\", None, \"display.max_columns\", None)\n"
   ]
  },
  {
   "cell_type": "code",
   "execution_count": 138,
   "metadata": {},
   "outputs": [
    {
     "output_type": "execute_result",
     "data": {
      "text/plain": [
       "   3StarWeap  4StarWeap  5StarWeap  4StarChar  5StarChar\n",
       "0          8          0          0          2          0\n",
       "1          9          0          0          1          0\n",
       "2          9          0          0          1          0\n",
       "3          9          0          0          1          0\n",
       "4          9          0          0          1          0"
      ],
      "text/html": "<div>\n<style scoped>\n    .dataframe tbody tr th:only-of-type {\n        vertical-align: middle;\n    }\n\n    .dataframe tbody tr th {\n        vertical-align: top;\n    }\n\n    .dataframe thead th {\n        text-align: right;\n    }\n</style>\n<table border=\"1\" class=\"dataframe\">\n  <thead>\n    <tr style=\"text-align: right;\">\n      <th></th>\n      <th>3StarWeap</th>\n      <th>4StarWeap</th>\n      <th>5StarWeap</th>\n      <th>4StarChar</th>\n      <th>5StarChar</th>\n    </tr>\n  </thead>\n  <tbody>\n    <tr>\n      <th>0</th>\n      <td>8</td>\n      <td>0</td>\n      <td>0</td>\n      <td>2</td>\n      <td>0</td>\n    </tr>\n    <tr>\n      <th>1</th>\n      <td>9</td>\n      <td>0</td>\n      <td>0</td>\n      <td>1</td>\n      <td>0</td>\n    </tr>\n    <tr>\n      <th>2</th>\n      <td>9</td>\n      <td>0</td>\n      <td>0</td>\n      <td>1</td>\n      <td>0</td>\n    </tr>\n    <tr>\n      <th>3</th>\n      <td>9</td>\n      <td>0</td>\n      <td>0</td>\n      <td>1</td>\n      <td>0</td>\n    </tr>\n    <tr>\n      <th>4</th>\n      <td>9</td>\n      <td>0</td>\n      <td>0</td>\n      <td>1</td>\n      <td>0</td>\n    </tr>\n  </tbody>\n</table>\n</div>"
     },
     "metadata": {},
     "execution_count": 138
    }
   ],
   "source": [
    "data = pd.read_csv('data.csv')\n",
    "data = data.dropna(axis= 1)\n",
    "data.head()"
   ]
  },
  {
   "cell_type": "markdown",
   "metadata": {},
   "source": [
    "With the dataframe above, let us calcuate the sum of each star rating item we rolled."
   ]
  },
  {
   "cell_type": "code",
   "execution_count": 139,
   "metadata": {},
   "outputs": [
    {
     "output_type": "execute_result",
     "data": {
      "text/plain": [
       "            Sum\n",
       "3StarWeap  4260\n",
       "4StarWeap   359\n",
       "5StarWeap    34\n",
       "4StarChar   304\n",
       "5StarChar    43"
      ],
      "text/html": "<div>\n<style scoped>\n    .dataframe tbody tr th:only-of-type {\n        vertical-align: middle;\n    }\n\n    .dataframe tbody tr th {\n        vertical-align: top;\n    }\n\n    .dataframe thead th {\n        text-align: right;\n    }\n</style>\n<table border=\"1\" class=\"dataframe\">\n  <thead>\n    <tr style=\"text-align: right;\">\n      <th></th>\n      <th>Sum</th>\n    </tr>\n  </thead>\n  <tbody>\n    <tr>\n      <th>3StarWeap</th>\n      <td>4260</td>\n    </tr>\n    <tr>\n      <th>4StarWeap</th>\n      <td>359</td>\n    </tr>\n    <tr>\n      <th>5StarWeap</th>\n      <td>34</td>\n    </tr>\n    <tr>\n      <th>4StarChar</th>\n      <td>304</td>\n    </tr>\n    <tr>\n      <th>5StarChar</th>\n      <td>43</td>\n    </tr>\n  </tbody>\n</table>\n</div>"
     },
     "metadata": {},
     "execution_count": 139
    }
   ],
   "source": [
    "sumData = pd.DataFrame(data= data.sum()).rename(columns={0: 'Sum'})\n",
    "sumData"
   ]
  },
  {
   "cell_type": "markdown",
   "metadata": {},
   "source": [
    "Let us visualize the odds better with a simple barplot. Spoiler, the odds are horrendous."
   ]
  },
  {
   "cell_type": "code",
   "execution_count": 140,
   "metadata": {},
   "outputs": [
    {
     "output_type": "display_data",
     "data": {
      "text/plain": "<Figure size 720x360 with 1 Axes>",
      "image/svg+xml": "<?xml version=\"1.0\" encoding=\"utf-8\" standalone=\"no\"?>\r\n<!DOCTYPE svg PUBLIC \"-//W3C//DTD SVG 1.1//EN\"\r\n  \"http://www.w3.org/Graphics/SVG/1.1/DTD/svg11.dtd\">\r\n<!-- Created with matplotlib (https://matplotlib.org/) -->\r\n<svg height=\"331.674375pt\" version=\"1.1\" viewBox=\"0 0 618.528125 331.674375\" width=\"618.528125pt\" xmlns=\"http://www.w3.org/2000/svg\" xmlns:xlink=\"http://www.w3.org/1999/xlink\">\r\n <metadata>\r\n  <rdf:RDF xmlns:cc=\"http://creativecommons.org/ns#\" xmlns:dc=\"http://purl.org/dc/elements/1.1/\" xmlns:rdf=\"http://www.w3.org/1999/02/22-rdf-syntax-ns#\">\r\n   <cc:Work>\r\n    <dc:type rdf:resource=\"http://purl.org/dc/dcmitype/StillImage\"/>\r\n    <dc:date>2020-12-12T14:15:42.339606</dc:date>\r\n    <dc:format>image/svg+xml</dc:format>\r\n    <dc:creator>\r\n     <cc:Agent>\r\n      <dc:title>Matplotlib v3.3.2, https://matplotlib.org/</dc:title>\r\n     </cc:Agent>\r\n    </dc:creator>\r\n   </cc:Work>\r\n  </rdf:RDF>\r\n </metadata>\r\n <defs>\r\n  <style type=\"text/css\">*{stroke-linecap:butt;stroke-linejoin:round;}</style>\r\n </defs>\r\n <g id=\"figure_1\">\r\n  <g id=\"patch_1\">\r\n   <path d=\"M 0 331.674375 \r\nL 618.528125 331.674375 \r\nL 618.528125 0 \r\nL 0 0 \r\nz\r\n\" style=\"fill:none;\"/>\r\n  </g>\r\n  <g id=\"axes_1\">\r\n   <g id=\"patch_2\">\r\n    <path d=\"M 53.328125 294.118125 \r\nL 611.328125 294.118125 \r\nL 611.328125 22.318125 \r\nL 53.328125 22.318125 \r\nz\r\n\" style=\"fill:#ffffff;\"/>\r\n   </g>\r\n   <g id=\"patch_3\">\r\n    <path clip-path=\"url(#p979db3c40c)\" d=\"M 64.488125 294.118125 \r\nL 153.768125 294.118125 \r\nL 153.768125 35.260982 \r\nL 64.488125 35.260982 \r\nz\r\n\" style=\"fill:#3274a1;\"/>\r\n   </g>\r\n   <g id=\"patch_4\">\r\n    <path clip-path=\"url(#p979db3c40c)\" d=\"M 176.088125 294.118125 \r\nL 265.368125 294.118125 \r\nL 265.368125 272.303638 \r\nL 176.088125 272.303638 \r\nz\r\n\" style=\"fill:#e1812c;\"/>\r\n   </g>\r\n   <g id=\"patch_5\">\r\n    <path clip-path=\"url(#p979db3c40c)\" d=\"M 287.688125 294.118125 \r\nL 376.968125 294.118125 \r\nL 376.968125 292.052129 \r\nL 287.688125 292.052129 \r\nz\r\n\" style=\"fill:#3a923a;\"/>\r\n   </g>\r\n   <g id=\"patch_6\">\r\n    <path clip-path=\"url(#p979db3c40c)\" d=\"M 399.288125 294.118125 \r\nL 488.568125 294.118125 \r\nL 488.568125 275.64569 \r\nL 399.288125 275.64569 \r\nz\r\n\" style=\"fill:#c03d3e;\"/>\r\n   </g>\r\n   <g id=\"patch_7\">\r\n    <path clip-path=\"url(#p979db3c40c)\" d=\"M 510.888125 294.118125 \r\nL 600.168125 294.118125 \r\nL 600.168125 291.505248 \r\nL 510.888125 291.505248 \r\nz\r\n\" style=\"fill:#9372b2;\"/>\r\n   </g>\r\n   <g id=\"matplotlib.axis_1\">\r\n    <g id=\"xtick_1\">\r\n     <g id=\"line2d_1\">\r\n      <defs>\r\n       <path d=\"M 0 0 \r\nL 0 3.5 \r\n\" id=\"m4204f79ab4\" style=\"stroke:#000000;stroke-width:0.8;\"/>\r\n      </defs>\r\n      <g>\r\n       <use style=\"stroke:#000000;stroke-width:0.8;\" x=\"109.128125\" xlink:href=\"#m4204f79ab4\" y=\"294.118125\"/>\r\n      </g>\r\n     </g>\r\n     <g id=\"text_1\">\r\n      <!-- 3StarWeap -->\r\n      <g transform=\"translate(81.728125 308.716563)scale(0.1 -0.1)\">\r\n       <defs>\r\n        <path d=\"M 40.578125 39.3125 \r\nQ 47.65625 37.796875 51.625 33 \r\nQ 55.609375 28.21875 55.609375 21.1875 \r\nQ 55.609375 10.40625 48.1875 4.484375 \r\nQ 40.765625 -1.421875 27.09375 -1.421875 \r\nQ 22.515625 -1.421875 17.65625 -0.515625 \r\nQ 12.796875 0.390625 7.625 2.203125 \r\nL 7.625 11.71875 \r\nQ 11.71875 9.328125 16.59375 8.109375 \r\nQ 21.484375 6.890625 26.8125 6.890625 \r\nQ 36.078125 6.890625 40.9375 10.546875 \r\nQ 45.796875 14.203125 45.796875 21.1875 \r\nQ 45.796875 27.640625 41.28125 31.265625 \r\nQ 36.765625 34.90625 28.71875 34.90625 \r\nL 20.21875 34.90625 \r\nL 20.21875 43.015625 \r\nL 29.109375 43.015625 \r\nQ 36.375 43.015625 40.234375 45.921875 \r\nQ 44.09375 48.828125 44.09375 54.296875 \r\nQ 44.09375 59.90625 40.109375 62.90625 \r\nQ 36.140625 65.921875 28.71875 65.921875 \r\nQ 24.65625 65.921875 20.015625 65.03125 \r\nQ 15.375 64.15625 9.8125 62.3125 \r\nL 9.8125 71.09375 \r\nQ 15.4375 72.65625 20.34375 73.4375 \r\nQ 25.25 74.21875 29.59375 74.21875 \r\nQ 40.828125 74.21875 47.359375 69.109375 \r\nQ 53.90625 64.015625 53.90625 55.328125 \r\nQ 53.90625 49.265625 50.4375 45.09375 \r\nQ 46.96875 40.921875 40.578125 39.3125 \r\nz\r\n\" id=\"DejaVuSans-51\"/>\r\n        <path d=\"M 53.515625 70.515625 \r\nL 53.515625 60.890625 \r\nQ 47.90625 63.578125 42.921875 64.890625 \r\nQ 37.9375 66.21875 33.296875 66.21875 \r\nQ 25.25 66.21875 20.875 63.09375 \r\nQ 16.5 59.96875 16.5 54.203125 \r\nQ 16.5 49.359375 19.40625 46.890625 \r\nQ 22.3125 44.4375 30.421875 42.921875 \r\nL 36.375 41.703125 \r\nQ 47.40625 39.59375 52.65625 34.296875 \r\nQ 57.90625 29 57.90625 20.125 \r\nQ 57.90625 9.515625 50.796875 4.046875 \r\nQ 43.703125 -1.421875 29.984375 -1.421875 \r\nQ 24.8125 -1.421875 18.96875 -0.25 \r\nQ 13.140625 0.921875 6.890625 3.21875 \r\nL 6.890625 13.375 \r\nQ 12.890625 10.015625 18.65625 8.296875 \r\nQ 24.421875 6.59375 29.984375 6.59375 \r\nQ 38.421875 6.59375 43.015625 9.90625 \r\nQ 47.609375 13.234375 47.609375 19.390625 \r\nQ 47.609375 24.75 44.3125 27.78125 \r\nQ 41.015625 30.8125 33.5 32.328125 \r\nL 27.484375 33.5 \r\nQ 16.453125 35.6875 11.515625 40.375 \r\nQ 6.59375 45.0625 6.59375 53.421875 \r\nQ 6.59375 63.09375 13.40625 68.65625 \r\nQ 20.21875 74.21875 32.171875 74.21875 \r\nQ 37.3125 74.21875 42.625 73.28125 \r\nQ 47.953125 72.359375 53.515625 70.515625 \r\nz\r\n\" id=\"DejaVuSans-83\"/>\r\n        <path d=\"M 18.3125 70.21875 \r\nL 18.3125 54.6875 \r\nL 36.8125 54.6875 \r\nL 36.8125 47.703125 \r\nL 18.3125 47.703125 \r\nL 18.3125 18.015625 \r\nQ 18.3125 11.328125 20.140625 9.421875 \r\nQ 21.96875 7.515625 27.59375 7.515625 \r\nL 36.8125 7.515625 \r\nL 36.8125 0 \r\nL 27.59375 0 \r\nQ 17.1875 0 13.234375 3.875 \r\nQ 9.28125 7.765625 9.28125 18.015625 \r\nL 9.28125 47.703125 \r\nL 2.6875 47.703125 \r\nL 2.6875 54.6875 \r\nL 9.28125 54.6875 \r\nL 9.28125 70.21875 \r\nz\r\n\" id=\"DejaVuSans-116\"/>\r\n        <path d=\"M 34.28125 27.484375 \r\nQ 23.390625 27.484375 19.1875 25 \r\nQ 14.984375 22.515625 14.984375 16.5 \r\nQ 14.984375 11.71875 18.140625 8.90625 \r\nQ 21.296875 6.109375 26.703125 6.109375 \r\nQ 34.1875 6.109375 38.703125 11.40625 \r\nQ 43.21875 16.703125 43.21875 25.484375 \r\nL 43.21875 27.484375 \r\nz\r\nM 52.203125 31.203125 \r\nL 52.203125 0 \r\nL 43.21875 0 \r\nL 43.21875 8.296875 \r\nQ 40.140625 3.328125 35.546875 0.953125 \r\nQ 30.953125 -1.421875 24.3125 -1.421875 \r\nQ 15.921875 -1.421875 10.953125 3.296875 \r\nQ 6 8.015625 6 15.921875 \r\nQ 6 25.140625 12.171875 29.828125 \r\nQ 18.359375 34.515625 30.609375 34.515625 \r\nL 43.21875 34.515625 \r\nL 43.21875 35.40625 \r\nQ 43.21875 41.609375 39.140625 45 \r\nQ 35.0625 48.390625 27.6875 48.390625 \r\nQ 23 48.390625 18.546875 47.265625 \r\nQ 14.109375 46.140625 10.015625 43.890625 \r\nL 10.015625 52.203125 \r\nQ 14.9375 54.109375 19.578125 55.046875 \r\nQ 24.21875 56 28.609375 56 \r\nQ 40.484375 56 46.34375 49.84375 \r\nQ 52.203125 43.703125 52.203125 31.203125 \r\nz\r\n\" id=\"DejaVuSans-97\"/>\r\n        <path d=\"M 41.109375 46.296875 \r\nQ 39.59375 47.171875 37.8125 47.578125 \r\nQ 36.03125 48 33.890625 48 \r\nQ 26.265625 48 22.1875 43.046875 \r\nQ 18.109375 38.09375 18.109375 28.8125 \r\nL 18.109375 0 \r\nL 9.078125 0 \r\nL 9.078125 54.6875 \r\nL 18.109375 54.6875 \r\nL 18.109375 46.1875 \r\nQ 20.953125 51.171875 25.484375 53.578125 \r\nQ 30.03125 56 36.53125 56 \r\nQ 37.453125 56 38.578125 55.875 \r\nQ 39.703125 55.765625 41.0625 55.515625 \r\nz\r\n\" id=\"DejaVuSans-114\"/>\r\n        <path d=\"M 3.328125 72.90625 \r\nL 13.28125 72.90625 \r\nL 28.609375 11.28125 \r\nL 43.890625 72.90625 \r\nL 54.984375 72.90625 \r\nL 70.3125 11.28125 \r\nL 85.59375 72.90625 \r\nL 95.609375 72.90625 \r\nL 77.296875 0 \r\nL 64.890625 0 \r\nL 49.515625 63.28125 \r\nL 33.984375 0 \r\nL 21.578125 0 \r\nz\r\n\" id=\"DejaVuSans-87\"/>\r\n        <path d=\"M 56.203125 29.59375 \r\nL 56.203125 25.203125 \r\nL 14.890625 25.203125 \r\nQ 15.484375 15.921875 20.484375 11.0625 \r\nQ 25.484375 6.203125 34.421875 6.203125 \r\nQ 39.59375 6.203125 44.453125 7.46875 \r\nQ 49.3125 8.734375 54.109375 11.28125 \r\nL 54.109375 2.78125 \r\nQ 49.265625 0.734375 44.1875 -0.34375 \r\nQ 39.109375 -1.421875 33.890625 -1.421875 \r\nQ 20.796875 -1.421875 13.15625 6.1875 \r\nQ 5.515625 13.8125 5.515625 26.8125 \r\nQ 5.515625 40.234375 12.765625 48.109375 \r\nQ 20.015625 56 32.328125 56 \r\nQ 43.359375 56 49.78125 48.890625 \r\nQ 56.203125 41.796875 56.203125 29.59375 \r\nz\r\nM 47.21875 32.234375 \r\nQ 47.125 39.59375 43.09375 43.984375 \r\nQ 39.0625 48.390625 32.421875 48.390625 \r\nQ 24.90625 48.390625 20.390625 44.140625 \r\nQ 15.875 39.890625 15.1875 32.171875 \r\nz\r\n\" id=\"DejaVuSans-101\"/>\r\n        <path d=\"M 18.109375 8.203125 \r\nL 18.109375 -20.796875 \r\nL 9.078125 -20.796875 \r\nL 9.078125 54.6875 \r\nL 18.109375 54.6875 \r\nL 18.109375 46.390625 \r\nQ 20.953125 51.265625 25.265625 53.625 \r\nQ 29.59375 56 35.59375 56 \r\nQ 45.5625 56 51.78125 48.09375 \r\nQ 58.015625 40.1875 58.015625 27.296875 \r\nQ 58.015625 14.40625 51.78125 6.484375 \r\nQ 45.5625 -1.421875 35.59375 -1.421875 \r\nQ 29.59375 -1.421875 25.265625 0.953125 \r\nQ 20.953125 3.328125 18.109375 8.203125 \r\nz\r\nM 48.6875 27.296875 \r\nQ 48.6875 37.203125 44.609375 42.84375 \r\nQ 40.53125 48.484375 33.40625 48.484375 \r\nQ 26.265625 48.484375 22.1875 42.84375 \r\nQ 18.109375 37.203125 18.109375 27.296875 \r\nQ 18.109375 17.390625 22.1875 11.75 \r\nQ 26.265625 6.109375 33.40625 6.109375 \r\nQ 40.53125 6.109375 44.609375 11.75 \r\nQ 48.6875 17.390625 48.6875 27.296875 \r\nz\r\n\" id=\"DejaVuSans-112\"/>\r\n       </defs>\r\n       <use xlink:href=\"#DejaVuSans-51\"/>\r\n       <use x=\"63.623047\" xlink:href=\"#DejaVuSans-83\"/>\r\n       <use x=\"127.099609\" xlink:href=\"#DejaVuSans-116\"/>\r\n       <use x=\"166.308594\" xlink:href=\"#DejaVuSans-97\"/>\r\n       <use x=\"227.587891\" xlink:href=\"#DejaVuSans-114\"/>\r\n       <use x=\"268.701172\" xlink:href=\"#DejaVuSans-87\"/>\r\n       <use x=\"361.703125\" xlink:href=\"#DejaVuSans-101\"/>\r\n       <use x=\"423.226562\" xlink:href=\"#DejaVuSans-97\"/>\r\n       <use x=\"484.505859\" xlink:href=\"#DejaVuSans-112\"/>\r\n      </g>\r\n     </g>\r\n    </g>\r\n    <g id=\"xtick_2\">\r\n     <g id=\"line2d_2\">\r\n      <g>\r\n       <use style=\"stroke:#000000;stroke-width:0.8;\" x=\"220.728125\" xlink:href=\"#m4204f79ab4\" y=\"294.118125\"/>\r\n      </g>\r\n     </g>\r\n     <g id=\"text_2\">\r\n      <!-- 4StarWeap -->\r\n      <g transform=\"translate(193.328125 308.716563)scale(0.1 -0.1)\">\r\n       <defs>\r\n        <path d=\"M 37.796875 64.3125 \r\nL 12.890625 25.390625 \r\nL 37.796875 25.390625 \r\nz\r\nM 35.203125 72.90625 \r\nL 47.609375 72.90625 \r\nL 47.609375 25.390625 \r\nL 58.015625 25.390625 \r\nL 58.015625 17.1875 \r\nL 47.609375 17.1875 \r\nL 47.609375 0 \r\nL 37.796875 0 \r\nL 37.796875 17.1875 \r\nL 4.890625 17.1875 \r\nL 4.890625 26.703125 \r\nz\r\n\" id=\"DejaVuSans-52\"/>\r\n       </defs>\r\n       <use xlink:href=\"#DejaVuSans-52\"/>\r\n       <use x=\"63.623047\" xlink:href=\"#DejaVuSans-83\"/>\r\n       <use x=\"127.099609\" xlink:href=\"#DejaVuSans-116\"/>\r\n       <use x=\"166.308594\" xlink:href=\"#DejaVuSans-97\"/>\r\n       <use x=\"227.587891\" xlink:href=\"#DejaVuSans-114\"/>\r\n       <use x=\"268.701172\" xlink:href=\"#DejaVuSans-87\"/>\r\n       <use x=\"361.703125\" xlink:href=\"#DejaVuSans-101\"/>\r\n       <use x=\"423.226562\" xlink:href=\"#DejaVuSans-97\"/>\r\n       <use x=\"484.505859\" xlink:href=\"#DejaVuSans-112\"/>\r\n      </g>\r\n     </g>\r\n    </g>\r\n    <g id=\"xtick_3\">\r\n     <g id=\"line2d_3\">\r\n      <g>\r\n       <use style=\"stroke:#000000;stroke-width:0.8;\" x=\"332.328125\" xlink:href=\"#m4204f79ab4\" y=\"294.118125\"/>\r\n      </g>\r\n     </g>\r\n     <g id=\"text_3\">\r\n      <!-- 5StarWeap -->\r\n      <g transform=\"translate(304.928125 308.716563)scale(0.1 -0.1)\">\r\n       <defs>\r\n        <path d=\"M 10.796875 72.90625 \r\nL 49.515625 72.90625 \r\nL 49.515625 64.59375 \r\nL 19.828125 64.59375 \r\nL 19.828125 46.734375 \r\nQ 21.96875 47.46875 24.109375 47.828125 \r\nQ 26.265625 48.1875 28.421875 48.1875 \r\nQ 40.625 48.1875 47.75 41.5 \r\nQ 54.890625 34.8125 54.890625 23.390625 \r\nQ 54.890625 11.625 47.5625 5.09375 \r\nQ 40.234375 -1.421875 26.90625 -1.421875 \r\nQ 22.3125 -1.421875 17.546875 -0.640625 \r\nQ 12.796875 0.140625 7.71875 1.703125 \r\nL 7.71875 11.625 \r\nQ 12.109375 9.234375 16.796875 8.0625 \r\nQ 21.484375 6.890625 26.703125 6.890625 \r\nQ 35.15625 6.890625 40.078125 11.328125 \r\nQ 45.015625 15.765625 45.015625 23.390625 \r\nQ 45.015625 31 40.078125 35.4375 \r\nQ 35.15625 39.890625 26.703125 39.890625 \r\nQ 22.75 39.890625 18.8125 39.015625 \r\nQ 14.890625 38.140625 10.796875 36.28125 \r\nz\r\n\" id=\"DejaVuSans-53\"/>\r\n       </defs>\r\n       <use xlink:href=\"#DejaVuSans-53\"/>\r\n       <use x=\"63.623047\" xlink:href=\"#DejaVuSans-83\"/>\r\n       <use x=\"127.099609\" xlink:href=\"#DejaVuSans-116\"/>\r\n       <use x=\"166.308594\" xlink:href=\"#DejaVuSans-97\"/>\r\n       <use x=\"227.587891\" xlink:href=\"#DejaVuSans-114\"/>\r\n       <use x=\"268.701172\" xlink:href=\"#DejaVuSans-87\"/>\r\n       <use x=\"361.703125\" xlink:href=\"#DejaVuSans-101\"/>\r\n       <use x=\"423.226562\" xlink:href=\"#DejaVuSans-97\"/>\r\n       <use x=\"484.505859\" xlink:href=\"#DejaVuSans-112\"/>\r\n      </g>\r\n     </g>\r\n    </g>\r\n    <g id=\"xtick_4\">\r\n     <g id=\"line2d_4\">\r\n      <g>\r\n       <use style=\"stroke:#000000;stroke-width:0.8;\" x=\"443.928125\" xlink:href=\"#m4204f79ab4\" y=\"294.118125\"/>\r\n      </g>\r\n     </g>\r\n     <g id=\"text_4\">\r\n      <!-- 4StarChar -->\r\n      <g transform=\"translate(418.713281 308.716563)scale(0.1 -0.1)\">\r\n       <defs>\r\n        <path d=\"M 64.40625 67.28125 \r\nL 64.40625 56.890625 \r\nQ 59.421875 61.53125 53.78125 63.8125 \r\nQ 48.140625 66.109375 41.796875 66.109375 \r\nQ 29.296875 66.109375 22.65625 58.46875 \r\nQ 16.015625 50.828125 16.015625 36.375 \r\nQ 16.015625 21.96875 22.65625 14.328125 \r\nQ 29.296875 6.6875 41.796875 6.6875 \r\nQ 48.140625 6.6875 53.78125 8.984375 \r\nQ 59.421875 11.28125 64.40625 15.921875 \r\nL 64.40625 5.609375 \r\nQ 59.234375 2.09375 53.4375 0.328125 \r\nQ 47.65625 -1.421875 41.21875 -1.421875 \r\nQ 24.65625 -1.421875 15.125 8.703125 \r\nQ 5.609375 18.84375 5.609375 36.375 \r\nQ 5.609375 53.953125 15.125 64.078125 \r\nQ 24.65625 74.21875 41.21875 74.21875 \r\nQ 47.75 74.21875 53.53125 72.484375 \r\nQ 59.328125 70.75 64.40625 67.28125 \r\nz\r\n\" id=\"DejaVuSans-67\"/>\r\n        <path d=\"M 54.890625 33.015625 \r\nL 54.890625 0 \r\nL 45.90625 0 \r\nL 45.90625 32.71875 \r\nQ 45.90625 40.484375 42.875 44.328125 \r\nQ 39.84375 48.1875 33.796875 48.1875 \r\nQ 26.515625 48.1875 22.3125 43.546875 \r\nQ 18.109375 38.921875 18.109375 30.90625 \r\nL 18.109375 0 \r\nL 9.078125 0 \r\nL 9.078125 75.984375 \r\nL 18.109375 75.984375 \r\nL 18.109375 46.1875 \r\nQ 21.34375 51.125 25.703125 53.5625 \r\nQ 30.078125 56 35.796875 56 \r\nQ 45.21875 56 50.046875 50.171875 \r\nQ 54.890625 44.34375 54.890625 33.015625 \r\nz\r\n\" id=\"DejaVuSans-104\"/>\r\n       </defs>\r\n       <use xlink:href=\"#DejaVuSans-52\"/>\r\n       <use x=\"63.623047\" xlink:href=\"#DejaVuSans-83\"/>\r\n       <use x=\"127.099609\" xlink:href=\"#DejaVuSans-116\"/>\r\n       <use x=\"166.308594\" xlink:href=\"#DejaVuSans-97\"/>\r\n       <use x=\"227.587891\" xlink:href=\"#DejaVuSans-114\"/>\r\n       <use x=\"268.701172\" xlink:href=\"#DejaVuSans-67\"/>\r\n       <use x=\"338.525391\" xlink:href=\"#DejaVuSans-104\"/>\r\n       <use x=\"401.904297\" xlink:href=\"#DejaVuSans-97\"/>\r\n       <use x=\"463.183594\" xlink:href=\"#DejaVuSans-114\"/>\r\n      </g>\r\n     </g>\r\n    </g>\r\n    <g id=\"xtick_5\">\r\n     <g id=\"line2d_5\">\r\n      <g>\r\n       <use style=\"stroke:#000000;stroke-width:0.8;\" x=\"555.528125\" xlink:href=\"#m4204f79ab4\" y=\"294.118125\"/>\r\n      </g>\r\n     </g>\r\n     <g id=\"text_5\">\r\n      <!-- 5StarChar -->\r\n      <g transform=\"translate(530.313281 308.716563)scale(0.1 -0.1)\">\r\n       <use xlink:href=\"#DejaVuSans-53\"/>\r\n       <use x=\"63.623047\" xlink:href=\"#DejaVuSans-83\"/>\r\n       <use x=\"127.099609\" xlink:href=\"#DejaVuSans-116\"/>\r\n       <use x=\"166.308594\" xlink:href=\"#DejaVuSans-97\"/>\r\n       <use x=\"227.587891\" xlink:href=\"#DejaVuSans-114\"/>\r\n       <use x=\"268.701172\" xlink:href=\"#DejaVuSans-67\"/>\r\n       <use x=\"338.525391\" xlink:href=\"#DejaVuSans-104\"/>\r\n       <use x=\"401.904297\" xlink:href=\"#DejaVuSans-97\"/>\r\n       <use x=\"463.183594\" xlink:href=\"#DejaVuSans-114\"/>\r\n      </g>\r\n     </g>\r\n    </g>\r\n    <g id=\"text_6\">\r\n     <!-- Star Rating -->\r\n     <g transform=\"translate(304.367188 322.394687)scale(0.1 -0.1)\">\r\n      <defs>\r\n       <path id=\"DejaVuSans-32\"/>\r\n       <path d=\"M 44.390625 34.1875 \r\nQ 47.5625 33.109375 50.5625 29.59375 \r\nQ 53.5625 26.078125 56.59375 19.921875 \r\nL 66.609375 0 \r\nL 56 0 \r\nL 46.6875 18.703125 \r\nQ 43.0625 26.03125 39.671875 28.421875 \r\nQ 36.28125 30.8125 30.421875 30.8125 \r\nL 19.671875 30.8125 \r\nL 19.671875 0 \r\nL 9.8125 0 \r\nL 9.8125 72.90625 \r\nL 32.078125 72.90625 \r\nQ 44.578125 72.90625 50.734375 67.671875 \r\nQ 56.890625 62.453125 56.890625 51.90625 \r\nQ 56.890625 45.015625 53.6875 40.46875 \r\nQ 50.484375 35.9375 44.390625 34.1875 \r\nz\r\nM 19.671875 64.796875 \r\nL 19.671875 38.921875 \r\nL 32.078125 38.921875 \r\nQ 39.203125 38.921875 42.84375 42.21875 \r\nQ 46.484375 45.515625 46.484375 51.90625 \r\nQ 46.484375 58.296875 42.84375 61.546875 \r\nQ 39.203125 64.796875 32.078125 64.796875 \r\nz\r\n\" id=\"DejaVuSans-82\"/>\r\n       <path d=\"M 9.421875 54.6875 \r\nL 18.40625 54.6875 \r\nL 18.40625 0 \r\nL 9.421875 0 \r\nz\r\nM 9.421875 75.984375 \r\nL 18.40625 75.984375 \r\nL 18.40625 64.59375 \r\nL 9.421875 64.59375 \r\nz\r\n\" id=\"DejaVuSans-105\"/>\r\n       <path d=\"M 54.890625 33.015625 \r\nL 54.890625 0 \r\nL 45.90625 0 \r\nL 45.90625 32.71875 \r\nQ 45.90625 40.484375 42.875 44.328125 \r\nQ 39.84375 48.1875 33.796875 48.1875 \r\nQ 26.515625 48.1875 22.3125 43.546875 \r\nQ 18.109375 38.921875 18.109375 30.90625 \r\nL 18.109375 0 \r\nL 9.078125 0 \r\nL 9.078125 54.6875 \r\nL 18.109375 54.6875 \r\nL 18.109375 46.1875 \r\nQ 21.34375 51.125 25.703125 53.5625 \r\nQ 30.078125 56 35.796875 56 \r\nQ 45.21875 56 50.046875 50.171875 \r\nQ 54.890625 44.34375 54.890625 33.015625 \r\nz\r\n\" id=\"DejaVuSans-110\"/>\r\n       <path d=\"M 45.40625 27.984375 \r\nQ 45.40625 37.75 41.375 43.109375 \r\nQ 37.359375 48.484375 30.078125 48.484375 \r\nQ 22.859375 48.484375 18.828125 43.109375 \r\nQ 14.796875 37.75 14.796875 27.984375 \r\nQ 14.796875 18.265625 18.828125 12.890625 \r\nQ 22.859375 7.515625 30.078125 7.515625 \r\nQ 37.359375 7.515625 41.375 12.890625 \r\nQ 45.40625 18.265625 45.40625 27.984375 \r\nz\r\nM 54.390625 6.78125 \r\nQ 54.390625 -7.171875 48.1875 -13.984375 \r\nQ 42 -20.796875 29.203125 -20.796875 \r\nQ 24.46875 -20.796875 20.265625 -20.09375 \r\nQ 16.0625 -19.390625 12.109375 -17.921875 \r\nL 12.109375 -9.1875 \r\nQ 16.0625 -11.328125 19.921875 -12.34375 \r\nQ 23.78125 -13.375 27.78125 -13.375 \r\nQ 36.625 -13.375 41.015625 -8.765625 \r\nQ 45.40625 -4.15625 45.40625 5.171875 \r\nL 45.40625 9.625 \r\nQ 42.625 4.78125 38.28125 2.390625 \r\nQ 33.9375 0 27.875 0 \r\nQ 17.828125 0 11.671875 7.65625 \r\nQ 5.515625 15.328125 5.515625 27.984375 \r\nQ 5.515625 40.671875 11.671875 48.328125 \r\nQ 17.828125 56 27.875 56 \r\nQ 33.9375 56 38.28125 53.609375 \r\nQ 42.625 51.21875 45.40625 46.390625 \r\nL 45.40625 54.6875 \r\nL 54.390625 54.6875 \r\nz\r\n\" id=\"DejaVuSans-103\"/>\r\n      </defs>\r\n      <use xlink:href=\"#DejaVuSans-83\"/>\r\n      <use x=\"63.476562\" xlink:href=\"#DejaVuSans-116\"/>\r\n      <use x=\"102.685547\" xlink:href=\"#DejaVuSans-97\"/>\r\n      <use x=\"163.964844\" xlink:href=\"#DejaVuSans-114\"/>\r\n      <use x=\"205.078125\" xlink:href=\"#DejaVuSans-32\"/>\r\n      <use x=\"236.865234\" xlink:href=\"#DejaVuSans-82\"/>\r\n      <use x=\"304.097656\" xlink:href=\"#DejaVuSans-97\"/>\r\n      <use x=\"365.376953\" xlink:href=\"#DejaVuSans-116\"/>\r\n      <use x=\"404.585938\" xlink:href=\"#DejaVuSans-105\"/>\r\n      <use x=\"432.369141\" xlink:href=\"#DejaVuSans-110\"/>\r\n      <use x=\"495.748047\" xlink:href=\"#DejaVuSans-103\"/>\r\n     </g>\r\n    </g>\r\n   </g>\r\n   <g id=\"matplotlib.axis_2\">\r\n    <g id=\"ytick_1\">\r\n     <g id=\"line2d_6\">\r\n      <defs>\r\n       <path d=\"M 0 0 \r\nL -3.5 0 \r\n\" id=\"mf187a87b86\" style=\"stroke:#000000;stroke-width:0.8;\"/>\r\n      </defs>\r\n      <g>\r\n       <use style=\"stroke:#000000;stroke-width:0.8;\" x=\"53.328125\" xlink:href=\"#mf187a87b86\" y=\"294.118125\"/>\r\n      </g>\r\n     </g>\r\n     <g id=\"text_7\">\r\n      <!-- 0 -->\r\n      <g transform=\"translate(39.965625 297.917344)scale(0.1 -0.1)\">\r\n       <defs>\r\n        <path d=\"M 31.78125 66.40625 \r\nQ 24.171875 66.40625 20.328125 58.90625 \r\nQ 16.5 51.421875 16.5 36.375 \r\nQ 16.5 21.390625 20.328125 13.890625 \r\nQ 24.171875 6.390625 31.78125 6.390625 \r\nQ 39.453125 6.390625 43.28125 13.890625 \r\nQ 47.125 21.390625 47.125 36.375 \r\nQ 47.125 51.421875 43.28125 58.90625 \r\nQ 39.453125 66.40625 31.78125 66.40625 \r\nz\r\nM 31.78125 74.21875 \r\nQ 44.046875 74.21875 50.515625 64.515625 \r\nQ 56.984375 54.828125 56.984375 36.375 \r\nQ 56.984375 17.96875 50.515625 8.265625 \r\nQ 44.046875 -1.421875 31.78125 -1.421875 \r\nQ 19.53125 -1.421875 13.0625 8.265625 \r\nQ 6.59375 17.96875 6.59375 36.375 \r\nQ 6.59375 54.828125 13.0625 64.515625 \r\nQ 19.53125 74.21875 31.78125 74.21875 \r\nz\r\n\" id=\"DejaVuSans-48\"/>\r\n       </defs>\r\n       <use xlink:href=\"#DejaVuSans-48\"/>\r\n      </g>\r\n     </g>\r\n    </g>\r\n    <g id=\"ytick_2\">\r\n     <g id=\"line2d_7\">\r\n      <g>\r\n       <use style=\"stroke:#000000;stroke-width:0.8;\" x=\"53.328125\" xlink:href=\"#mf187a87b86\" y=\"263.735831\"/>\r\n      </g>\r\n     </g>\r\n     <g id=\"text_8\">\r\n      <!-- 500 -->\r\n      <g transform=\"translate(27.240625 267.53505)scale(0.1 -0.1)\">\r\n       <use xlink:href=\"#DejaVuSans-53\"/>\r\n       <use x=\"63.623047\" xlink:href=\"#DejaVuSans-48\"/>\r\n       <use x=\"127.246094\" xlink:href=\"#DejaVuSans-48\"/>\r\n      </g>\r\n     </g>\r\n    </g>\r\n    <g id=\"ytick_3\">\r\n     <g id=\"line2d_8\">\r\n      <g>\r\n       <use style=\"stroke:#000000;stroke-width:0.8;\" x=\"53.328125\" xlink:href=\"#mf187a87b86\" y=\"233.353537\"/>\r\n      </g>\r\n     </g>\r\n     <g id=\"text_9\">\r\n      <!-- 1000 -->\r\n      <g transform=\"translate(20.878125 237.152756)scale(0.1 -0.1)\">\r\n       <defs>\r\n        <path d=\"M 12.40625 8.296875 \r\nL 28.515625 8.296875 \r\nL 28.515625 63.921875 \r\nL 10.984375 60.40625 \r\nL 10.984375 69.390625 \r\nL 28.421875 72.90625 \r\nL 38.28125 72.90625 \r\nL 38.28125 8.296875 \r\nL 54.390625 8.296875 \r\nL 54.390625 0 \r\nL 12.40625 0 \r\nz\r\n\" id=\"DejaVuSans-49\"/>\r\n       </defs>\r\n       <use xlink:href=\"#DejaVuSans-49\"/>\r\n       <use x=\"63.623047\" xlink:href=\"#DejaVuSans-48\"/>\r\n       <use x=\"127.246094\" xlink:href=\"#DejaVuSans-48\"/>\r\n       <use x=\"190.869141\" xlink:href=\"#DejaVuSans-48\"/>\r\n      </g>\r\n     </g>\r\n    </g>\r\n    <g id=\"ytick_4\">\r\n     <g id=\"line2d_9\">\r\n      <g>\r\n       <use style=\"stroke:#000000;stroke-width:0.8;\" x=\"53.328125\" xlink:href=\"#mf187a87b86\" y=\"202.971244\"/>\r\n      </g>\r\n     </g>\r\n     <g id=\"text_10\">\r\n      <!-- 1500 -->\r\n      <g transform=\"translate(20.878125 206.770462)scale(0.1 -0.1)\">\r\n       <use xlink:href=\"#DejaVuSans-49\"/>\r\n       <use x=\"63.623047\" xlink:href=\"#DejaVuSans-53\"/>\r\n       <use x=\"127.246094\" xlink:href=\"#DejaVuSans-48\"/>\r\n       <use x=\"190.869141\" xlink:href=\"#DejaVuSans-48\"/>\r\n      </g>\r\n     </g>\r\n    </g>\r\n    <g id=\"ytick_5\">\r\n     <g id=\"line2d_10\">\r\n      <g>\r\n       <use style=\"stroke:#000000;stroke-width:0.8;\" x=\"53.328125\" xlink:href=\"#mf187a87b86\" y=\"172.58895\"/>\r\n      </g>\r\n     </g>\r\n     <g id=\"text_11\">\r\n      <!-- 2000 -->\r\n      <g transform=\"translate(20.878125 176.388169)scale(0.1 -0.1)\">\r\n       <defs>\r\n        <path d=\"M 19.1875 8.296875 \r\nL 53.609375 8.296875 \r\nL 53.609375 0 \r\nL 7.328125 0 \r\nL 7.328125 8.296875 \r\nQ 12.9375 14.109375 22.625 23.890625 \r\nQ 32.328125 33.6875 34.8125 36.53125 \r\nQ 39.546875 41.84375 41.421875 45.53125 \r\nQ 43.3125 49.21875 43.3125 52.78125 \r\nQ 43.3125 58.59375 39.234375 62.25 \r\nQ 35.15625 65.921875 28.609375 65.921875 \r\nQ 23.96875 65.921875 18.8125 64.3125 \r\nQ 13.671875 62.703125 7.8125 59.421875 \r\nL 7.8125 69.390625 \r\nQ 13.765625 71.78125 18.9375 73 \r\nQ 24.125 74.21875 28.421875 74.21875 \r\nQ 39.75 74.21875 46.484375 68.546875 \r\nQ 53.21875 62.890625 53.21875 53.421875 \r\nQ 53.21875 48.921875 51.53125 44.890625 \r\nQ 49.859375 40.875 45.40625 35.40625 \r\nQ 44.1875 33.984375 37.640625 27.21875 \r\nQ 31.109375 20.453125 19.1875 8.296875 \r\nz\r\n\" id=\"DejaVuSans-50\"/>\r\n       </defs>\r\n       <use xlink:href=\"#DejaVuSans-50\"/>\r\n       <use x=\"63.623047\" xlink:href=\"#DejaVuSans-48\"/>\r\n       <use x=\"127.246094\" xlink:href=\"#DejaVuSans-48\"/>\r\n       <use x=\"190.869141\" xlink:href=\"#DejaVuSans-48\"/>\r\n      </g>\r\n     </g>\r\n    </g>\r\n    <g id=\"ytick_6\">\r\n     <g id=\"line2d_11\">\r\n      <g>\r\n       <use style=\"stroke:#000000;stroke-width:0.8;\" x=\"53.328125\" xlink:href=\"#mf187a87b86\" y=\"142.206656\"/>\r\n      </g>\r\n     </g>\r\n     <g id=\"text_12\">\r\n      <!-- 2500 -->\r\n      <g transform=\"translate(20.878125 146.005875)scale(0.1 -0.1)\">\r\n       <use xlink:href=\"#DejaVuSans-50\"/>\r\n       <use x=\"63.623047\" xlink:href=\"#DejaVuSans-53\"/>\r\n       <use x=\"127.246094\" xlink:href=\"#DejaVuSans-48\"/>\r\n       <use x=\"190.869141\" xlink:href=\"#DejaVuSans-48\"/>\r\n      </g>\r\n     </g>\r\n    </g>\r\n    <g id=\"ytick_7\">\r\n     <g id=\"line2d_12\">\r\n      <g>\r\n       <use style=\"stroke:#000000;stroke-width:0.8;\" x=\"53.328125\" xlink:href=\"#mf187a87b86\" y=\"111.824362\"/>\r\n      </g>\r\n     </g>\r\n     <g id=\"text_13\">\r\n      <!-- 3000 -->\r\n      <g transform=\"translate(20.878125 115.623581)scale(0.1 -0.1)\">\r\n       <use xlink:href=\"#DejaVuSans-51\"/>\r\n       <use x=\"63.623047\" xlink:href=\"#DejaVuSans-48\"/>\r\n       <use x=\"127.246094\" xlink:href=\"#DejaVuSans-48\"/>\r\n       <use x=\"190.869141\" xlink:href=\"#DejaVuSans-48\"/>\r\n      </g>\r\n     </g>\r\n    </g>\r\n    <g id=\"ytick_8\">\r\n     <g id=\"line2d_13\">\r\n      <g>\r\n       <use style=\"stroke:#000000;stroke-width:0.8;\" x=\"53.328125\" xlink:href=\"#mf187a87b86\" y=\"81.442069\"/>\r\n      </g>\r\n     </g>\r\n     <g id=\"text_14\">\r\n      <!-- 3500 -->\r\n      <g transform=\"translate(20.878125 85.241287)scale(0.1 -0.1)\">\r\n       <use xlink:href=\"#DejaVuSans-51\"/>\r\n       <use x=\"63.623047\" xlink:href=\"#DejaVuSans-53\"/>\r\n       <use x=\"127.246094\" xlink:href=\"#DejaVuSans-48\"/>\r\n       <use x=\"190.869141\" xlink:href=\"#DejaVuSans-48\"/>\r\n      </g>\r\n     </g>\r\n    </g>\r\n    <g id=\"ytick_9\">\r\n     <g id=\"line2d_14\">\r\n      <g>\r\n       <use style=\"stroke:#000000;stroke-width:0.8;\" x=\"53.328125\" xlink:href=\"#mf187a87b86\" y=\"51.059775\"/>\r\n      </g>\r\n     </g>\r\n     <g id=\"text_15\">\r\n      <!-- 4000 -->\r\n      <g transform=\"translate(20.878125 54.858994)scale(0.1 -0.1)\">\r\n       <use xlink:href=\"#DejaVuSans-52\"/>\r\n       <use x=\"63.623047\" xlink:href=\"#DejaVuSans-48\"/>\r\n       <use x=\"127.246094\" xlink:href=\"#DejaVuSans-48\"/>\r\n       <use x=\"190.869141\" xlink:href=\"#DejaVuSans-48\"/>\r\n      </g>\r\n     </g>\r\n    </g>\r\n    <g id=\"text_16\">\r\n     <!-- Total Number of Items -->\r\n     <g transform=\"translate(14.798438 213.554063)rotate(-90)scale(0.1 -0.1)\">\r\n      <defs>\r\n       <path d=\"M -0.296875 72.90625 \r\nL 61.375 72.90625 \r\nL 61.375 64.59375 \r\nL 35.5 64.59375 \r\nL 35.5 0 \r\nL 25.59375 0 \r\nL 25.59375 64.59375 \r\nL -0.296875 64.59375 \r\nz\r\n\" id=\"DejaVuSans-84\"/>\r\n       <path d=\"M 30.609375 48.390625 \r\nQ 23.390625 48.390625 19.1875 42.75 \r\nQ 14.984375 37.109375 14.984375 27.296875 \r\nQ 14.984375 17.484375 19.15625 11.84375 \r\nQ 23.34375 6.203125 30.609375 6.203125 \r\nQ 37.796875 6.203125 41.984375 11.859375 \r\nQ 46.1875 17.53125 46.1875 27.296875 \r\nQ 46.1875 37.015625 41.984375 42.703125 \r\nQ 37.796875 48.390625 30.609375 48.390625 \r\nz\r\nM 30.609375 56 \r\nQ 42.328125 56 49.015625 48.375 \r\nQ 55.71875 40.765625 55.71875 27.296875 \r\nQ 55.71875 13.875 49.015625 6.21875 \r\nQ 42.328125 -1.421875 30.609375 -1.421875 \r\nQ 18.84375 -1.421875 12.171875 6.21875 \r\nQ 5.515625 13.875 5.515625 27.296875 \r\nQ 5.515625 40.765625 12.171875 48.375 \r\nQ 18.84375 56 30.609375 56 \r\nz\r\n\" id=\"DejaVuSans-111\"/>\r\n       <path d=\"M 9.421875 75.984375 \r\nL 18.40625 75.984375 \r\nL 18.40625 0 \r\nL 9.421875 0 \r\nz\r\n\" id=\"DejaVuSans-108\"/>\r\n       <path d=\"M 9.8125 72.90625 \r\nL 23.09375 72.90625 \r\nL 55.421875 11.921875 \r\nL 55.421875 72.90625 \r\nL 64.984375 72.90625 \r\nL 64.984375 0 \r\nL 51.703125 0 \r\nL 19.390625 60.984375 \r\nL 19.390625 0 \r\nL 9.8125 0 \r\nz\r\n\" id=\"DejaVuSans-78\"/>\r\n       <path d=\"M 8.5 21.578125 \r\nL 8.5 54.6875 \r\nL 17.484375 54.6875 \r\nL 17.484375 21.921875 \r\nQ 17.484375 14.15625 20.5 10.265625 \r\nQ 23.53125 6.390625 29.59375 6.390625 \r\nQ 36.859375 6.390625 41.078125 11.03125 \r\nQ 45.3125 15.671875 45.3125 23.6875 \r\nL 45.3125 54.6875 \r\nL 54.296875 54.6875 \r\nL 54.296875 0 \r\nL 45.3125 0 \r\nL 45.3125 8.40625 \r\nQ 42.046875 3.421875 37.71875 1 \r\nQ 33.40625 -1.421875 27.6875 -1.421875 \r\nQ 18.265625 -1.421875 13.375 4.4375 \r\nQ 8.5 10.296875 8.5 21.578125 \r\nz\r\nM 31.109375 56 \r\nz\r\n\" id=\"DejaVuSans-117\"/>\r\n       <path d=\"M 52 44.1875 \r\nQ 55.375 50.25 60.0625 53.125 \r\nQ 64.75 56 71.09375 56 \r\nQ 79.640625 56 84.28125 50.015625 \r\nQ 88.921875 44.046875 88.921875 33.015625 \r\nL 88.921875 0 \r\nL 79.890625 0 \r\nL 79.890625 32.71875 \r\nQ 79.890625 40.578125 77.09375 44.375 \r\nQ 74.3125 48.1875 68.609375 48.1875 \r\nQ 61.625 48.1875 57.5625 43.546875 \r\nQ 53.515625 38.921875 53.515625 30.90625 \r\nL 53.515625 0 \r\nL 44.484375 0 \r\nL 44.484375 32.71875 \r\nQ 44.484375 40.625 41.703125 44.40625 \r\nQ 38.921875 48.1875 33.109375 48.1875 \r\nQ 26.21875 48.1875 22.15625 43.53125 \r\nQ 18.109375 38.875 18.109375 30.90625 \r\nL 18.109375 0 \r\nL 9.078125 0 \r\nL 9.078125 54.6875 \r\nL 18.109375 54.6875 \r\nL 18.109375 46.1875 \r\nQ 21.1875 51.21875 25.484375 53.609375 \r\nQ 29.78125 56 35.6875 56 \r\nQ 41.65625 56 45.828125 52.96875 \r\nQ 50 49.953125 52 44.1875 \r\nz\r\n\" id=\"DejaVuSans-109\"/>\r\n       <path d=\"M 48.6875 27.296875 \r\nQ 48.6875 37.203125 44.609375 42.84375 \r\nQ 40.53125 48.484375 33.40625 48.484375 \r\nQ 26.265625 48.484375 22.1875 42.84375 \r\nQ 18.109375 37.203125 18.109375 27.296875 \r\nQ 18.109375 17.390625 22.1875 11.75 \r\nQ 26.265625 6.109375 33.40625 6.109375 \r\nQ 40.53125 6.109375 44.609375 11.75 \r\nQ 48.6875 17.390625 48.6875 27.296875 \r\nz\r\nM 18.109375 46.390625 \r\nQ 20.953125 51.265625 25.265625 53.625 \r\nQ 29.59375 56 35.59375 56 \r\nQ 45.5625 56 51.78125 48.09375 \r\nQ 58.015625 40.1875 58.015625 27.296875 \r\nQ 58.015625 14.40625 51.78125 6.484375 \r\nQ 45.5625 -1.421875 35.59375 -1.421875 \r\nQ 29.59375 -1.421875 25.265625 0.953125 \r\nQ 20.953125 3.328125 18.109375 8.203125 \r\nL 18.109375 0 \r\nL 9.078125 0 \r\nL 9.078125 75.984375 \r\nL 18.109375 75.984375 \r\nz\r\n\" id=\"DejaVuSans-98\"/>\r\n       <path d=\"M 37.109375 75.984375 \r\nL 37.109375 68.5 \r\nL 28.515625 68.5 \r\nQ 23.6875 68.5 21.796875 66.546875 \r\nQ 19.921875 64.59375 19.921875 59.515625 \r\nL 19.921875 54.6875 \r\nL 34.71875 54.6875 \r\nL 34.71875 47.703125 \r\nL 19.921875 47.703125 \r\nL 19.921875 0 \r\nL 10.890625 0 \r\nL 10.890625 47.703125 \r\nL 2.296875 47.703125 \r\nL 2.296875 54.6875 \r\nL 10.890625 54.6875 \r\nL 10.890625 58.5 \r\nQ 10.890625 67.625 15.140625 71.796875 \r\nQ 19.390625 75.984375 28.609375 75.984375 \r\nz\r\n\" id=\"DejaVuSans-102\"/>\r\n       <path d=\"M 9.8125 72.90625 \r\nL 19.671875 72.90625 \r\nL 19.671875 0 \r\nL 9.8125 0 \r\nz\r\n\" id=\"DejaVuSans-73\"/>\r\n       <path d=\"M 44.28125 53.078125 \r\nL 44.28125 44.578125 \r\nQ 40.484375 46.53125 36.375 47.5 \r\nQ 32.28125 48.484375 27.875 48.484375 \r\nQ 21.1875 48.484375 17.84375 46.4375 \r\nQ 14.5 44.390625 14.5 40.28125 \r\nQ 14.5 37.15625 16.890625 35.375 \r\nQ 19.28125 33.59375 26.515625 31.984375 \r\nL 29.59375 31.296875 \r\nQ 39.15625 29.25 43.1875 25.515625 \r\nQ 47.21875 21.78125 47.21875 15.09375 \r\nQ 47.21875 7.46875 41.1875 3.015625 \r\nQ 35.15625 -1.421875 24.609375 -1.421875 \r\nQ 20.21875 -1.421875 15.453125 -0.5625 \r\nQ 10.6875 0.296875 5.421875 2 \r\nL 5.421875 11.28125 \r\nQ 10.40625 8.6875 15.234375 7.390625 \r\nQ 20.0625 6.109375 24.8125 6.109375 \r\nQ 31.15625 6.109375 34.5625 8.28125 \r\nQ 37.984375 10.453125 37.984375 14.40625 \r\nQ 37.984375 18.0625 35.515625 20.015625 \r\nQ 33.0625 21.96875 24.703125 23.78125 \r\nL 21.578125 24.515625 \r\nQ 13.234375 26.265625 9.515625 29.90625 \r\nQ 5.8125 33.546875 5.8125 39.890625 \r\nQ 5.8125 47.609375 11.28125 51.796875 \r\nQ 16.75 56 26.8125 56 \r\nQ 31.78125 56 36.171875 55.265625 \r\nQ 40.578125 54.546875 44.28125 53.078125 \r\nz\r\n\" id=\"DejaVuSans-115\"/>\r\n      </defs>\r\n      <use xlink:href=\"#DejaVuSans-84\"/>\r\n      <use x=\"44.083984\" xlink:href=\"#DejaVuSans-111\"/>\r\n      <use x=\"105.265625\" xlink:href=\"#DejaVuSans-116\"/>\r\n      <use x=\"144.474609\" xlink:href=\"#DejaVuSans-97\"/>\r\n      <use x=\"205.753906\" xlink:href=\"#DejaVuSans-108\"/>\r\n      <use x=\"233.537109\" xlink:href=\"#DejaVuSans-32\"/>\r\n      <use x=\"265.324219\" xlink:href=\"#DejaVuSans-78\"/>\r\n      <use x=\"340.128906\" xlink:href=\"#DejaVuSans-117\"/>\r\n      <use x=\"403.507812\" xlink:href=\"#DejaVuSans-109\"/>\r\n      <use x=\"500.919922\" xlink:href=\"#DejaVuSans-98\"/>\r\n      <use x=\"564.396484\" xlink:href=\"#DejaVuSans-101\"/>\r\n      <use x=\"625.919922\" xlink:href=\"#DejaVuSans-114\"/>\r\n      <use x=\"667.033203\" xlink:href=\"#DejaVuSans-32\"/>\r\n      <use x=\"698.820312\" xlink:href=\"#DejaVuSans-111\"/>\r\n      <use x=\"760.001953\" xlink:href=\"#DejaVuSans-102\"/>\r\n      <use x=\"795.207031\" xlink:href=\"#DejaVuSans-32\"/>\r\n      <use x=\"826.994141\" xlink:href=\"#DejaVuSans-73\"/>\r\n      <use x=\"856.486328\" xlink:href=\"#DejaVuSans-116\"/>\r\n      <use x=\"895.695312\" xlink:href=\"#DejaVuSans-101\"/>\r\n      <use x=\"957.21875\" xlink:href=\"#DejaVuSans-109\"/>\r\n      <use x=\"1054.630859\" xlink:href=\"#DejaVuSans-115\"/>\r\n     </g>\r\n    </g>\r\n   </g>\r\n   <g id=\"line2d_15\">\r\n    <path clip-path=\"url(#p979db3c40c)\" style=\"fill:none;stroke:#424242;stroke-linecap:square;stroke-width:2.7;\"/>\r\n   </g>\r\n   <g id=\"line2d_16\">\r\n    <path clip-path=\"url(#p979db3c40c)\" style=\"fill:none;stroke:#424242;stroke-linecap:square;stroke-width:2.7;\"/>\r\n   </g>\r\n   <g id=\"line2d_17\">\r\n    <path clip-path=\"url(#p979db3c40c)\" style=\"fill:none;stroke:#424242;stroke-linecap:square;stroke-width:2.7;\"/>\r\n   </g>\r\n   <g id=\"line2d_18\">\r\n    <path clip-path=\"url(#p979db3c40c)\" style=\"fill:none;stroke:#424242;stroke-linecap:square;stroke-width:2.7;\"/>\r\n   </g>\r\n   <g id=\"line2d_19\">\r\n    <path clip-path=\"url(#p979db3c40c)\" style=\"fill:none;stroke:#424242;stroke-linecap:square;stroke-width:2.7;\"/>\r\n   </g>\r\n   <g id=\"patch_8\">\r\n    <path d=\"M 53.328125 294.118125 \r\nL 53.328125 22.318125 \r\n\" style=\"fill:none;stroke:#000000;stroke-linecap:square;stroke-linejoin:miter;stroke-width:0.8;\"/>\r\n   </g>\r\n   <g id=\"patch_9\">\r\n    <path d=\"M 611.328125 294.118125 \r\nL 611.328125 22.318125 \r\n\" style=\"fill:none;stroke:#000000;stroke-linecap:square;stroke-linejoin:miter;stroke-width:0.8;\"/>\r\n   </g>\r\n   <g id=\"patch_10\">\r\n    <path d=\"M 53.328125 294.118125 \r\nL 611.328125 294.118125 \r\n\" style=\"fill:none;stroke:#000000;stroke-linecap:square;stroke-linejoin:miter;stroke-width:0.8;\"/>\r\n   </g>\r\n   <g id=\"patch_11\">\r\n    <path d=\"M 53.328125 22.318125 \r\nL 611.328125 22.318125 \r\n\" style=\"fill:none;stroke:#000000;stroke-linecap:square;stroke-linejoin:miter;stroke-width:0.8;\"/>\r\n   </g>\r\n   <g id=\"text_17\">\r\n    <!-- Total Items Rolled per Star Rating -->\r\n    <g transform=\"translate(231.979062 16.318125)scale(0.12 -0.12)\">\r\n     <defs>\r\n      <path d=\"M 45.40625 46.390625 \r\nL 45.40625 75.984375 \r\nL 54.390625 75.984375 \r\nL 54.390625 0 \r\nL 45.40625 0 \r\nL 45.40625 8.203125 \r\nQ 42.578125 3.328125 38.25 0.953125 \r\nQ 33.9375 -1.421875 27.875 -1.421875 \r\nQ 17.96875 -1.421875 11.734375 6.484375 \r\nQ 5.515625 14.40625 5.515625 27.296875 \r\nQ 5.515625 40.1875 11.734375 48.09375 \r\nQ 17.96875 56 27.875 56 \r\nQ 33.9375 56 38.25 53.625 \r\nQ 42.578125 51.265625 45.40625 46.390625 \r\nz\r\nM 14.796875 27.296875 \r\nQ 14.796875 17.390625 18.875 11.75 \r\nQ 22.953125 6.109375 30.078125 6.109375 \r\nQ 37.203125 6.109375 41.296875 11.75 \r\nQ 45.40625 17.390625 45.40625 27.296875 \r\nQ 45.40625 37.203125 41.296875 42.84375 \r\nQ 37.203125 48.484375 30.078125 48.484375 \r\nQ 22.953125 48.484375 18.875 42.84375 \r\nQ 14.796875 37.203125 14.796875 27.296875 \r\nz\r\n\" id=\"DejaVuSans-100\"/>\r\n     </defs>\r\n     <use xlink:href=\"#DejaVuSans-84\"/>\r\n     <use x=\"44.083984\" xlink:href=\"#DejaVuSans-111\"/>\r\n     <use x=\"105.265625\" xlink:href=\"#DejaVuSans-116\"/>\r\n     <use x=\"144.474609\" xlink:href=\"#DejaVuSans-97\"/>\r\n     <use x=\"205.753906\" xlink:href=\"#DejaVuSans-108\"/>\r\n     <use x=\"233.537109\" xlink:href=\"#DejaVuSans-32\"/>\r\n     <use x=\"265.324219\" xlink:href=\"#DejaVuSans-73\"/>\r\n     <use x=\"294.816406\" xlink:href=\"#DejaVuSans-116\"/>\r\n     <use x=\"334.025391\" xlink:href=\"#DejaVuSans-101\"/>\r\n     <use x=\"395.548828\" xlink:href=\"#DejaVuSans-109\"/>\r\n     <use x=\"492.960938\" xlink:href=\"#DejaVuSans-115\"/>\r\n     <use x=\"545.060547\" xlink:href=\"#DejaVuSans-32\"/>\r\n     <use x=\"576.847656\" xlink:href=\"#DejaVuSans-82\"/>\r\n     <use x=\"641.830078\" xlink:href=\"#DejaVuSans-111\"/>\r\n     <use x=\"703.011719\" xlink:href=\"#DejaVuSans-108\"/>\r\n     <use x=\"730.794922\" xlink:href=\"#DejaVuSans-108\"/>\r\n     <use x=\"758.578125\" xlink:href=\"#DejaVuSans-101\"/>\r\n     <use x=\"820.101562\" xlink:href=\"#DejaVuSans-100\"/>\r\n     <use x=\"883.578125\" xlink:href=\"#DejaVuSans-32\"/>\r\n     <use x=\"915.365234\" xlink:href=\"#DejaVuSans-112\"/>\r\n     <use x=\"978.841797\" xlink:href=\"#DejaVuSans-101\"/>\r\n     <use x=\"1040.365234\" xlink:href=\"#DejaVuSans-114\"/>\r\n     <use x=\"1081.478516\" xlink:href=\"#DejaVuSans-32\"/>\r\n     <use x=\"1113.265625\" xlink:href=\"#DejaVuSans-83\"/>\r\n     <use x=\"1176.742188\" xlink:href=\"#DejaVuSans-116\"/>\r\n     <use x=\"1215.951172\" xlink:href=\"#DejaVuSans-97\"/>\r\n     <use x=\"1277.230469\" xlink:href=\"#DejaVuSans-114\"/>\r\n     <use x=\"1318.34375\" xlink:href=\"#DejaVuSans-32\"/>\r\n     <use x=\"1350.130859\" xlink:href=\"#DejaVuSans-82\"/>\r\n     <use x=\"1417.363281\" xlink:href=\"#DejaVuSans-97\"/>\r\n     <use x=\"1478.642578\" xlink:href=\"#DejaVuSans-116\"/>\r\n     <use x=\"1517.851562\" xlink:href=\"#DejaVuSans-105\"/>\r\n     <use x=\"1545.634766\" xlink:href=\"#DejaVuSans-110\"/>\r\n     <use x=\"1609.013672\" xlink:href=\"#DejaVuSans-103\"/>\r\n    </g>\r\n   </g>\r\n  </g>\r\n </g>\r\n <defs>\r\n  <clipPath id=\"p979db3c40c\">\r\n   <rect height=\"271.8\" width=\"558\" x=\"53.328125\" y=\"22.318125\"/>\r\n  </clipPath>\r\n </defs>\r\n</svg>\r\n",
      "image/png": "[encoded data removed]"
     },
     "metadata": {
      "needs_background": "light"
     }
    }
   ],
   "source": [
    "plt.figure(figsize=(10,5))\n",
    "sns.barplot(x= sumData.index, y= 'Sum', data= sumData)\n",
    "plt.title('Total Items Rolled per Star Rating')\n",
    "plt.xlabel('Star Rating')\n",
    "plt.ylabel('Total Number of Items')\n",
    "plt.show()"
   ]
  },
  {
   "cell_type": "markdown",
   "metadata": {},
   "source": [
    "Now we will count and record the number of rolls between each 5 star attained and compute the average distance, based on our data above."
   ]
  },
  {
   "cell_type": "code",
   "execution_count": 141,
   "metadata": {},
   "outputs": [
    {
     "output_type": "stream",
     "name": "stdout",
     "text": [
      "Based of our own simulated rolls, the average number of rolls between 5 Star Summons (Weapons or Characters): 55\nA histogram below shows the frequency of rolls of 10 between each 5 star item we attained in our simulation\n"
     ]
    },
    {
     "output_type": "display_data",
     "data": {
      "text/plain": "<Figure size 432x288 with 1 Axes>",
      "image/svg+xml": "<?xml version=\"1.0\" encoding=\"utf-8\" standalone=\"no\"?>\r\n<!DOCTYPE svg PUBLIC \"-//W3C//DTD SVG 1.1//EN\"\r\n  \"http://www.w3.org/Graphics/SVG/1.1/DTD/svg11.dtd\">\r\n<!-- Created with matplotlib (https://matplotlib.org/) -->\r\n<svg height=\"277.314375pt\" version=\"1.1\" viewBox=\"0 0 382.603125 277.314375\" width=\"382.603125pt\" xmlns=\"http://www.w3.org/2000/svg\" xmlns:xlink=\"http://www.w3.org/1999/xlink\">\r\n <metadata>\r\n  <rdf:RDF xmlns:cc=\"http://creativecommons.org/ns#\" xmlns:dc=\"http://purl.org/dc/elements/1.1/\" xmlns:rdf=\"http://www.w3.org/1999/02/22-rdf-syntax-ns#\">\r\n   <cc:Work>\r\n    <dc:type rdf:resource=\"http://purl.org/dc/dcmitype/StillImage\"/>\r\n    <dc:date>2020-12-12T14:15:42.869619</dc:date>\r\n    <dc:format>image/svg+xml</dc:format>\r\n    <dc:creator>\r\n     <cc:Agent>\r\n      <dc:title>Matplotlib v3.3.2, https://matplotlib.org/</dc:title>\r\n     </cc:Agent>\r\n    </dc:creator>\r\n   </cc:Work>\r\n  </rdf:RDF>\r\n </metadata>\r\n <defs>\r\n  <style type=\"text/css\">*{stroke-linecap:butt;stroke-linejoin:round;}</style>\r\n </defs>\r\n <g id=\"figure_1\">\r\n  <g id=\"patch_1\">\r\n   <path d=\"M 0 277.314375 \r\nL 382.603125 277.314375 \r\nL 382.603125 0 \r\nL 0 0 \r\nz\r\n\" style=\"fill:none;\"/>\r\n  </g>\r\n  <g id=\"axes_1\">\r\n   <g id=\"patch_2\">\r\n    <path d=\"M 40.603125 239.758125 \r\nL 375.403125 239.758125 \r\nL 375.403125 22.318125 \r\nL 40.603125 22.318125 \r\nz\r\n\" style=\"fill:#ffffff;\"/>\r\n   </g>\r\n   <g id=\"patch_3\">\r\n    <path clip-path=\"url(#p0886784725)\" d=\"M 55.821307 239.758125 \r\nL 63.430398 239.758125 \r\nL 63.430398 197.279004 \r\nL 55.821307 197.279004 \r\nz\r\n\" style=\"fill:#1f77b4;fill-opacity:0.75;stroke:#000000;stroke-linejoin:miter;stroke-width:0.760909;\"/>\r\n   </g>\r\n   <g id=\"patch_4\">\r\n    <path clip-path=\"url(#p0886784725)\" d=\"M 63.430398 239.758125 \r\nL 71.039489 239.758125 \r\nL 71.039489 239.758125 \r\nL 63.430398 239.758125 \r\nz\r\n\" style=\"fill:#1f77b4;fill-opacity:0.75;stroke:#000000;stroke-linejoin:miter;stroke-width:0.760909;\"/>\r\n   </g>\r\n   <g id=\"patch_5\">\r\n    <path clip-path=\"url(#p0886784725)\" d=\"M 71.039489 239.758125 \r\nL 78.64858 239.758125 \r\nL 78.64858 239.758125 \r\nL 71.039489 239.758125 \r\nz\r\n\" style=\"fill:#1f77b4;fill-opacity:0.75;stroke:#000000;stroke-linejoin:miter;stroke-width:0.760909;\"/>\r\n   </g>\r\n   <g id=\"patch_6\">\r\n    <path clip-path=\"url(#p0886784725)\" d=\"M 78.64858 239.758125 \r\nL 86.25767 239.758125 \r\nL 86.25767 239.758125 \r\nL 78.64858 239.758125 \r\nz\r\n\" style=\"fill:#1f77b4;fill-opacity:0.75;stroke:#000000;stroke-linejoin:miter;stroke-width:0.760909;\"/>\r\n   </g>\r\n   <g id=\"patch_7\">\r\n    <path clip-path=\"url(#p0886784725)\" d=\"M 86.25767 239.758125 \r\nL 93.866761 239.758125 \r\nL 93.866761 239.758125 \r\nL 86.25767 239.758125 \r\nz\r\n\" style=\"fill:#1f77b4;fill-opacity:0.75;stroke:#000000;stroke-linejoin:miter;stroke-width:0.760909;\"/>\r\n   </g>\r\n   <g id=\"patch_8\">\r\n    <path clip-path=\"url(#p0886784725)\" d=\"M 93.866761 239.758125 \r\nL 101.475852 239.758125 \r\nL 101.475852 223.828455 \r\nL 93.866761 223.828455 \r\nz\r\n\" style=\"fill:#1f77b4;fill-opacity:0.75;stroke:#000000;stroke-linejoin:miter;stroke-width:0.760909;\"/>\r\n   </g>\r\n   <g id=\"patch_9\">\r\n    <path clip-path=\"url(#p0886784725)\" d=\"M 101.475852 239.758125 \r\nL 109.084943 239.758125 \r\nL 109.084943 239.758125 \r\nL 101.475852 239.758125 \r\nz\r\n\" style=\"fill:#1f77b4;fill-opacity:0.75;stroke:#000000;stroke-linejoin:miter;stroke-width:0.760909;\"/>\r\n   </g>\r\n   <g id=\"patch_10\">\r\n    <path clip-path=\"url(#p0886784725)\" d=\"M 109.084943 239.758125 \r\nL 116.694034 239.758125 \r\nL 116.694034 239.758125 \r\nL 109.084943 239.758125 \r\nz\r\n\" style=\"fill:#1f77b4;fill-opacity:0.75;stroke:#000000;stroke-linejoin:miter;stroke-width:0.760909;\"/>\r\n   </g>\r\n   <g id=\"patch_11\">\r\n    <path clip-path=\"url(#p0886784725)\" d=\"M 116.694034 239.758125 \r\nL 124.303125 239.758125 \r\nL 124.303125 239.758125 \r\nL 116.694034 239.758125 \r\nz\r\n\" style=\"fill:#1f77b4;fill-opacity:0.75;stroke:#000000;stroke-linejoin:miter;stroke-width:0.760909;\"/>\r\n   </g>\r\n   <g id=\"patch_12\">\r\n    <path clip-path=\"url(#p0886784725)\" d=\"M 124.303125 239.758125 \r\nL 131.912216 239.758125 \r\nL 131.912216 239.758125 \r\nL 124.303125 239.758125 \r\nz\r\n\" style=\"fill:#1f77b4;fill-opacity:0.75;stroke:#000000;stroke-linejoin:miter;stroke-width:0.760909;\"/>\r\n   </g>\r\n   <g id=\"patch_13\">\r\n    <path clip-path=\"url(#p0886784725)\" d=\"M 131.912216 239.758125 \r\nL 139.521307 239.758125 \r\nL 139.521307 218.518565 \r\nL 131.912216 218.518565 \r\nz\r\n\" style=\"fill:#1f77b4;fill-opacity:0.75;stroke:#000000;stroke-linejoin:miter;stroke-width:0.760909;\"/>\r\n   </g>\r\n   <g id=\"patch_14\">\r\n    <path clip-path=\"url(#p0886784725)\" d=\"M 139.521307 239.758125 \r\nL 147.130398 239.758125 \r\nL 147.130398 239.758125 \r\nL 139.521307 239.758125 \r\nz\r\n\" style=\"fill:#1f77b4;fill-opacity:0.75;stroke:#000000;stroke-linejoin:miter;stroke-width:0.760909;\"/>\r\n   </g>\r\n   <g id=\"patch_15\">\r\n    <path clip-path=\"url(#p0886784725)\" d=\"M 147.130398 239.758125 \r\nL 154.739489 239.758125 \r\nL 154.739489 239.758125 \r\nL 147.130398 239.758125 \r\nz\r\n\" style=\"fill:#1f77b4;fill-opacity:0.75;stroke:#000000;stroke-linejoin:miter;stroke-width:0.760909;\"/>\r\n   </g>\r\n   <g id=\"patch_16\">\r\n    <path clip-path=\"url(#p0886784725)\" d=\"M 154.739489 239.758125 \r\nL 162.34858 239.758125 \r\nL 162.34858 239.758125 \r\nL 154.739489 239.758125 \r\nz\r\n\" style=\"fill:#1f77b4;fill-opacity:0.75;stroke:#000000;stroke-linejoin:miter;stroke-width:0.760909;\"/>\r\n   </g>\r\n   <g id=\"patch_17\">\r\n    <path clip-path=\"url(#p0886784725)\" d=\"M 162.34858 239.758125 \r\nL 169.95767 239.758125 \r\nL 169.95767 239.758125 \r\nL 162.34858 239.758125 \r\nz\r\n\" style=\"fill:#1f77b4;fill-opacity:0.75;stroke:#000000;stroke-linejoin:miter;stroke-width:0.760909;\"/>\r\n   </g>\r\n   <g id=\"patch_18\">\r\n    <path clip-path=\"url(#p0886784725)\" d=\"M 169.95767 239.758125 \r\nL 177.566761 239.758125 \r\nL 177.566761 223.828455 \r\nL 169.95767 223.828455 \r\nz\r\n\" style=\"fill:#1f77b4;fill-opacity:0.75;stroke:#000000;stroke-linejoin:miter;stroke-width:0.760909;\"/>\r\n   </g>\r\n   <g id=\"patch_19\">\r\n    <path clip-path=\"url(#p0886784725)\" d=\"M 177.566761 239.758125 \r\nL 185.175852 239.758125 \r\nL 185.175852 239.758125 \r\nL 177.566761 239.758125 \r\nz\r\n\" style=\"fill:#1f77b4;fill-opacity:0.75;stroke:#000000;stroke-linejoin:miter;stroke-width:0.760909;\"/>\r\n   </g>\r\n   <g id=\"patch_20\">\r\n    <path clip-path=\"url(#p0886784725)\" d=\"M 185.175852 239.758125 \r\nL 192.784943 239.758125 \r\nL 192.784943 239.758125 \r\nL 185.175852 239.758125 \r\nz\r\n\" style=\"fill:#1f77b4;fill-opacity:0.75;stroke:#000000;stroke-linejoin:miter;stroke-width:0.760909;\"/>\r\n   </g>\r\n   <g id=\"patch_21\">\r\n    <path clip-path=\"url(#p0886784725)\" d=\"M 192.784943 239.758125 \r\nL 200.394034 239.758125 \r\nL 200.394034 239.758125 \r\nL 192.784943 239.758125 \r\nz\r\n\" style=\"fill:#1f77b4;fill-opacity:0.75;stroke:#000000;stroke-linejoin:miter;stroke-width:0.760909;\"/>\r\n   </g>\r\n   <g id=\"patch_22\">\r\n    <path clip-path=\"url(#p0886784725)\" d=\"M 200.394034 239.758125 \r\nL 208.003125 239.758125 \r\nL 208.003125 239.758125 \r\nL 200.394034 239.758125 \r\nz\r\n\" style=\"fill:#1f77b4;fill-opacity:0.75;stroke:#000000;stroke-linejoin:miter;stroke-width:0.760909;\"/>\r\n   </g>\r\n   <g id=\"patch_23\">\r\n    <path clip-path=\"url(#p0886784725)\" d=\"M 208.003125 239.758125 \r\nL 215.612216 239.758125 \r\nL 215.612216 229.138345 \r\nL 208.003125 229.138345 \r\nz\r\n\" style=\"fill:#1f77b4;fill-opacity:0.75;stroke:#000000;stroke-linejoin:miter;stroke-width:0.760909;\"/>\r\n   </g>\r\n   <g id=\"patch_24\">\r\n    <path clip-path=\"url(#p0886784725)\" d=\"M 215.612216 239.758125 \r\nL 223.221307 239.758125 \r\nL 223.221307 239.758125 \r\nL 215.612216 239.758125 \r\nz\r\n\" style=\"fill:#1f77b4;fill-opacity:0.75;stroke:#000000;stroke-linejoin:miter;stroke-width:0.760909;\"/>\r\n   </g>\r\n   <g id=\"patch_25\">\r\n    <path clip-path=\"url(#p0886784725)\" d=\"M 223.221307 239.758125 \r\nL 230.830398 239.758125 \r\nL 230.830398 239.758125 \r\nL 223.221307 239.758125 \r\nz\r\n\" style=\"fill:#1f77b4;fill-opacity:0.75;stroke:#000000;stroke-linejoin:miter;stroke-width:0.760909;\"/>\r\n   </g>\r\n   <g id=\"patch_26\">\r\n    <path clip-path=\"url(#p0886784725)\" d=\"M 230.830398 239.758125 \r\nL 238.439489 239.758125 \r\nL 238.439489 239.758125 \r\nL 230.830398 239.758125 \r\nz\r\n\" style=\"fill:#1f77b4;fill-opacity:0.75;stroke:#000000;stroke-linejoin:miter;stroke-width:0.760909;\"/>\r\n   </g>\r\n   <g id=\"patch_27\">\r\n    <path clip-path=\"url(#p0886784725)\" d=\"M 238.439489 239.758125 \r\nL 246.04858 239.758125 \r\nL 246.04858 239.758125 \r\nL 238.439489 239.758125 \r\nz\r\n\" style=\"fill:#1f77b4;fill-opacity:0.75;stroke:#000000;stroke-linejoin:miter;stroke-width:0.760909;\"/>\r\n   </g>\r\n   <g id=\"patch_28\">\r\n    <path clip-path=\"url(#p0886784725)\" d=\"M 246.04858 239.758125 \r\nL 253.65767 239.758125 \r\nL 253.65767 207.898784 \r\nL 246.04858 207.898784 \r\nz\r\n\" style=\"fill:#1f77b4;fill-opacity:0.75;stroke:#000000;stroke-linejoin:miter;stroke-width:0.760909;\"/>\r\n   </g>\r\n   <g id=\"patch_29\">\r\n    <path clip-path=\"url(#p0886784725)\" d=\"M 253.65767 239.758125 \r\nL 261.266761 239.758125 \r\nL 261.266761 239.758125 \r\nL 253.65767 239.758125 \r\nz\r\n\" style=\"fill:#1f77b4;fill-opacity:0.75;stroke:#000000;stroke-linejoin:miter;stroke-width:0.760909;\"/>\r\n   </g>\r\n   <g id=\"patch_30\">\r\n    <path clip-path=\"url(#p0886784725)\" d=\"M 261.266761 239.758125 \r\nL 268.875852 239.758125 \r\nL 268.875852 239.758125 \r\nL 261.266761 239.758125 \r\nz\r\n\" style=\"fill:#1f77b4;fill-opacity:0.75;stroke:#000000;stroke-linejoin:miter;stroke-width:0.760909;\"/>\r\n   </g>\r\n   <g id=\"patch_31\">\r\n    <path clip-path=\"url(#p0886784725)\" d=\"M 268.875852 239.758125 \r\nL 276.484943 239.758125 \r\nL 276.484943 239.758125 \r\nL 268.875852 239.758125 \r\nz\r\n\" style=\"fill:#1f77b4;fill-opacity:0.75;stroke:#000000;stroke-linejoin:miter;stroke-width:0.760909;\"/>\r\n   </g>\r\n   <g id=\"patch_32\">\r\n    <path clip-path=\"url(#p0886784725)\" d=\"M 276.484943 239.758125 \r\nL 284.094034 239.758125 \r\nL 284.094034 239.758125 \r\nL 276.484943 239.758125 \r\nz\r\n\" style=\"fill:#1f77b4;fill-opacity:0.75;stroke:#000000;stroke-linejoin:miter;stroke-width:0.760909;\"/>\r\n   </g>\r\n   <g id=\"patch_33\">\r\n    <path clip-path=\"url(#p0886784725)\" d=\"M 284.094034 239.758125 \r\nL 291.703125 239.758125 \r\nL 291.703125 218.518565 \r\nL 284.094034 218.518565 \r\nz\r\n\" style=\"fill:#1f77b4;fill-opacity:0.75;stroke:#000000;stroke-linejoin:miter;stroke-width:0.760909;\"/>\r\n   </g>\r\n   <g id=\"patch_34\">\r\n    <path clip-path=\"url(#p0886784725)\" d=\"M 291.703125 239.758125 \r\nL 299.312216 239.758125 \r\nL 299.312216 239.758125 \r\nL 291.703125 239.758125 \r\nz\r\n\" style=\"fill:#1f77b4;fill-opacity:0.75;stroke:#000000;stroke-linejoin:miter;stroke-width:0.760909;\"/>\r\n   </g>\r\n   <g id=\"patch_35\">\r\n    <path clip-path=\"url(#p0886784725)\" d=\"M 299.312216 239.758125 \r\nL 306.921307 239.758125 \r\nL 306.921307 239.758125 \r\nL 299.312216 239.758125 \r\nz\r\n\" style=\"fill:#1f77b4;fill-opacity:0.75;stroke:#000000;stroke-linejoin:miter;stroke-width:0.760909;\"/>\r\n   </g>\r\n   <g id=\"patch_36\">\r\n    <path clip-path=\"url(#p0886784725)\" d=\"M 306.921307 239.758125 \r\nL 314.530398 239.758125 \r\nL 314.530398 239.758125 \r\nL 306.921307 239.758125 \r\nz\r\n\" style=\"fill:#1f77b4;fill-opacity:0.75;stroke:#000000;stroke-linejoin:miter;stroke-width:0.760909;\"/>\r\n   </g>\r\n   <g id=\"patch_37\">\r\n    <path clip-path=\"url(#p0886784725)\" d=\"M 314.530398 239.758125 \r\nL 322.139489 239.758125 \r\nL 322.139489 239.758125 \r\nL 314.530398 239.758125 \r\nz\r\n\" style=\"fill:#1f77b4;fill-opacity:0.75;stroke:#000000;stroke-linejoin:miter;stroke-width:0.760909;\"/>\r\n   </g>\r\n   <g id=\"patch_38\">\r\n    <path clip-path=\"url(#p0886784725)\" d=\"M 322.139489 239.758125 \r\nL 329.74858 239.758125 \r\nL 329.74858 218.518565 \r\nL 322.139489 218.518565 \r\nz\r\n\" style=\"fill:#1f77b4;fill-opacity:0.75;stroke:#000000;stroke-linejoin:miter;stroke-width:0.760909;\"/>\r\n   </g>\r\n   <g id=\"patch_39\">\r\n    <path clip-path=\"url(#p0886784725)\" d=\"M 329.74858 239.758125 \r\nL 337.35767 239.758125 \r\nL 337.35767 239.758125 \r\nL 329.74858 239.758125 \r\nz\r\n\" style=\"fill:#1f77b4;fill-opacity:0.75;stroke:#000000;stroke-linejoin:miter;stroke-width:0.760909;\"/>\r\n   </g>\r\n   <g id=\"patch_40\">\r\n    <path clip-path=\"url(#p0886784725)\" d=\"M 337.35767 239.758125 \r\nL 344.966761 239.758125 \r\nL 344.966761 239.758125 \r\nL 337.35767 239.758125 \r\nz\r\n\" style=\"fill:#1f77b4;fill-opacity:0.75;stroke:#000000;stroke-linejoin:miter;stroke-width:0.760909;\"/>\r\n   </g>\r\n   <g id=\"patch_41\">\r\n    <path clip-path=\"url(#p0886784725)\" d=\"M 344.966761 239.758125 \r\nL 352.575852 239.758125 \r\nL 352.575852 239.758125 \r\nL 344.966761 239.758125 \r\nz\r\n\" style=\"fill:#1f77b4;fill-opacity:0.75;stroke:#000000;stroke-linejoin:miter;stroke-width:0.760909;\"/>\r\n   </g>\r\n   <g id=\"patch_42\">\r\n    <path clip-path=\"url(#p0886784725)\" d=\"M 352.575852 239.758125 \r\nL 360.184943 239.758125 \r\nL 360.184943 32.672411 \r\nL 352.575852 32.672411 \r\nz\r\n\" style=\"fill:#1f77b4;fill-opacity:0.75;stroke:#000000;stroke-linejoin:miter;stroke-width:0.760909;\"/>\r\n   </g>\r\n   <g id=\"matplotlib.axis_1\">\r\n    <g id=\"xtick_1\">\r\n     <g id=\"line2d_1\">\r\n      <defs>\r\n       <path d=\"M 0 0 \r\nL 0 3.5 \r\n\" id=\"md25ae5ae6f\" style=\"stroke:#000000;stroke-width:0.8;\"/>\r\n      </defs>\r\n      <g>\r\n       <use style=\"stroke:#000000;stroke-width:0.8;\" x=\"55.821307\" xlink:href=\"#md25ae5ae6f\" y=\"239.758125\"/>\r\n      </g>\r\n     </g>\r\n     <g id=\"text_1\">\r\n      <!-- 0 -->\r\n      <g transform=\"translate(52.640057 254.356562)scale(0.1 -0.1)\">\r\n       <defs>\r\n        <path d=\"M 31.78125 66.40625 \r\nQ 24.171875 66.40625 20.328125 58.90625 \r\nQ 16.5 51.421875 16.5 36.375 \r\nQ 16.5 21.390625 20.328125 13.890625 \r\nQ 24.171875 6.390625 31.78125 6.390625 \r\nQ 39.453125 6.390625 43.28125 13.890625 \r\nQ 47.125 21.390625 47.125 36.375 \r\nQ 47.125 51.421875 43.28125 58.90625 \r\nQ 39.453125 66.40625 31.78125 66.40625 \r\nz\r\nM 31.78125 74.21875 \r\nQ 44.046875 74.21875 50.515625 64.515625 \r\nQ 56.984375 54.828125 56.984375 36.375 \r\nQ 56.984375 17.96875 50.515625 8.265625 \r\nQ 44.046875 -1.421875 31.78125 -1.421875 \r\nQ 19.53125 -1.421875 13.0625 8.265625 \r\nQ 6.59375 17.96875 6.59375 36.375 \r\nQ 6.59375 54.828125 13.0625 64.515625 \r\nQ 19.53125 74.21875 31.78125 74.21875 \r\nz\r\n\" id=\"DejaVuSans-48\"/>\r\n       </defs>\r\n       <use xlink:href=\"#DejaVuSans-48\"/>\r\n      </g>\r\n     </g>\r\n    </g>\r\n    <g id=\"xtick_2\">\r\n     <g id=\"line2d_2\">\r\n      <g>\r\n       <use style=\"stroke:#000000;stroke-width:0.8;\" x=\"93.866761\" xlink:href=\"#md25ae5ae6f\" y=\"239.758125\"/>\r\n      </g>\r\n     </g>\r\n     <g id=\"text_2\">\r\n      <!-- 1 -->\r\n      <g transform=\"translate(90.685511 254.356562)scale(0.1 -0.1)\">\r\n       <defs>\r\n        <path d=\"M 12.40625 8.296875 \r\nL 28.515625 8.296875 \r\nL 28.515625 63.921875 \r\nL 10.984375 60.40625 \r\nL 10.984375 69.390625 \r\nL 28.421875 72.90625 \r\nL 38.28125 72.90625 \r\nL 38.28125 8.296875 \r\nL 54.390625 8.296875 \r\nL 54.390625 0 \r\nL 12.40625 0 \r\nz\r\n\" id=\"DejaVuSans-49\"/>\r\n       </defs>\r\n       <use xlink:href=\"#DejaVuSans-49\"/>\r\n      </g>\r\n     </g>\r\n    </g>\r\n    <g id=\"xtick_3\">\r\n     <g id=\"line2d_3\">\r\n      <g>\r\n       <use style=\"stroke:#000000;stroke-width:0.8;\" x=\"131.912216\" xlink:href=\"#md25ae5ae6f\" y=\"239.758125\"/>\r\n      </g>\r\n     </g>\r\n     <g id=\"text_3\">\r\n      <!-- 2 -->\r\n      <g transform=\"translate(128.730966 254.356562)scale(0.1 -0.1)\">\r\n       <defs>\r\n        <path d=\"M 19.1875 8.296875 \r\nL 53.609375 8.296875 \r\nL 53.609375 0 \r\nL 7.328125 0 \r\nL 7.328125 8.296875 \r\nQ 12.9375 14.109375 22.625 23.890625 \r\nQ 32.328125 33.6875 34.8125 36.53125 \r\nQ 39.546875 41.84375 41.421875 45.53125 \r\nQ 43.3125 49.21875 43.3125 52.78125 \r\nQ 43.3125 58.59375 39.234375 62.25 \r\nQ 35.15625 65.921875 28.609375 65.921875 \r\nQ 23.96875 65.921875 18.8125 64.3125 \r\nQ 13.671875 62.703125 7.8125 59.421875 \r\nL 7.8125 69.390625 \r\nQ 13.765625 71.78125 18.9375 73 \r\nQ 24.125 74.21875 28.421875 74.21875 \r\nQ 39.75 74.21875 46.484375 68.546875 \r\nQ 53.21875 62.890625 53.21875 53.421875 \r\nQ 53.21875 48.921875 51.53125 44.890625 \r\nQ 49.859375 40.875 45.40625 35.40625 \r\nQ 44.1875 33.984375 37.640625 27.21875 \r\nQ 31.109375 20.453125 19.1875 8.296875 \r\nz\r\n\" id=\"DejaVuSans-50\"/>\r\n       </defs>\r\n       <use xlink:href=\"#DejaVuSans-50\"/>\r\n      </g>\r\n     </g>\r\n    </g>\r\n    <g id=\"xtick_4\">\r\n     <g id=\"line2d_4\">\r\n      <g>\r\n       <use style=\"stroke:#000000;stroke-width:0.8;\" x=\"169.95767\" xlink:href=\"#md25ae5ae6f\" y=\"239.758125\"/>\r\n      </g>\r\n     </g>\r\n     <g id=\"text_4\">\r\n      <!-- 3 -->\r\n      <g transform=\"translate(166.77642 254.356562)scale(0.1 -0.1)\">\r\n       <defs>\r\n        <path d=\"M 40.578125 39.3125 \r\nQ 47.65625 37.796875 51.625 33 \r\nQ 55.609375 28.21875 55.609375 21.1875 \r\nQ 55.609375 10.40625 48.1875 4.484375 \r\nQ 40.765625 -1.421875 27.09375 -1.421875 \r\nQ 22.515625 -1.421875 17.65625 -0.515625 \r\nQ 12.796875 0.390625 7.625 2.203125 \r\nL 7.625 11.71875 \r\nQ 11.71875 9.328125 16.59375 8.109375 \r\nQ 21.484375 6.890625 26.8125 6.890625 \r\nQ 36.078125 6.890625 40.9375 10.546875 \r\nQ 45.796875 14.203125 45.796875 21.1875 \r\nQ 45.796875 27.640625 41.28125 31.265625 \r\nQ 36.765625 34.90625 28.71875 34.90625 \r\nL 20.21875 34.90625 \r\nL 20.21875 43.015625 \r\nL 29.109375 43.015625 \r\nQ 36.375 43.015625 40.234375 45.921875 \r\nQ 44.09375 48.828125 44.09375 54.296875 \r\nQ 44.09375 59.90625 40.109375 62.90625 \r\nQ 36.140625 65.921875 28.71875 65.921875 \r\nQ 24.65625 65.921875 20.015625 65.03125 \r\nQ 15.375 64.15625 9.8125 62.3125 \r\nL 9.8125 71.09375 \r\nQ 15.4375 72.65625 20.34375 73.4375 \r\nQ 25.25 74.21875 29.59375 74.21875 \r\nQ 40.828125 74.21875 47.359375 69.109375 \r\nQ 53.90625 64.015625 53.90625 55.328125 \r\nQ 53.90625 49.265625 50.4375 45.09375 \r\nQ 46.96875 40.921875 40.578125 39.3125 \r\nz\r\n\" id=\"DejaVuSans-51\"/>\r\n       </defs>\r\n       <use xlink:href=\"#DejaVuSans-51\"/>\r\n      </g>\r\n     </g>\r\n    </g>\r\n    <g id=\"xtick_5\">\r\n     <g id=\"line2d_5\">\r\n      <g>\r\n       <use style=\"stroke:#000000;stroke-width:0.8;\" x=\"208.003125\" xlink:href=\"#md25ae5ae6f\" y=\"239.758125\"/>\r\n      </g>\r\n     </g>\r\n     <g id=\"text_5\">\r\n      <!-- 4 -->\r\n      <g transform=\"translate(204.821875 254.356562)scale(0.1 -0.1)\">\r\n       <defs>\r\n        <path d=\"M 37.796875 64.3125 \r\nL 12.890625 25.390625 \r\nL 37.796875 25.390625 \r\nz\r\nM 35.203125 72.90625 \r\nL 47.609375 72.90625 \r\nL 47.609375 25.390625 \r\nL 58.015625 25.390625 \r\nL 58.015625 17.1875 \r\nL 47.609375 17.1875 \r\nL 47.609375 0 \r\nL 37.796875 0 \r\nL 37.796875 17.1875 \r\nL 4.890625 17.1875 \r\nL 4.890625 26.703125 \r\nz\r\n\" id=\"DejaVuSans-52\"/>\r\n       </defs>\r\n       <use xlink:href=\"#DejaVuSans-52\"/>\r\n      </g>\r\n     </g>\r\n    </g>\r\n    <g id=\"xtick_6\">\r\n     <g id=\"line2d_6\">\r\n      <g>\r\n       <use style=\"stroke:#000000;stroke-width:0.8;\" x=\"246.04858\" xlink:href=\"#md25ae5ae6f\" y=\"239.758125\"/>\r\n      </g>\r\n     </g>\r\n     <g id=\"text_6\">\r\n      <!-- 5 -->\r\n      <g transform=\"translate(242.86733 254.356562)scale(0.1 -0.1)\">\r\n       <defs>\r\n        <path d=\"M 10.796875 72.90625 \r\nL 49.515625 72.90625 \r\nL 49.515625 64.59375 \r\nL 19.828125 64.59375 \r\nL 19.828125 46.734375 \r\nQ 21.96875 47.46875 24.109375 47.828125 \r\nQ 26.265625 48.1875 28.421875 48.1875 \r\nQ 40.625 48.1875 47.75 41.5 \r\nQ 54.890625 34.8125 54.890625 23.390625 \r\nQ 54.890625 11.625 47.5625 5.09375 \r\nQ 40.234375 -1.421875 26.90625 -1.421875 \r\nQ 22.3125 -1.421875 17.546875 -0.640625 \r\nQ 12.796875 0.140625 7.71875 1.703125 \r\nL 7.71875 11.625 \r\nQ 12.109375 9.234375 16.796875 8.0625 \r\nQ 21.484375 6.890625 26.703125 6.890625 \r\nQ 35.15625 6.890625 40.078125 11.328125 \r\nQ 45.015625 15.765625 45.015625 23.390625 \r\nQ 45.015625 31 40.078125 35.4375 \r\nQ 35.15625 39.890625 26.703125 39.890625 \r\nQ 22.75 39.890625 18.8125 39.015625 \r\nQ 14.890625 38.140625 10.796875 36.28125 \r\nz\r\n\" id=\"DejaVuSans-53\"/>\r\n       </defs>\r\n       <use xlink:href=\"#DejaVuSans-53\"/>\r\n      </g>\r\n     </g>\r\n    </g>\r\n    <g id=\"xtick_7\">\r\n     <g id=\"line2d_7\">\r\n      <g>\r\n       <use style=\"stroke:#000000;stroke-width:0.8;\" x=\"284.094034\" xlink:href=\"#md25ae5ae6f\" y=\"239.758125\"/>\r\n      </g>\r\n     </g>\r\n     <g id=\"text_7\">\r\n      <!-- 6 -->\r\n      <g transform=\"translate(280.912784 254.356562)scale(0.1 -0.1)\">\r\n       <defs>\r\n        <path d=\"M 33.015625 40.375 \r\nQ 26.375 40.375 22.484375 35.828125 \r\nQ 18.609375 31.296875 18.609375 23.390625 \r\nQ 18.609375 15.53125 22.484375 10.953125 \r\nQ 26.375 6.390625 33.015625 6.390625 \r\nQ 39.65625 6.390625 43.53125 10.953125 \r\nQ 47.40625 15.53125 47.40625 23.390625 \r\nQ 47.40625 31.296875 43.53125 35.828125 \r\nQ 39.65625 40.375 33.015625 40.375 \r\nz\r\nM 52.59375 71.296875 \r\nL 52.59375 62.3125 \r\nQ 48.875 64.0625 45.09375 64.984375 \r\nQ 41.3125 65.921875 37.59375 65.921875 \r\nQ 27.828125 65.921875 22.671875 59.328125 \r\nQ 17.53125 52.734375 16.796875 39.40625 \r\nQ 19.671875 43.65625 24.015625 45.921875 \r\nQ 28.375 48.1875 33.59375 48.1875 \r\nQ 44.578125 48.1875 50.953125 41.515625 \r\nQ 57.328125 34.859375 57.328125 23.390625 \r\nQ 57.328125 12.15625 50.6875 5.359375 \r\nQ 44.046875 -1.421875 33.015625 -1.421875 \r\nQ 20.359375 -1.421875 13.671875 8.265625 \r\nQ 6.984375 17.96875 6.984375 36.375 \r\nQ 6.984375 53.65625 15.1875 63.9375 \r\nQ 23.390625 74.21875 37.203125 74.21875 \r\nQ 40.921875 74.21875 44.703125 73.484375 \r\nQ 48.484375 72.75 52.59375 71.296875 \r\nz\r\n\" id=\"DejaVuSans-54\"/>\r\n       </defs>\r\n       <use xlink:href=\"#DejaVuSans-54\"/>\r\n      </g>\r\n     </g>\r\n    </g>\r\n    <g id=\"xtick_8\">\r\n     <g id=\"line2d_8\">\r\n      <g>\r\n       <use style=\"stroke:#000000;stroke-width:0.8;\" x=\"322.139489\" xlink:href=\"#md25ae5ae6f\" y=\"239.758125\"/>\r\n      </g>\r\n     </g>\r\n     <g id=\"text_8\">\r\n      <!-- 7 -->\r\n      <g transform=\"translate(318.958239 254.356562)scale(0.1 -0.1)\">\r\n       <defs>\r\n        <path d=\"M 8.203125 72.90625 \r\nL 55.078125 72.90625 \r\nL 55.078125 68.703125 \r\nL 28.609375 0 \r\nL 18.3125 0 \r\nL 43.21875 64.59375 \r\nL 8.203125 64.59375 \r\nz\r\n\" id=\"DejaVuSans-55\"/>\r\n       </defs>\r\n       <use xlink:href=\"#DejaVuSans-55\"/>\r\n      </g>\r\n     </g>\r\n    </g>\r\n    <g id=\"xtick_9\">\r\n     <g id=\"line2d_9\">\r\n      <g>\r\n       <use style=\"stroke:#000000;stroke-width:0.8;\" x=\"360.184943\" xlink:href=\"#md25ae5ae6f\" y=\"239.758125\"/>\r\n      </g>\r\n     </g>\r\n     <g id=\"text_9\">\r\n      <!-- 8 -->\r\n      <g transform=\"translate(357.003693 254.356562)scale(0.1 -0.1)\">\r\n       <defs>\r\n        <path d=\"M 31.78125 34.625 \r\nQ 24.75 34.625 20.71875 30.859375 \r\nQ 16.703125 27.09375 16.703125 20.515625 \r\nQ 16.703125 13.921875 20.71875 10.15625 \r\nQ 24.75 6.390625 31.78125 6.390625 \r\nQ 38.8125 6.390625 42.859375 10.171875 \r\nQ 46.921875 13.96875 46.921875 20.515625 \r\nQ 46.921875 27.09375 42.890625 30.859375 \r\nQ 38.875 34.625 31.78125 34.625 \r\nz\r\nM 21.921875 38.8125 \r\nQ 15.578125 40.375 12.03125 44.71875 \r\nQ 8.5 49.078125 8.5 55.328125 \r\nQ 8.5 64.0625 14.71875 69.140625 \r\nQ 20.953125 74.21875 31.78125 74.21875 \r\nQ 42.671875 74.21875 48.875 69.140625 \r\nQ 55.078125 64.0625 55.078125 55.328125 \r\nQ 55.078125 49.078125 51.53125 44.71875 \r\nQ 48 40.375 41.703125 38.8125 \r\nQ 48.828125 37.15625 52.796875 32.3125 \r\nQ 56.78125 27.484375 56.78125 20.515625 \r\nQ 56.78125 9.90625 50.3125 4.234375 \r\nQ 43.84375 -1.421875 31.78125 -1.421875 \r\nQ 19.734375 -1.421875 13.25 4.234375 \r\nQ 6.78125 9.90625 6.78125 20.515625 \r\nQ 6.78125 27.484375 10.78125 32.3125 \r\nQ 14.796875 37.15625 21.921875 38.8125 \r\nz\r\nM 18.3125 54.390625 \r\nQ 18.3125 48.734375 21.84375 45.5625 \r\nQ 25.390625 42.390625 31.78125 42.390625 \r\nQ 38.140625 42.390625 41.71875 45.5625 \r\nQ 45.3125 48.734375 45.3125 54.390625 \r\nQ 45.3125 60.0625 41.71875 63.234375 \r\nQ 38.140625 66.40625 31.78125 66.40625 \r\nQ 25.390625 66.40625 21.84375 63.234375 \r\nQ 18.3125 60.0625 18.3125 54.390625 \r\nz\r\n\" id=\"DejaVuSans-56\"/>\r\n       </defs>\r\n       <use xlink:href=\"#DejaVuSans-56\"/>\r\n      </g>\r\n     </g>\r\n    </g>\r\n    <g id=\"text_10\">\r\n     <!-- Number of (10) Rolls -->\r\n     <g transform=\"translate(156.375 268.034687)scale(0.1 -0.1)\">\r\n      <defs>\r\n       <path d=\"M 9.8125 72.90625 \r\nL 23.09375 72.90625 \r\nL 55.421875 11.921875 \r\nL 55.421875 72.90625 \r\nL 64.984375 72.90625 \r\nL 64.984375 0 \r\nL 51.703125 0 \r\nL 19.390625 60.984375 \r\nL 19.390625 0 \r\nL 9.8125 0 \r\nz\r\n\" id=\"DejaVuSans-78\"/>\r\n       <path d=\"M 8.5 21.578125 \r\nL 8.5 54.6875 \r\nL 17.484375 54.6875 \r\nL 17.484375 21.921875 \r\nQ 17.484375 14.15625 20.5 10.265625 \r\nQ 23.53125 6.390625 29.59375 6.390625 \r\nQ 36.859375 6.390625 41.078125 11.03125 \r\nQ 45.3125 15.671875 45.3125 23.6875 \r\nL 45.3125 54.6875 \r\nL 54.296875 54.6875 \r\nL 54.296875 0 \r\nL 45.3125 0 \r\nL 45.3125 8.40625 \r\nQ 42.046875 3.421875 37.71875 1 \r\nQ 33.40625 -1.421875 27.6875 -1.421875 \r\nQ 18.265625 -1.421875 13.375 4.4375 \r\nQ 8.5 10.296875 8.5 21.578125 \r\nz\r\nM 31.109375 56 \r\nz\r\n\" id=\"DejaVuSans-117\"/>\r\n       <path d=\"M 52 44.1875 \r\nQ 55.375 50.25 60.0625 53.125 \r\nQ 64.75 56 71.09375 56 \r\nQ 79.640625 56 84.28125 50.015625 \r\nQ 88.921875 44.046875 88.921875 33.015625 \r\nL 88.921875 0 \r\nL 79.890625 0 \r\nL 79.890625 32.71875 \r\nQ 79.890625 40.578125 77.09375 44.375 \r\nQ 74.3125 48.1875 68.609375 48.1875 \r\nQ 61.625 48.1875 57.5625 43.546875 \r\nQ 53.515625 38.921875 53.515625 30.90625 \r\nL 53.515625 0 \r\nL 44.484375 0 \r\nL 44.484375 32.71875 \r\nQ 44.484375 40.625 41.703125 44.40625 \r\nQ 38.921875 48.1875 33.109375 48.1875 \r\nQ 26.21875 48.1875 22.15625 43.53125 \r\nQ 18.109375 38.875 18.109375 30.90625 \r\nL 18.109375 0 \r\nL 9.078125 0 \r\nL 9.078125 54.6875 \r\nL 18.109375 54.6875 \r\nL 18.109375 46.1875 \r\nQ 21.1875 51.21875 25.484375 53.609375 \r\nQ 29.78125 56 35.6875 56 \r\nQ 41.65625 56 45.828125 52.96875 \r\nQ 50 49.953125 52 44.1875 \r\nz\r\n\" id=\"DejaVuSans-109\"/>\r\n       <path d=\"M 48.6875 27.296875 \r\nQ 48.6875 37.203125 44.609375 42.84375 \r\nQ 40.53125 48.484375 33.40625 48.484375 \r\nQ 26.265625 48.484375 22.1875 42.84375 \r\nQ 18.109375 37.203125 18.109375 27.296875 \r\nQ 18.109375 17.390625 22.1875 11.75 \r\nQ 26.265625 6.109375 33.40625 6.109375 \r\nQ 40.53125 6.109375 44.609375 11.75 \r\nQ 48.6875 17.390625 48.6875 27.296875 \r\nz\r\nM 18.109375 46.390625 \r\nQ 20.953125 51.265625 25.265625 53.625 \r\nQ 29.59375 56 35.59375 56 \r\nQ 45.5625 56 51.78125 48.09375 \r\nQ 58.015625 40.1875 58.015625 27.296875 \r\nQ 58.015625 14.40625 51.78125 6.484375 \r\nQ 45.5625 -1.421875 35.59375 -1.421875 \r\nQ 29.59375 -1.421875 25.265625 0.953125 \r\nQ 20.953125 3.328125 18.109375 8.203125 \r\nL 18.109375 0 \r\nL 9.078125 0 \r\nL 9.078125 75.984375 \r\nL 18.109375 75.984375 \r\nz\r\n\" id=\"DejaVuSans-98\"/>\r\n       <path d=\"M 56.203125 29.59375 \r\nL 56.203125 25.203125 \r\nL 14.890625 25.203125 \r\nQ 15.484375 15.921875 20.484375 11.0625 \r\nQ 25.484375 6.203125 34.421875 6.203125 \r\nQ 39.59375 6.203125 44.453125 7.46875 \r\nQ 49.3125 8.734375 54.109375 11.28125 \r\nL 54.109375 2.78125 \r\nQ 49.265625 0.734375 44.1875 -0.34375 \r\nQ 39.109375 -1.421875 33.890625 -1.421875 \r\nQ 20.796875 -1.421875 13.15625 6.1875 \r\nQ 5.515625 13.8125 5.515625 26.8125 \r\nQ 5.515625 40.234375 12.765625 48.109375 \r\nQ 20.015625 56 32.328125 56 \r\nQ 43.359375 56 49.78125 48.890625 \r\nQ 56.203125 41.796875 56.203125 29.59375 \r\nz\r\nM 47.21875 32.234375 \r\nQ 47.125 39.59375 43.09375 43.984375 \r\nQ 39.0625 48.390625 32.421875 48.390625 \r\nQ 24.90625 48.390625 20.390625 44.140625 \r\nQ 15.875 39.890625 15.1875 32.171875 \r\nz\r\n\" id=\"DejaVuSans-101\"/>\r\n       <path d=\"M 41.109375 46.296875 \r\nQ 39.59375 47.171875 37.8125 47.578125 \r\nQ 36.03125 48 33.890625 48 \r\nQ 26.265625 48 22.1875 43.046875 \r\nQ 18.109375 38.09375 18.109375 28.8125 \r\nL 18.109375 0 \r\nL 9.078125 0 \r\nL 9.078125 54.6875 \r\nL 18.109375 54.6875 \r\nL 18.109375 46.1875 \r\nQ 20.953125 51.171875 25.484375 53.578125 \r\nQ 30.03125 56 36.53125 56 \r\nQ 37.453125 56 38.578125 55.875 \r\nQ 39.703125 55.765625 41.0625 55.515625 \r\nz\r\n\" id=\"DejaVuSans-114\"/>\r\n       <path id=\"DejaVuSans-32\"/>\r\n       <path d=\"M 30.609375 48.390625 \r\nQ 23.390625 48.390625 19.1875 42.75 \r\nQ 14.984375 37.109375 14.984375 27.296875 \r\nQ 14.984375 17.484375 19.15625 11.84375 \r\nQ 23.34375 6.203125 30.609375 6.203125 \r\nQ 37.796875 6.203125 41.984375 11.859375 \r\nQ 46.1875 17.53125 46.1875 27.296875 \r\nQ 46.1875 37.015625 41.984375 42.703125 \r\nQ 37.796875 48.390625 30.609375 48.390625 \r\nz\r\nM 30.609375 56 \r\nQ 42.328125 56 49.015625 48.375 \r\nQ 55.71875 40.765625 55.71875 27.296875 \r\nQ 55.71875 13.875 49.015625 6.21875 \r\nQ 42.328125 -1.421875 30.609375 -1.421875 \r\nQ 18.84375 -1.421875 12.171875 6.21875 \r\nQ 5.515625 13.875 5.515625 27.296875 \r\nQ 5.515625 40.765625 12.171875 48.375 \r\nQ 18.84375 56 30.609375 56 \r\nz\r\n\" id=\"DejaVuSans-111\"/>\r\n       <path d=\"M 37.109375 75.984375 \r\nL 37.109375 68.5 \r\nL 28.515625 68.5 \r\nQ 23.6875 68.5 21.796875 66.546875 \r\nQ 19.921875 64.59375 19.921875 59.515625 \r\nL 19.921875 54.6875 \r\nL 34.71875 54.6875 \r\nL 34.71875 47.703125 \r\nL 19.921875 47.703125 \r\nL 19.921875 0 \r\nL 10.890625 0 \r\nL 10.890625 47.703125 \r\nL 2.296875 47.703125 \r\nL 2.296875 54.6875 \r\nL 10.890625 54.6875 \r\nL 10.890625 58.5 \r\nQ 10.890625 67.625 15.140625 71.796875 \r\nQ 19.390625 75.984375 28.609375 75.984375 \r\nz\r\n\" id=\"DejaVuSans-102\"/>\r\n       <path d=\"M 31 75.875 \r\nQ 24.46875 64.65625 21.28125 53.65625 \r\nQ 18.109375 42.671875 18.109375 31.390625 \r\nQ 18.109375 20.125 21.3125 9.0625 \r\nQ 24.515625 -2 31 -13.1875 \r\nL 23.1875 -13.1875 \r\nQ 15.875 -1.703125 12.234375 9.375 \r\nQ 8.59375 20.453125 8.59375 31.390625 \r\nQ 8.59375 42.28125 12.203125 53.3125 \r\nQ 15.828125 64.359375 23.1875 75.875 \r\nz\r\n\" id=\"DejaVuSans-40\"/>\r\n       <path d=\"M 8.015625 75.875 \r\nL 15.828125 75.875 \r\nQ 23.140625 64.359375 26.78125 53.3125 \r\nQ 30.421875 42.28125 30.421875 31.390625 \r\nQ 30.421875 20.453125 26.78125 9.375 \r\nQ 23.140625 -1.703125 15.828125 -13.1875 \r\nL 8.015625 -13.1875 \r\nQ 14.5 -2 17.703125 9.0625 \r\nQ 20.90625 20.125 20.90625 31.390625 \r\nQ 20.90625 42.671875 17.703125 53.65625 \r\nQ 14.5 64.65625 8.015625 75.875 \r\nz\r\n\" id=\"DejaVuSans-41\"/>\r\n       <path d=\"M 44.390625 34.1875 \r\nQ 47.5625 33.109375 50.5625 29.59375 \r\nQ 53.5625 26.078125 56.59375 19.921875 \r\nL 66.609375 0 \r\nL 56 0 \r\nL 46.6875 18.703125 \r\nQ 43.0625 26.03125 39.671875 28.421875 \r\nQ 36.28125 30.8125 30.421875 30.8125 \r\nL 19.671875 30.8125 \r\nL 19.671875 0 \r\nL 9.8125 0 \r\nL 9.8125 72.90625 \r\nL 32.078125 72.90625 \r\nQ 44.578125 72.90625 50.734375 67.671875 \r\nQ 56.890625 62.453125 56.890625 51.90625 \r\nQ 56.890625 45.015625 53.6875 40.46875 \r\nQ 50.484375 35.9375 44.390625 34.1875 \r\nz\r\nM 19.671875 64.796875 \r\nL 19.671875 38.921875 \r\nL 32.078125 38.921875 \r\nQ 39.203125 38.921875 42.84375 42.21875 \r\nQ 46.484375 45.515625 46.484375 51.90625 \r\nQ 46.484375 58.296875 42.84375 61.546875 \r\nQ 39.203125 64.796875 32.078125 64.796875 \r\nz\r\n\" id=\"DejaVuSans-82\"/>\r\n       <path d=\"M 9.421875 75.984375 \r\nL 18.40625 75.984375 \r\nL 18.40625 0 \r\nL 9.421875 0 \r\nz\r\n\" id=\"DejaVuSans-108\"/>\r\n       <path d=\"M 44.28125 53.078125 \r\nL 44.28125 44.578125 \r\nQ 40.484375 46.53125 36.375 47.5 \r\nQ 32.28125 48.484375 27.875 48.484375 \r\nQ 21.1875 48.484375 17.84375 46.4375 \r\nQ 14.5 44.390625 14.5 40.28125 \r\nQ 14.5 37.15625 16.890625 35.375 \r\nQ 19.28125 33.59375 26.515625 31.984375 \r\nL 29.59375 31.296875 \r\nQ 39.15625 29.25 43.1875 25.515625 \r\nQ 47.21875 21.78125 47.21875 15.09375 \r\nQ 47.21875 7.46875 41.1875 3.015625 \r\nQ 35.15625 -1.421875 24.609375 -1.421875 \r\nQ 20.21875 -1.421875 15.453125 -0.5625 \r\nQ 10.6875 0.296875 5.421875 2 \r\nL 5.421875 11.28125 \r\nQ 10.40625 8.6875 15.234375 7.390625 \r\nQ 20.0625 6.109375 24.8125 6.109375 \r\nQ 31.15625 6.109375 34.5625 8.28125 \r\nQ 37.984375 10.453125 37.984375 14.40625 \r\nQ 37.984375 18.0625 35.515625 20.015625 \r\nQ 33.0625 21.96875 24.703125 23.78125 \r\nL 21.578125 24.515625 \r\nQ 13.234375 26.265625 9.515625 29.90625 \r\nQ 5.8125 33.546875 5.8125 39.890625 \r\nQ 5.8125 47.609375 11.28125 51.796875 \r\nQ 16.75 56 26.8125 56 \r\nQ 31.78125 56 36.171875 55.265625 \r\nQ 40.578125 54.546875 44.28125 53.078125 \r\nz\r\n\" id=\"DejaVuSans-115\"/>\r\n      </defs>\r\n      <use xlink:href=\"#DejaVuSans-78\"/>\r\n      <use x=\"74.804688\" xlink:href=\"#DejaVuSans-117\"/>\r\n      <use x=\"138.183594\" xlink:href=\"#DejaVuSans-109\"/>\r\n      <use x=\"235.595703\" xlink:href=\"#DejaVuSans-98\"/>\r\n      <use x=\"299.072266\" xlink:href=\"#DejaVuSans-101\"/>\r\n      <use x=\"360.595703\" xlink:href=\"#DejaVuSans-114\"/>\r\n      <use x=\"401.708984\" xlink:href=\"#DejaVuSans-32\"/>\r\n      <use x=\"433.496094\" xlink:href=\"#DejaVuSans-111\"/>\r\n      <use x=\"494.677734\" xlink:href=\"#DejaVuSans-102\"/>\r\n      <use x=\"529.882812\" xlink:href=\"#DejaVuSans-32\"/>\r\n      <use x=\"561.669922\" xlink:href=\"#DejaVuSans-40\"/>\r\n      <use x=\"600.683594\" xlink:href=\"#DejaVuSans-49\"/>\r\n      <use x=\"664.306641\" xlink:href=\"#DejaVuSans-48\"/>\r\n      <use x=\"727.929688\" xlink:href=\"#DejaVuSans-41\"/>\r\n      <use x=\"766.943359\" xlink:href=\"#DejaVuSans-32\"/>\r\n      <use x=\"798.730469\" xlink:href=\"#DejaVuSans-82\"/>\r\n      <use x=\"863.712891\" xlink:href=\"#DejaVuSans-111\"/>\r\n      <use x=\"924.894531\" xlink:href=\"#DejaVuSans-108\"/>\r\n      <use x=\"952.677734\" xlink:href=\"#DejaVuSans-108\"/>\r\n      <use x=\"980.460938\" xlink:href=\"#DejaVuSans-115\"/>\r\n     </g>\r\n    </g>\r\n   </g>\r\n   <g id=\"matplotlib.axis_2\">\r\n    <g id=\"ytick_1\">\r\n     <g id=\"line2d_10\">\r\n      <defs>\r\n       <path d=\"M 0 0 \r\nL -3.5 0 \r\n\" id=\"mea2317786d\" style=\"stroke:#000000;stroke-width:0.8;\"/>\r\n      </defs>\r\n      <g>\r\n       <use style=\"stroke:#000000;stroke-width:0.8;\" x=\"40.603125\" xlink:href=\"#mea2317786d\" y=\"239.758125\"/>\r\n      </g>\r\n     </g>\r\n     <g id=\"text_11\">\r\n      <!-- 0 -->\r\n      <g transform=\"translate(27.240625 243.557344)scale(0.1 -0.1)\">\r\n       <use xlink:href=\"#DejaVuSans-48\"/>\r\n      </g>\r\n     </g>\r\n    </g>\r\n    <g id=\"ytick_2\">\r\n     <g id=\"line2d_11\">\r\n      <g>\r\n       <use style=\"stroke:#000000;stroke-width:0.8;\" x=\"40.603125\" xlink:href=\"#mea2317786d\" y=\"213.208674\"/>\r\n      </g>\r\n     </g>\r\n     <g id=\"text_12\">\r\n      <!-- 5 -->\r\n      <g transform=\"translate(27.240625 217.007893)scale(0.1 -0.1)\">\r\n       <use xlink:href=\"#DejaVuSans-53\"/>\r\n      </g>\r\n     </g>\r\n    </g>\r\n    <g id=\"ytick_3\">\r\n     <g id=\"line2d_12\">\r\n      <g>\r\n       <use style=\"stroke:#000000;stroke-width:0.8;\" x=\"40.603125\" xlink:href=\"#mea2317786d\" y=\"186.659224\"/>\r\n      </g>\r\n     </g>\r\n     <g id=\"text_13\">\r\n      <!-- 10 -->\r\n      <g transform=\"translate(20.878125 190.458443)scale(0.1 -0.1)\">\r\n       <use xlink:href=\"#DejaVuSans-49\"/>\r\n       <use x=\"63.623047\" xlink:href=\"#DejaVuSans-48\"/>\r\n      </g>\r\n     </g>\r\n    </g>\r\n    <g id=\"ytick_4\">\r\n     <g id=\"line2d_13\">\r\n      <g>\r\n       <use style=\"stroke:#000000;stroke-width:0.8;\" x=\"40.603125\" xlink:href=\"#mea2317786d\" y=\"160.109773\"/>\r\n      </g>\r\n     </g>\r\n     <g id=\"text_14\">\r\n      <!-- 15 -->\r\n      <g transform=\"translate(20.878125 163.908992)scale(0.1 -0.1)\">\r\n       <use xlink:href=\"#DejaVuSans-49\"/>\r\n       <use x=\"63.623047\" xlink:href=\"#DejaVuSans-53\"/>\r\n      </g>\r\n     </g>\r\n    </g>\r\n    <g id=\"ytick_5\">\r\n     <g id=\"line2d_14\">\r\n      <g>\r\n       <use style=\"stroke:#000000;stroke-width:0.8;\" x=\"40.603125\" xlink:href=\"#mea2317786d\" y=\"133.560323\"/>\r\n      </g>\r\n     </g>\r\n     <g id=\"text_15\">\r\n      <!-- 20 -->\r\n      <g transform=\"translate(20.878125 137.359542)scale(0.1 -0.1)\">\r\n       <use xlink:href=\"#DejaVuSans-50\"/>\r\n       <use x=\"63.623047\" xlink:href=\"#DejaVuSans-48\"/>\r\n      </g>\r\n     </g>\r\n    </g>\r\n    <g id=\"ytick_6\">\r\n     <g id=\"line2d_15\">\r\n      <g>\r\n       <use style=\"stroke:#000000;stroke-width:0.8;\" x=\"40.603125\" xlink:href=\"#mea2317786d\" y=\"107.010872\"/>\r\n      </g>\r\n     </g>\r\n     <g id=\"text_16\">\r\n      <!-- 25 -->\r\n      <g transform=\"translate(20.878125 110.810091)scale(0.1 -0.1)\">\r\n       <use xlink:href=\"#DejaVuSans-50\"/>\r\n       <use x=\"63.623047\" xlink:href=\"#DejaVuSans-53\"/>\r\n      </g>\r\n     </g>\r\n    </g>\r\n    <g id=\"ytick_7\">\r\n     <g id=\"line2d_16\">\r\n      <g>\r\n       <use style=\"stroke:#000000;stroke-width:0.8;\" x=\"40.603125\" xlink:href=\"#mea2317786d\" y=\"80.461422\"/>\r\n      </g>\r\n     </g>\r\n     <g id=\"text_17\">\r\n      <!-- 30 -->\r\n      <g transform=\"translate(20.878125 84.26064)scale(0.1 -0.1)\">\r\n       <use xlink:href=\"#DejaVuSans-51\"/>\r\n       <use x=\"63.623047\" xlink:href=\"#DejaVuSans-48\"/>\r\n      </g>\r\n     </g>\r\n    </g>\r\n    <g id=\"ytick_8\">\r\n     <g id=\"line2d_17\">\r\n      <g>\r\n       <use style=\"stroke:#000000;stroke-width:0.8;\" x=\"40.603125\" xlink:href=\"#mea2317786d\" y=\"53.911971\"/>\r\n      </g>\r\n     </g>\r\n     <g id=\"text_18\">\r\n      <!-- 35 -->\r\n      <g transform=\"translate(20.878125 57.71119)scale(0.1 -0.1)\">\r\n       <use xlink:href=\"#DejaVuSans-51\"/>\r\n       <use x=\"63.623047\" xlink:href=\"#DejaVuSans-53\"/>\r\n      </g>\r\n     </g>\r\n    </g>\r\n    <g id=\"ytick_9\">\r\n     <g id=\"line2d_18\">\r\n      <g>\r\n       <use style=\"stroke:#000000;stroke-width:0.8;\" x=\"40.603125\" xlink:href=\"#mea2317786d\" y=\"27.362521\"/>\r\n      </g>\r\n     </g>\r\n     <g id=\"text_19\">\r\n      <!-- 40 -->\r\n      <g transform=\"translate(20.878125 31.161739)scale(0.1 -0.1)\">\r\n       <use xlink:href=\"#DejaVuSans-52\"/>\r\n       <use x=\"63.623047\" xlink:href=\"#DejaVuSans-48\"/>\r\n      </g>\r\n     </g>\r\n    </g>\r\n    <g id=\"text_20\">\r\n     <!-- Count -->\r\n     <g transform=\"translate(14.798438 145.886562)rotate(-90)scale(0.1 -0.1)\">\r\n      <defs>\r\n       <path d=\"M 64.40625 67.28125 \r\nL 64.40625 56.890625 \r\nQ 59.421875 61.53125 53.78125 63.8125 \r\nQ 48.140625 66.109375 41.796875 66.109375 \r\nQ 29.296875 66.109375 22.65625 58.46875 \r\nQ 16.015625 50.828125 16.015625 36.375 \r\nQ 16.015625 21.96875 22.65625 14.328125 \r\nQ 29.296875 6.6875 41.796875 6.6875 \r\nQ 48.140625 6.6875 53.78125 8.984375 \r\nQ 59.421875 11.28125 64.40625 15.921875 \r\nL 64.40625 5.609375 \r\nQ 59.234375 2.09375 53.4375 0.328125 \r\nQ 47.65625 -1.421875 41.21875 -1.421875 \r\nQ 24.65625 -1.421875 15.125 8.703125 \r\nQ 5.609375 18.84375 5.609375 36.375 \r\nQ 5.609375 53.953125 15.125 64.078125 \r\nQ 24.65625 74.21875 41.21875 74.21875 \r\nQ 47.75 74.21875 53.53125 72.484375 \r\nQ 59.328125 70.75 64.40625 67.28125 \r\nz\r\n\" id=\"DejaVuSans-67\"/>\r\n       <path d=\"M 54.890625 33.015625 \r\nL 54.890625 0 \r\nL 45.90625 0 \r\nL 45.90625 32.71875 \r\nQ 45.90625 40.484375 42.875 44.328125 \r\nQ 39.84375 48.1875 33.796875 48.1875 \r\nQ 26.515625 48.1875 22.3125 43.546875 \r\nQ 18.109375 38.921875 18.109375 30.90625 \r\nL 18.109375 0 \r\nL 9.078125 0 \r\nL 9.078125 54.6875 \r\nL 18.109375 54.6875 \r\nL 18.109375 46.1875 \r\nQ 21.34375 51.125 25.703125 53.5625 \r\nQ 30.078125 56 35.796875 56 \r\nQ 45.21875 56 50.046875 50.171875 \r\nQ 54.890625 44.34375 54.890625 33.015625 \r\nz\r\n\" id=\"DejaVuSans-110\"/>\r\n       <path d=\"M 18.3125 70.21875 \r\nL 18.3125 54.6875 \r\nL 36.8125 54.6875 \r\nL 36.8125 47.703125 \r\nL 18.3125 47.703125 \r\nL 18.3125 18.015625 \r\nQ 18.3125 11.328125 20.140625 9.421875 \r\nQ 21.96875 7.515625 27.59375 7.515625 \r\nL 36.8125 7.515625 \r\nL 36.8125 0 \r\nL 27.59375 0 \r\nQ 17.1875 0 13.234375 3.875 \r\nQ 9.28125 7.765625 9.28125 18.015625 \r\nL 9.28125 47.703125 \r\nL 2.6875 47.703125 \r\nL 2.6875 54.6875 \r\nL 9.28125 54.6875 \r\nL 9.28125 70.21875 \r\nz\r\n\" id=\"DejaVuSans-116\"/>\r\n      </defs>\r\n      <use xlink:href=\"#DejaVuSans-67\"/>\r\n      <use x=\"69.824219\" xlink:href=\"#DejaVuSans-111\"/>\r\n      <use x=\"131.005859\" xlink:href=\"#DejaVuSans-117\"/>\r\n      <use x=\"194.384766\" xlink:href=\"#DejaVuSans-110\"/>\r\n      <use x=\"257.763672\" xlink:href=\"#DejaVuSans-116\"/>\r\n     </g>\r\n    </g>\r\n   </g>\r\n   <g id=\"patch_43\">\r\n    <path d=\"M 40.603125 239.758125 \r\nL 40.603125 22.318125 \r\n\" style=\"fill:none;stroke:#000000;stroke-linecap:square;stroke-linejoin:miter;stroke-width:0.8;\"/>\r\n   </g>\r\n   <g id=\"patch_44\">\r\n    <path d=\"M 375.403125 239.758125 \r\nL 375.403125 22.318125 \r\n\" style=\"fill:none;stroke:#000000;stroke-linecap:square;stroke-linejoin:miter;stroke-width:0.8;\"/>\r\n   </g>\r\n   <g id=\"patch_45\">\r\n    <path d=\"M 40.603125 239.758125 \r\nL 375.403125 239.758125 \r\n\" style=\"fill:none;stroke:#000000;stroke-linecap:square;stroke-linejoin:miter;stroke-width:0.8;\"/>\r\n   </g>\r\n   <g id=\"patch_46\">\r\n    <path d=\"M 40.603125 22.318125 \r\nL 375.403125 22.318125 \r\n\" style=\"fill:none;stroke:#000000;stroke-linecap:square;stroke-linejoin:miter;stroke-width:0.8;\"/>\r\n   </g>\r\n   <g id=\"text_21\">\r\n    <!-- Frequency of Rolls of 10 -->\r\n    <g transform=\"translate(136.148438 16.318125)scale(0.12 -0.12)\">\r\n     <defs>\r\n      <path d=\"M 9.8125 72.90625 \r\nL 51.703125 72.90625 \r\nL 51.703125 64.59375 \r\nL 19.671875 64.59375 \r\nL 19.671875 43.109375 \r\nL 48.578125 43.109375 \r\nL 48.578125 34.8125 \r\nL 19.671875 34.8125 \r\nL 19.671875 0 \r\nL 9.8125 0 \r\nz\r\n\" id=\"DejaVuSans-70\"/>\r\n      <path d=\"M 14.796875 27.296875 \r\nQ 14.796875 17.390625 18.875 11.75 \r\nQ 22.953125 6.109375 30.078125 6.109375 \r\nQ 37.203125 6.109375 41.296875 11.75 \r\nQ 45.40625 17.390625 45.40625 27.296875 \r\nQ 45.40625 37.203125 41.296875 42.84375 \r\nQ 37.203125 48.484375 30.078125 48.484375 \r\nQ 22.953125 48.484375 18.875 42.84375 \r\nQ 14.796875 37.203125 14.796875 27.296875 \r\nz\r\nM 45.40625 8.203125 \r\nQ 42.578125 3.328125 38.25 0.953125 \r\nQ 33.9375 -1.421875 27.875 -1.421875 \r\nQ 17.96875 -1.421875 11.734375 6.484375 \r\nQ 5.515625 14.40625 5.515625 27.296875 \r\nQ 5.515625 40.1875 11.734375 48.09375 \r\nQ 17.96875 56 27.875 56 \r\nQ 33.9375 56 38.25 53.625 \r\nQ 42.578125 51.265625 45.40625 46.390625 \r\nL 45.40625 54.6875 \r\nL 54.390625 54.6875 \r\nL 54.390625 -20.796875 \r\nL 45.40625 -20.796875 \r\nz\r\n\" id=\"DejaVuSans-113\"/>\r\n      <path d=\"M 48.78125 52.59375 \r\nL 48.78125 44.1875 \r\nQ 44.96875 46.296875 41.140625 47.34375 \r\nQ 37.3125 48.390625 33.40625 48.390625 \r\nQ 24.65625 48.390625 19.8125 42.84375 \r\nQ 14.984375 37.3125 14.984375 27.296875 \r\nQ 14.984375 17.28125 19.8125 11.734375 \r\nQ 24.65625 6.203125 33.40625 6.203125 \r\nQ 37.3125 6.203125 41.140625 7.25 \r\nQ 44.96875 8.296875 48.78125 10.40625 \r\nL 48.78125 2.09375 \r\nQ 45.015625 0.34375 40.984375 -0.53125 \r\nQ 36.96875 -1.421875 32.421875 -1.421875 \r\nQ 20.0625 -1.421875 12.78125 6.34375 \r\nQ 5.515625 14.109375 5.515625 27.296875 \r\nQ 5.515625 40.671875 12.859375 48.328125 \r\nQ 20.21875 56 33.015625 56 \r\nQ 37.15625 56 41.109375 55.140625 \r\nQ 45.0625 54.296875 48.78125 52.59375 \r\nz\r\n\" id=\"DejaVuSans-99\"/>\r\n      <path d=\"M 32.171875 -5.078125 \r\nQ 28.375 -14.84375 24.75 -17.8125 \r\nQ 21.140625 -20.796875 15.09375 -20.796875 \r\nL 7.90625 -20.796875 \r\nL 7.90625 -13.28125 \r\nL 13.1875 -13.28125 \r\nQ 16.890625 -13.28125 18.9375 -11.515625 \r\nQ 21 -9.765625 23.484375 -3.21875 \r\nL 25.09375 0.875 \r\nL 2.984375 54.6875 \r\nL 12.5 54.6875 \r\nL 29.59375 11.921875 \r\nL 46.6875 54.6875 \r\nL 56.203125 54.6875 \r\nz\r\n\" id=\"DejaVuSans-121\"/>\r\n     </defs>\r\n     <use xlink:href=\"#DejaVuSans-70\"/>\r\n     <use x=\"50.269531\" xlink:href=\"#DejaVuSans-114\"/>\r\n     <use x=\"89.132812\" xlink:href=\"#DejaVuSans-101\"/>\r\n     <use x=\"150.65625\" xlink:href=\"#DejaVuSans-113\"/>\r\n     <use x=\"214.132812\" xlink:href=\"#DejaVuSans-117\"/>\r\n     <use x=\"277.511719\" xlink:href=\"#DejaVuSans-101\"/>\r\n     <use x=\"339.035156\" xlink:href=\"#DejaVuSans-110\"/>\r\n     <use x=\"402.414062\" xlink:href=\"#DejaVuSans-99\"/>\r\n     <use x=\"457.394531\" xlink:href=\"#DejaVuSans-121\"/>\r\n     <use x=\"516.574219\" xlink:href=\"#DejaVuSans-32\"/>\r\n     <use x=\"548.361328\" xlink:href=\"#DejaVuSans-111\"/>\r\n     <use x=\"609.542969\" xlink:href=\"#DejaVuSans-102\"/>\r\n     <use x=\"644.748047\" xlink:href=\"#DejaVuSans-32\"/>\r\n     <use x=\"676.535156\" xlink:href=\"#DejaVuSans-82\"/>\r\n     <use x=\"741.517578\" xlink:href=\"#DejaVuSans-111\"/>\r\n     <use x=\"802.699219\" xlink:href=\"#DejaVuSans-108\"/>\r\n     <use x=\"830.482422\" xlink:href=\"#DejaVuSans-108\"/>\r\n     <use x=\"858.265625\" xlink:href=\"#DejaVuSans-115\"/>\r\n     <use x=\"910.365234\" xlink:href=\"#DejaVuSans-32\"/>\r\n     <use x=\"942.152344\" xlink:href=\"#DejaVuSans-111\"/>\r\n     <use x=\"1003.333984\" xlink:href=\"#DejaVuSans-102\"/>\r\n     <use x=\"1038.539062\" xlink:href=\"#DejaVuSans-32\"/>\r\n     <use x=\"1070.326172\" xlink:href=\"#DejaVuSans-49\"/>\r\n     <use x=\"1133.949219\" xlink:href=\"#DejaVuSans-48\"/>\r\n    </g>\r\n   </g>\r\n  </g>\r\n </g>\r\n <defs>\r\n  <clipPath id=\"p0886784725\">\r\n   <rect height=\"217.44\" width=\"334.8\" x=\"40.603125\" y=\"22.318125\"/>\r\n  </clipPath>\r\n </defs>\r\n</svg>\r\n",
      "image/png": "[encoded data removed]"
     },
     "metadata": {
      "needs_background": "light"
     }
    }
   ],
   "source": [
    "freq = pd.DataFrame(columns= ['Number of (10) Rolls'])\n",
    "count = 0\n",
    "sumDistances= 0\n",
    "data['response'] = pd.Series(0, index=data.index)\n",
    "item = 1\n",
    "\n",
    "for w, c, index in zip(data['5StarWeap'].to_numpy(), data['5StarChar'].to_numpy(), data.index):\n",
    "    if (w > 0) or (c > 0):\n",
    "        data.loc[index, 'response'] = item\n",
    "        item += 1\n",
    "        #Add count to the frequency dataframe\n",
    "        freq.loc[index] = count\n",
    "        #Add distance to sum\n",
    "        sumDistances += count\n",
    "        #Resets the distnace counter\n",
    "        count = 0\n",
    "    else:\n",
    "        count+= 1\n",
    "\n",
    "sns.histplot(data= freq, x=\"Number of (10) Rolls\", binwidth= .2).set_title('Frequency of Rolls of 10')\n",
    "#We are summing the distances between each 5 star item, then dividing the distances over the number of 5 stars attained to compute avg rolls per 5 star.\n",
    "print('Based of our own simulated rolls, the average number of rolls between 5 Star Summons (Weapons or Characters):' , round(10*(sumDistances/(data['5StarChar'].sum()+ data['5StarWeap'].sum()))))\n",
    "print('A histogram below shows the frequency of rolls of 10 between each 5 star item we attained in our simulation')\n",
    "\n"
   ]
  },
  {
   "cell_type": "markdown",
   "metadata": {},
   "source": [
    "## Fitting a Linear Model\n",
    "We could use the value above to say that a player would, on average, need to roll 55 times to get a 5 star summon (weapon or character). However, we can double check by trying to fit a linear model."
   ]
  },
  {
   "cell_type": "code",
   "execution_count": 142,
   "metadata": {},
   "outputs": [
    {
     "output_type": "stream",
     "name": "stdout",
     "text": [
      "                            OLS Regression Results                            \n==============================================================================\nDep. Variable:               response   R-squared:                       0.998\nModel:                            OLS   Adj. R-squared:                  0.998\nMethod:                 Least Squares   F-statistic:                 3.606e+04\nDate:                Sat, 12 Dec 2020   Prob (F-statistic):           7.73e-98\nTime:                        14:15:43   Log-Likelihood:                -98.600\nNo. Observations:                  73   AIC:                             201.2\nDf Residuals:                      71   BIC:                             205.8\nDf Model:                           1                                         \nCovariance Type:            nonrobust                                         \n==============================================================================\n                 coef    std err          t      P>|t|      [0.025      0.975]\n------------------------------------------------------------------------------\nIntercept      2.4255      0.213     11.379      0.000       2.000       2.850\nindex          0.1421      0.001    189.906      0.000       0.141       0.144\n==============================================================================\nOmnibus:                        0.916   Durbin-Watson:                   0.198\nProb(Omnibus):                  0.633   Jarque-Bera (JB):                0.370\nSkew:                           0.002   Prob(JB):                        0.831\nKurtosis:                       3.349   Cond. No.                         548.\n==============================================================================\n\nNotes:\n[1] Standard Errors assume that the covariance matrix of the errors is correctly specified.\n"
     ]
    }
   ],
   "source": [
    "linear_model = data[data['response'] != 0]\n",
    "linear_model['index'] = linear_model.index\n",
    "\n",
    "import statsmodels.formula.api as sm\n",
    "ols = sm.ols('response~index', data = linear_model).fit()\n",
    "print(ols.summary())"
   ]
  },
  {
   "cell_type": "markdown",
   "metadata": {},
   "source": [
    "We can see that our predictor, index, has a P-value of zero, meaning that it is a significant predictor in explaining variability of our response variable (number of 5 star weapons / characters obtained). We can also see for simple linear regression, we havea n R-squared of 0.998, meaning that the model we have just created can explain 99.8% of all variability in the model. Thus, we have determined that the number of rolls you will instigate is correlated with the amount of 5 stars obtained. Due to the high R-squared value, it is unlikely that there are additional predictors that can we have not accounted for.\n",
    "\n",
    "The slope by itself indicates that for every 1 grouping of rolls (or for every 10 rolls) the number of 5 star weapons / characters increases by 0.1421 items. Since this does not make much sense, we can instead repharse it as such:\n",
    "\n",
    "For every 7 rolls of 10 (70 individual rolls) rolls, the number of 5 star weapons / characters increases by approximately 1. \n",
    "\n",
    "Note: In this case, an intercept of 2.4255 does not make any sense, since that would be implying that despite doing no rolls, we would still end up with around 3 5 star items / characters. Moving forward, we will ignore the intercept due to this logical fallacy.\n",
    "\n"
   ]
  },
  {
   "cell_type": "markdown",
   "metadata": {},
   "source": [
    "## Analyzing Probabilties\n",
    "Based on our data, let us see the probability of attaining either 5 star character or weapon, seperately."
   ]
  },
  {
   "cell_type": "code",
   "execution_count": 143,
   "metadata": {},
   "outputs": [
    {
     "output_type": "stream",
     "name": "stdout",
     "text": [
      "Probability of achieving a 5 Star Character: 0.0086\n"
     ]
    }
   ],
   "source": [
    "print('Probability of achieving a 5 Star Character:' , data['5StarChar'].sum()/(5000))"
   ]
  },
  {
   "cell_type": "code",
   "execution_count": 144,
   "metadata": {},
   "outputs": [
    {
     "output_type": "stream",
     "name": "stdout",
     "text": [
      "Probability of achieving a 5 Star Character: 0.0068\n"
     ]
    }
   ],
   "source": [
    "print('Probability of achieving a 5 Star Character:' , data['5StarWeap'].sum()/(5000))"
   ]
  },
  {
   "cell_type": "markdown",
   "metadata": {},
   "source": [
    "However, we need to factor in both the sum of 5 star characters and weapons we get. Why? Each roll we are doing has the possiblity of attaining any 5 star item (or multiple if you are really lucky).\n"
   ]
  },
  {
   "cell_type": "code",
   "execution_count": 145,
   "metadata": {},
   "outputs": [
    {
     "output_type": "stream",
     "name": "stdout",
     "text": [
      "Probability of achieving a 5 Star Character: 0.0154\n"
     ]
    }
   ],
   "source": [
    "print('Probability of achieving a 5 Star Character:' , (data['5StarChar'].sum()+data['5StarWeap'].sum())/(5000))"
   ]
  },
  {
   "cell_type": "markdown",
   "metadata": {},
   "source": [
    "Woah! The adjusted probability of achieving a five star item is around 1.54%. How can this be? Isj't 0.6% the 'advertised' probability? It is because Genshin Impact implements a ***pity*** system. The game takes \"pity\" on the player, and guarantees an item after *x* number of rolls. For a 5 star, the pity system kicks in at 90 rolls, i.e after 89 rolls, if you do not attain a 5 star character, the next **90th roll** will be a **guaranteed** 5 star item. Then, the pity system resets until the next 5 star item is attained. Wow, this is quite revolutionary for the gacha game industry."
   ]
  },
  {
   "cell_type": "markdown",
   "metadata": {},
   "source": [
    "We can mathematically compute a similar probability to what we calculated above. Following a binomial probability distrubution, with probability of each roll being .006, the cummulative probability of attaining one 5 star item for 90 rolls is calculated as follows:"
   ]
  },
  {
   "cell_type": "markdown",
   "metadata": {},
   "source": [
    "<center>First we must calculate the cummulative probability of attaining one 5 star over 89 rolls:</center>\n",
    "\\begin{equation}\n",
    "P(X < x) = F(1; .006, 89) = \\sum_{i=0}^{1} \\binom{89}{i}(p)^{i}(1-p)^{89-i}))= .5853\n",
    "\\end{equation}\n",
    "\n",
    "\n",
    "\n",
    "\\begin{equation}\n",
    "P(X \\geq x) = 1 - .585313 = .4147\n",
    "\\end{equation}\n",
    "\n",
    "<center>Factor in the 100% probability of attaining a 5 Star on the 90th roll. Then, the cummulative probaility at 90 rolls is:</center>\n",
    "\n",
    "\\begin{equation}\n",
    "1 + .4147 = 1.4147\n",
    "\\end{equation}\n",
    "\n",
    "<center>Adjusted probability per roll is:</center>\n",
    "\n",
    "\\begin{equation}\n",
    "1.4147 / 90 = .01571 \\approx 1.6\\%\n",
    "\\end{equation}\n",
    "\n"
   ]
  },
  {
   "cell_type": "markdown",
   "metadata": {},
   "source": [
    "So we have the adjusted probability to attain a 5 Star per roll. Now, here is the question. How many rolls do we expected to perform in to order to attain that 5 Star item. This follows a geometric probability distribution, specifically the distribution of the number *x* of Bernoulli trials needed to get one success.The expected value of rolls to attain 1 success is:\n",
    "\\begin{equation}\n",
    "E(rolls) = 1/ p\n",
    "\\end{equation}\n",
    "Let us calculate the expected number of rolls based on non-pity system probability.\n",
    "\\begin{equation}\n",
    "E(rolls) = 1/(.006) \\approx 167 \\;rolls\n",
    "\\end{equation}\n",
    "Now, let us calculate the expected number of rolls based on the pity system probability.\n",
    "\\begin{equation}\n",
    "E(rolls) = 1/(.016) \\approx 63 \\;rolls\n",
    "\\end{equation}\n",
    "That is about 100 rolls less, saving countless dollars. The financial horror will be showcased later.\n"
   ]
  },
  {
   "cell_type": "markdown",
   "metadata": {},
   "source": [
    "Let us graph the geometric distribution with probability = 0.016 and analyze the cummulative probabilities."
   ]
  },
  {
   "cell_type": "code",
   "execution_count": 146,
   "metadata": {},
   "outputs": [
    {
     "output_type": "stream",
     "name": "stdout",
     "text": [
      "Probability that one would roll 1 roll(s) or less until first success: 1.6 %\n",
      "Probability that one would roll 2 roll(s) or less until first success: 3.17 %\n",
      "Probability that one would roll 3 roll(s) or less until first success: 4.72 %\n",
      "Probability that one would roll 4 roll(s) or less until first success: 6.25 %\n",
      "Probability that one would roll 5 roll(s) or less until first success: 7.75 %\n",
      "Probability that one would roll 6 roll(s) or less until first success: 9.22 %\n",
      "Probability that one would roll 7 roll(s) or less until first success: 10.68 %\n",
      "Probability that one would roll 8 roll(s) or less until first success: 12.11 %\n",
      "Probability that one would roll 9 roll(s) or less until first success: 13.51 %\n",
      "Probability that one would roll 10 roll(s) or less until first success: 14.9 %\n",
      "Probability that one would roll 11 roll(s) or less until first success: 16.26 %\n",
      "Probability that one would roll 12 roll(s) or less until first success: 17.6 %\n",
      "Probability that one would roll 13 roll(s) or less until first success: 18.92 %\n",
      "Probability that one would roll 14 roll(s) or less until first success: 20.21 %\n",
      "Probability that one would roll 15 roll(s) or less until first success: 21.49 %\n",
      "Probability that one would roll 16 roll(s) or less until first success: 22.75 %\n",
      "Probability that one would roll 17 roll(s) or less until first success: 23.98 %\n",
      "Probability that one would roll 18 roll(s) or less until first success: 25.2 %\n",
      "Probability that one would roll 19 roll(s) or less until first success: 26.4 %\n",
      "Probability that one would roll 20 roll(s) or less until first success: 27.57 %\n",
      "Probability that one would roll 21 roll(s) or less until first success: 28.73 %\n",
      "Probability that one would roll 22 roll(s) or less until first success: 29.87 %\n",
      "Probability that one would roll 23 roll(s) or less until first success: 30.99 %\n",
      "Probability that one would roll 24 roll(s) or less until first success: 32.1 %\n",
      "Probability that one would roll 25 roll(s) or less until first success: 33.18 %\n",
      "Probability that one would roll 26 roll(s) or less until first success: 34.25 %\n",
      "Probability that one would roll 27 roll(s) or less until first success: 35.31 %\n",
      "Probability that one would roll 28 roll(s) or less until first success: 36.34 %\n",
      "Probability that one would roll 29 roll(s) or less until first success: 37.36 %\n",
      "Probability that one would roll 30 roll(s) or less until first success: 38.36 %\n",
      "Probability that one would roll 31 roll(s) or less until first success: 39.35 %\n",
      "Probability that one would roll 32 roll(s) or less until first success: 40.32 %\n",
      "Probability that one would roll 33 roll(s) or less until first success: 41.27 %\n",
      "Probability that one would roll 34 roll(s) or less until first success: 42.21 %\n",
      "Probability that one would roll 35 roll(s) or less until first success: 43.14 %\n",
      "Probability that one would roll 36 roll(s) or less until first success: 44.05 %\n",
      "Probability that one would roll 37 roll(s) or less until first success: 44.94 %\n",
      "Probability that one would roll 38 roll(s) or less until first success: 45.82 %\n",
      "Probability that one would roll 39 roll(s) or less until first success: 46.69 %\n",
      "Probability that one would roll 40 roll(s) or less until first success: 47.54 %\n",
      "Probability that one would roll 41 roll(s) or less until first success: 48.38 %\n",
      "Probability that one would roll 42 roll(s) or less until first success: 49.21 %\n",
      "Probability that one would roll 43 roll(s) or less until first success: 50.02 %\n",
      "Probability that one would roll 44 roll(s) or less until first success: 50.82 %\n",
      "Probability that one would roll 45 roll(s) or less until first success: 51.61 %\n",
      "Probability that one would roll 46 roll(s) or less until first success: 52.38 %\n",
      "Probability that one would roll 47 roll(s) or less until first success: 53.14 %\n",
      "Probability that one would roll 48 roll(s) or less until first success: 53.89 %\n",
      "Probability that one would roll 49 roll(s) or less until first success: 54.63 %\n",
      "Probability that one would roll 50 roll(s) or less until first success: 55.36 %\n",
      "Probability that one would roll 51 roll(s) or less until first success: 56.07 %\n",
      "Probability that one would roll 52 roll(s) or less until first success: 56.77 %\n",
      "Probability that one would roll 53 roll(s) or less until first success: 57.47 %\n",
      "Probability that one would roll 54 roll(s) or less until first success: 58.15 %\n",
      "Probability that one would roll 55 roll(s) or less until first success: 58.82 %\n",
      "Probability that one would roll 56 roll(s) or less until first success: 59.47 %\n",
      "Probability that one would roll 57 roll(s) or less until first success: 60.12 %\n",
      "Probability that one would roll 58 roll(s) or less until first success: 60.76 %\n",
      "Probability that one would roll 59 roll(s) or less until first success: 61.39 %\n",
      "Probability that one would roll 60 roll(s) or less until first success: 62.01 %\n",
      "Probability that one would roll 61 roll(s) or less until first success: 62.61 %\n",
      "Probability that one would roll 62 roll(s) or less until first success: 63.21 %\n",
      "Probability that one would roll 63 roll(s) or less until first success: 63.8 %\n",
      "Probability that one would roll 64 roll(s) or less until first success: 64.38 %\n",
      "Probability that one would roll 65 roll(s) or less until first success: 64.95 %\n",
      "Probability that one would roll 66 roll(s) or less until first success: 65.51 %\n",
      "Probability that one would roll 67 roll(s) or less until first success: 66.06 %\n",
      "Probability that one would roll 68 roll(s) or less until first success: 66.61 %\n",
      "Probability that one would roll 69 roll(s) or less until first success: 67.14 %\n",
      "Probability that one would roll 70 roll(s) or less until first success: 67.67 %\n",
      "Probability that one would roll 71 roll(s) or less until first success: 68.18 %\n",
      "Probability that one would roll 72 roll(s) or less until first success: 68.69 %\n",
      "Probability that one would roll 73 roll(s) or less until first success: 69.19 %\n",
      "Probability that one would roll 74 roll(s) or less until first success: 69.69 %\n",
      "Probability that one would roll 75 roll(s) or less until first success: 70.17 %\n",
      "Probability that one would roll 76 roll(s) or less until first success: 70.65 %\n",
      "Probability that one would roll 77 roll(s) or less until first success: 71.12 %\n",
      "Probability that one would roll 78 roll(s) or less until first success: 71.58 %\n",
      "Probability that one would roll 79 roll(s) or less until first success: 72.04 %\n",
      "Probability that one would roll 80 roll(s) or less until first success: 72.48 %\n",
      "Probability that one would roll 81 roll(s) or less until first success: 72.92 %\n",
      "Probability that one would roll 82 roll(s) or less until first success: 73.36 %\n",
      "Probability that one would roll 83 roll(s) or less until first success: 73.78 %\n",
      "Probability that one would roll 84 roll(s) or less until first success: 74.2 %\n",
      "Probability that one would roll 85 roll(s) or less until first success: 74.61 %\n",
      "Probability that one would roll 86 roll(s) or less until first success: 75.02 %\n",
      "Probability that one would roll 87 roll(s) or less until first success: 75.42 %\n",
      "Probability that one would roll 88 roll(s) or less until first success: 75.81 %\n",
      "Probability that one would roll 89 roll(s) or less until first success: 76.2 %\n",
      "Probability that one would roll 90 roll(s) or less until first success: 76.58 %\n"
     ]
    },
    {
     "output_type": "display_data",
     "data": {
      "text/plain": "<Figure size 432x288 with 1 Axes>",
      "image/svg+xml": "<?xml version=\"1.0\" encoding=\"utf-8\" standalone=\"no\"?>\r\n<!DOCTYPE svg PUBLIC \"-//W3C//DTD SVG 1.1//EN\"\r\n  \"http://www.w3.org/Graphics/SVG/1.1/DTD/svg11.dtd\">\r\n<!-- Created with matplotlib (https://matplotlib.org/) -->\r\n<svg height=\"277.314375pt\" version=\"1.1\" viewBox=\"0 0 398.50625 277.314375\" width=\"398.50625pt\" xmlns=\"http://www.w3.org/2000/svg\" xmlns:xlink=\"http://www.w3.org/1999/xlink\">\r\n <metadata>\r\n  <rdf:RDF xmlns:cc=\"http://creativecommons.org/ns#\" xmlns:dc=\"http://purl.org/dc/elements/1.1/\" xmlns:rdf=\"http://www.w3.org/1999/02/22-rdf-syntax-ns#\">\r\n   <cc:Work>\r\n    <dc:type rdf:resource=\"http://purl.org/dc/dcmitype/StillImage\"/>\r\n    <dc:date>2020-12-12T14:15:43.763229</dc:date>\r\n    <dc:format>image/svg+xml</dc:format>\r\n    <dc:creator>\r\n     <cc:Agent>\r\n      <dc:title>Matplotlib v3.3.2, https://matplotlib.org/</dc:title>\r\n     </cc:Agent>\r\n    </dc:creator>\r\n   </cc:Work>\r\n  </rdf:RDF>\r\n </metadata>\r\n <defs>\r\n  <style type=\"text/css\">*{stroke-linecap:butt;stroke-linejoin:round;}</style>\r\n </defs>\r\n <g id=\"figure_1\">\r\n  <g id=\"patch_1\">\r\n   <path d=\"M 0 277.314375 \r\nL 398.50625 277.314375 \r\nL 398.50625 0 \r\nL 0 0 \r\nz\r\n\" style=\"fill:none;\"/>\r\n  </g>\r\n  <g id=\"axes_1\">\r\n   <g id=\"patch_2\">\r\n    <path d=\"M 56.50625 239.758125 \r\nL 391.30625 239.758125 \r\nL 391.30625 22.318125 \r\nL 56.50625 22.318125 \r\nz\r\n\" style=\"fill:#ffffff;\"/>\r\n   </g>\r\n   <g id=\"matplotlib.axis_1\">\r\n    <g id=\"xtick_1\">\r\n     <g id=\"line2d_1\">\r\n      <defs>\r\n       <path d=\"M 0 0 \r\nL 0 3.5 \r\n\" id=\"md6c06b3b64\" style=\"stroke:#000000;stroke-width:0.8;\"/>\r\n      </defs>\r\n      <g>\r\n       <use style=\"stroke:#000000;stroke-width:0.8;\" x=\"68.304616\" xlink:href=\"#md6c06b3b64\" y=\"239.758125\"/>\r\n      </g>\r\n     </g>\r\n     <g id=\"text_1\">\r\n      <!-- 0 -->\r\n      <g transform=\"translate(65.123366 254.356562)scale(0.1 -0.1)\">\r\n       <defs>\r\n        <path d=\"M 31.78125 66.40625 \r\nQ 24.171875 66.40625 20.328125 58.90625 \r\nQ 16.5 51.421875 16.5 36.375 \r\nQ 16.5 21.390625 20.328125 13.890625 \r\nQ 24.171875 6.390625 31.78125 6.390625 \r\nQ 39.453125 6.390625 43.28125 13.890625 \r\nQ 47.125 21.390625 47.125 36.375 \r\nQ 47.125 51.421875 43.28125 58.90625 \r\nQ 39.453125 66.40625 31.78125 66.40625 \r\nz\r\nM 31.78125 74.21875 \r\nQ 44.046875 74.21875 50.515625 64.515625 \r\nQ 56.984375 54.828125 56.984375 36.375 \r\nQ 56.984375 17.96875 50.515625 8.265625 \r\nQ 44.046875 -1.421875 31.78125 -1.421875 \r\nQ 19.53125 -1.421875 13.0625 8.265625 \r\nQ 6.59375 17.96875 6.59375 36.375 \r\nQ 6.59375 54.828125 13.0625 64.515625 \r\nQ 19.53125 74.21875 31.78125 74.21875 \r\nz\r\n\" id=\"DejaVuSans-48\"/>\r\n       </defs>\r\n       <use xlink:href=\"#DejaVuSans-48\"/>\r\n      </g>\r\n     </g>\r\n    </g>\r\n    <g id=\"xtick_2\">\r\n     <g id=\"line2d_2\">\r\n      <g>\r\n       <use style=\"stroke:#000000;stroke-width:0.8;\" x=\"136.700938\" xlink:href=\"#md6c06b3b64\" y=\"239.758125\"/>\r\n      </g>\r\n     </g>\r\n     <g id=\"text_2\">\r\n      <!-- 20 -->\r\n      <g transform=\"translate(130.338438 254.356562)scale(0.1 -0.1)\">\r\n       <defs>\r\n        <path d=\"M 19.1875 8.296875 \r\nL 53.609375 8.296875 \r\nL 53.609375 0 \r\nL 7.328125 0 \r\nL 7.328125 8.296875 \r\nQ 12.9375 14.109375 22.625 23.890625 \r\nQ 32.328125 33.6875 34.8125 36.53125 \r\nQ 39.546875 41.84375 41.421875 45.53125 \r\nQ 43.3125 49.21875 43.3125 52.78125 \r\nQ 43.3125 58.59375 39.234375 62.25 \r\nQ 35.15625 65.921875 28.609375 65.921875 \r\nQ 23.96875 65.921875 18.8125 64.3125 \r\nQ 13.671875 62.703125 7.8125 59.421875 \r\nL 7.8125 69.390625 \r\nQ 13.765625 71.78125 18.9375 73 \r\nQ 24.125 74.21875 28.421875 74.21875 \r\nQ 39.75 74.21875 46.484375 68.546875 \r\nQ 53.21875 62.890625 53.21875 53.421875 \r\nQ 53.21875 48.921875 51.53125 44.890625 \r\nQ 49.859375 40.875 45.40625 35.40625 \r\nQ 44.1875 33.984375 37.640625 27.21875 \r\nQ 31.109375 20.453125 19.1875 8.296875 \r\nz\r\n\" id=\"DejaVuSans-50\"/>\r\n       </defs>\r\n       <use xlink:href=\"#DejaVuSans-50\"/>\r\n       <use x=\"63.623047\" xlink:href=\"#DejaVuSans-48\"/>\r\n      </g>\r\n     </g>\r\n    </g>\r\n    <g id=\"xtick_3\">\r\n     <g id=\"line2d_3\">\r\n      <g>\r\n       <use style=\"stroke:#000000;stroke-width:0.8;\" x=\"205.097261\" xlink:href=\"#md6c06b3b64\" y=\"239.758125\"/>\r\n      </g>\r\n     </g>\r\n     <g id=\"text_3\">\r\n      <!-- 40 -->\r\n      <g transform=\"translate(198.734761 254.356562)scale(0.1 -0.1)\">\r\n       <defs>\r\n        <path d=\"M 37.796875 64.3125 \r\nL 12.890625 25.390625 \r\nL 37.796875 25.390625 \r\nz\r\nM 35.203125 72.90625 \r\nL 47.609375 72.90625 \r\nL 47.609375 25.390625 \r\nL 58.015625 25.390625 \r\nL 58.015625 17.1875 \r\nL 47.609375 17.1875 \r\nL 47.609375 0 \r\nL 37.796875 0 \r\nL 37.796875 17.1875 \r\nL 4.890625 17.1875 \r\nL 4.890625 26.703125 \r\nz\r\n\" id=\"DejaVuSans-52\"/>\r\n       </defs>\r\n       <use xlink:href=\"#DejaVuSans-52\"/>\r\n       <use x=\"63.623047\" xlink:href=\"#DejaVuSans-48\"/>\r\n      </g>\r\n     </g>\r\n    </g>\r\n    <g id=\"xtick_4\">\r\n     <g id=\"line2d_4\">\r\n      <g>\r\n       <use style=\"stroke:#000000;stroke-width:0.8;\" x=\"273.493584\" xlink:href=\"#md6c06b3b64\" y=\"239.758125\"/>\r\n      </g>\r\n     </g>\r\n     <g id=\"text_4\">\r\n      <!-- 60 -->\r\n      <g transform=\"translate(267.131084 254.356562)scale(0.1 -0.1)\">\r\n       <defs>\r\n        <path d=\"M 33.015625 40.375 \r\nQ 26.375 40.375 22.484375 35.828125 \r\nQ 18.609375 31.296875 18.609375 23.390625 \r\nQ 18.609375 15.53125 22.484375 10.953125 \r\nQ 26.375 6.390625 33.015625 6.390625 \r\nQ 39.65625 6.390625 43.53125 10.953125 \r\nQ 47.40625 15.53125 47.40625 23.390625 \r\nQ 47.40625 31.296875 43.53125 35.828125 \r\nQ 39.65625 40.375 33.015625 40.375 \r\nz\r\nM 52.59375 71.296875 \r\nL 52.59375 62.3125 \r\nQ 48.875 64.0625 45.09375 64.984375 \r\nQ 41.3125 65.921875 37.59375 65.921875 \r\nQ 27.828125 65.921875 22.671875 59.328125 \r\nQ 17.53125 52.734375 16.796875 39.40625 \r\nQ 19.671875 43.65625 24.015625 45.921875 \r\nQ 28.375 48.1875 33.59375 48.1875 \r\nQ 44.578125 48.1875 50.953125 41.515625 \r\nQ 57.328125 34.859375 57.328125 23.390625 \r\nQ 57.328125 12.15625 50.6875 5.359375 \r\nQ 44.046875 -1.421875 33.015625 -1.421875 \r\nQ 20.359375 -1.421875 13.671875 8.265625 \r\nQ 6.984375 17.96875 6.984375 36.375 \r\nQ 6.984375 53.65625 15.1875 63.9375 \r\nQ 23.390625 74.21875 37.203125 74.21875 \r\nQ 40.921875 74.21875 44.703125 73.484375 \r\nQ 48.484375 72.75 52.59375 71.296875 \r\nz\r\n\" id=\"DejaVuSans-54\"/>\r\n       </defs>\r\n       <use xlink:href=\"#DejaVuSans-54\"/>\r\n       <use x=\"63.623047\" xlink:href=\"#DejaVuSans-48\"/>\r\n      </g>\r\n     </g>\r\n    </g>\r\n    <g id=\"xtick_5\">\r\n     <g id=\"line2d_5\">\r\n      <g>\r\n       <use style=\"stroke:#000000;stroke-width:0.8;\" x=\"341.889907\" xlink:href=\"#md6c06b3b64\" y=\"239.758125\"/>\r\n      </g>\r\n     </g>\r\n     <g id=\"text_5\">\r\n      <!-- 80 -->\r\n      <g transform=\"translate(335.527407 254.356562)scale(0.1 -0.1)\">\r\n       <defs>\r\n        <path d=\"M 31.78125 34.625 \r\nQ 24.75 34.625 20.71875 30.859375 \r\nQ 16.703125 27.09375 16.703125 20.515625 \r\nQ 16.703125 13.921875 20.71875 10.15625 \r\nQ 24.75 6.390625 31.78125 6.390625 \r\nQ 38.8125 6.390625 42.859375 10.171875 \r\nQ 46.921875 13.96875 46.921875 20.515625 \r\nQ 46.921875 27.09375 42.890625 30.859375 \r\nQ 38.875 34.625 31.78125 34.625 \r\nz\r\nM 21.921875 38.8125 \r\nQ 15.578125 40.375 12.03125 44.71875 \r\nQ 8.5 49.078125 8.5 55.328125 \r\nQ 8.5 64.0625 14.71875 69.140625 \r\nQ 20.953125 74.21875 31.78125 74.21875 \r\nQ 42.671875 74.21875 48.875 69.140625 \r\nQ 55.078125 64.0625 55.078125 55.328125 \r\nQ 55.078125 49.078125 51.53125 44.71875 \r\nQ 48 40.375 41.703125 38.8125 \r\nQ 48.828125 37.15625 52.796875 32.3125 \r\nQ 56.78125 27.484375 56.78125 20.515625 \r\nQ 56.78125 9.90625 50.3125 4.234375 \r\nQ 43.84375 -1.421875 31.78125 -1.421875 \r\nQ 19.734375 -1.421875 13.25 4.234375 \r\nQ 6.78125 9.90625 6.78125 20.515625 \r\nQ 6.78125 27.484375 10.78125 32.3125 \r\nQ 14.796875 37.15625 21.921875 38.8125 \r\nz\r\nM 18.3125 54.390625 \r\nQ 18.3125 48.734375 21.84375 45.5625 \r\nQ 25.390625 42.390625 31.78125 42.390625 \r\nQ 38.140625 42.390625 41.71875 45.5625 \r\nQ 45.3125 48.734375 45.3125 54.390625 \r\nQ 45.3125 60.0625 41.71875 63.234375 \r\nQ 38.140625 66.40625 31.78125 66.40625 \r\nQ 25.390625 66.40625 21.84375 63.234375 \r\nQ 18.3125 60.0625 18.3125 54.390625 \r\nz\r\n\" id=\"DejaVuSans-56\"/>\r\n       </defs>\r\n       <use xlink:href=\"#DejaVuSans-56\"/>\r\n       <use x=\"63.623047\" xlink:href=\"#DejaVuSans-48\"/>\r\n      </g>\r\n     </g>\r\n    </g>\r\n    <g id=\"text_6\">\r\n     <!-- Number of Rolls -->\r\n     <g transform=\"translate(184.13125 268.034687)scale(0.1 -0.1)\">\r\n      <defs>\r\n       <path d=\"M 9.8125 72.90625 \r\nL 23.09375 72.90625 \r\nL 55.421875 11.921875 \r\nL 55.421875 72.90625 \r\nL 64.984375 72.90625 \r\nL 64.984375 0 \r\nL 51.703125 0 \r\nL 19.390625 60.984375 \r\nL 19.390625 0 \r\nL 9.8125 0 \r\nz\r\n\" id=\"DejaVuSans-78\"/>\r\n       <path d=\"M 8.5 21.578125 \r\nL 8.5 54.6875 \r\nL 17.484375 54.6875 \r\nL 17.484375 21.921875 \r\nQ 17.484375 14.15625 20.5 10.265625 \r\nQ 23.53125 6.390625 29.59375 6.390625 \r\nQ 36.859375 6.390625 41.078125 11.03125 \r\nQ 45.3125 15.671875 45.3125 23.6875 \r\nL 45.3125 54.6875 \r\nL 54.296875 54.6875 \r\nL 54.296875 0 \r\nL 45.3125 0 \r\nL 45.3125 8.40625 \r\nQ 42.046875 3.421875 37.71875 1 \r\nQ 33.40625 -1.421875 27.6875 -1.421875 \r\nQ 18.265625 -1.421875 13.375 4.4375 \r\nQ 8.5 10.296875 8.5 21.578125 \r\nz\r\nM 31.109375 56 \r\nz\r\n\" id=\"DejaVuSans-117\"/>\r\n       <path d=\"M 52 44.1875 \r\nQ 55.375 50.25 60.0625 53.125 \r\nQ 64.75 56 71.09375 56 \r\nQ 79.640625 56 84.28125 50.015625 \r\nQ 88.921875 44.046875 88.921875 33.015625 \r\nL 88.921875 0 \r\nL 79.890625 0 \r\nL 79.890625 32.71875 \r\nQ 79.890625 40.578125 77.09375 44.375 \r\nQ 74.3125 48.1875 68.609375 48.1875 \r\nQ 61.625 48.1875 57.5625 43.546875 \r\nQ 53.515625 38.921875 53.515625 30.90625 \r\nL 53.515625 0 \r\nL 44.484375 0 \r\nL 44.484375 32.71875 \r\nQ 44.484375 40.625 41.703125 44.40625 \r\nQ 38.921875 48.1875 33.109375 48.1875 \r\nQ 26.21875 48.1875 22.15625 43.53125 \r\nQ 18.109375 38.875 18.109375 30.90625 \r\nL 18.109375 0 \r\nL 9.078125 0 \r\nL 9.078125 54.6875 \r\nL 18.109375 54.6875 \r\nL 18.109375 46.1875 \r\nQ 21.1875 51.21875 25.484375 53.609375 \r\nQ 29.78125 56 35.6875 56 \r\nQ 41.65625 56 45.828125 52.96875 \r\nQ 50 49.953125 52 44.1875 \r\nz\r\n\" id=\"DejaVuSans-109\"/>\r\n       <path d=\"M 48.6875 27.296875 \r\nQ 48.6875 37.203125 44.609375 42.84375 \r\nQ 40.53125 48.484375 33.40625 48.484375 \r\nQ 26.265625 48.484375 22.1875 42.84375 \r\nQ 18.109375 37.203125 18.109375 27.296875 \r\nQ 18.109375 17.390625 22.1875 11.75 \r\nQ 26.265625 6.109375 33.40625 6.109375 \r\nQ 40.53125 6.109375 44.609375 11.75 \r\nQ 48.6875 17.390625 48.6875 27.296875 \r\nz\r\nM 18.109375 46.390625 \r\nQ 20.953125 51.265625 25.265625 53.625 \r\nQ 29.59375 56 35.59375 56 \r\nQ 45.5625 56 51.78125 48.09375 \r\nQ 58.015625 40.1875 58.015625 27.296875 \r\nQ 58.015625 14.40625 51.78125 6.484375 \r\nQ 45.5625 -1.421875 35.59375 -1.421875 \r\nQ 29.59375 -1.421875 25.265625 0.953125 \r\nQ 20.953125 3.328125 18.109375 8.203125 \r\nL 18.109375 0 \r\nL 9.078125 0 \r\nL 9.078125 75.984375 \r\nL 18.109375 75.984375 \r\nz\r\n\" id=\"DejaVuSans-98\"/>\r\n       <path d=\"M 56.203125 29.59375 \r\nL 56.203125 25.203125 \r\nL 14.890625 25.203125 \r\nQ 15.484375 15.921875 20.484375 11.0625 \r\nQ 25.484375 6.203125 34.421875 6.203125 \r\nQ 39.59375 6.203125 44.453125 7.46875 \r\nQ 49.3125 8.734375 54.109375 11.28125 \r\nL 54.109375 2.78125 \r\nQ 49.265625 0.734375 44.1875 -0.34375 \r\nQ 39.109375 -1.421875 33.890625 -1.421875 \r\nQ 20.796875 -1.421875 13.15625 6.1875 \r\nQ 5.515625 13.8125 5.515625 26.8125 \r\nQ 5.515625 40.234375 12.765625 48.109375 \r\nQ 20.015625 56 32.328125 56 \r\nQ 43.359375 56 49.78125 48.890625 \r\nQ 56.203125 41.796875 56.203125 29.59375 \r\nz\r\nM 47.21875 32.234375 \r\nQ 47.125 39.59375 43.09375 43.984375 \r\nQ 39.0625 48.390625 32.421875 48.390625 \r\nQ 24.90625 48.390625 20.390625 44.140625 \r\nQ 15.875 39.890625 15.1875 32.171875 \r\nz\r\n\" id=\"DejaVuSans-101\"/>\r\n       <path d=\"M 41.109375 46.296875 \r\nQ 39.59375 47.171875 37.8125 47.578125 \r\nQ 36.03125 48 33.890625 48 \r\nQ 26.265625 48 22.1875 43.046875 \r\nQ 18.109375 38.09375 18.109375 28.8125 \r\nL 18.109375 0 \r\nL 9.078125 0 \r\nL 9.078125 54.6875 \r\nL 18.109375 54.6875 \r\nL 18.109375 46.1875 \r\nQ 20.953125 51.171875 25.484375 53.578125 \r\nQ 30.03125 56 36.53125 56 \r\nQ 37.453125 56 38.578125 55.875 \r\nQ 39.703125 55.765625 41.0625 55.515625 \r\nz\r\n\" id=\"DejaVuSans-114\"/>\r\n       <path id=\"DejaVuSans-32\"/>\r\n       <path d=\"M 30.609375 48.390625 \r\nQ 23.390625 48.390625 19.1875 42.75 \r\nQ 14.984375 37.109375 14.984375 27.296875 \r\nQ 14.984375 17.484375 19.15625 11.84375 \r\nQ 23.34375 6.203125 30.609375 6.203125 \r\nQ 37.796875 6.203125 41.984375 11.859375 \r\nQ 46.1875 17.53125 46.1875 27.296875 \r\nQ 46.1875 37.015625 41.984375 42.703125 \r\nQ 37.796875 48.390625 30.609375 48.390625 \r\nz\r\nM 30.609375 56 \r\nQ 42.328125 56 49.015625 48.375 \r\nQ 55.71875 40.765625 55.71875 27.296875 \r\nQ 55.71875 13.875 49.015625 6.21875 \r\nQ 42.328125 -1.421875 30.609375 -1.421875 \r\nQ 18.84375 -1.421875 12.171875 6.21875 \r\nQ 5.515625 13.875 5.515625 27.296875 \r\nQ 5.515625 40.765625 12.171875 48.375 \r\nQ 18.84375 56 30.609375 56 \r\nz\r\n\" id=\"DejaVuSans-111\"/>\r\n       <path d=\"M 37.109375 75.984375 \r\nL 37.109375 68.5 \r\nL 28.515625 68.5 \r\nQ 23.6875 68.5 21.796875 66.546875 \r\nQ 19.921875 64.59375 19.921875 59.515625 \r\nL 19.921875 54.6875 \r\nL 34.71875 54.6875 \r\nL 34.71875 47.703125 \r\nL 19.921875 47.703125 \r\nL 19.921875 0 \r\nL 10.890625 0 \r\nL 10.890625 47.703125 \r\nL 2.296875 47.703125 \r\nL 2.296875 54.6875 \r\nL 10.890625 54.6875 \r\nL 10.890625 58.5 \r\nQ 10.890625 67.625 15.140625 71.796875 \r\nQ 19.390625 75.984375 28.609375 75.984375 \r\nz\r\n\" id=\"DejaVuSans-102\"/>\r\n       <path d=\"M 44.390625 34.1875 \r\nQ 47.5625 33.109375 50.5625 29.59375 \r\nQ 53.5625 26.078125 56.59375 19.921875 \r\nL 66.609375 0 \r\nL 56 0 \r\nL 46.6875 18.703125 \r\nQ 43.0625 26.03125 39.671875 28.421875 \r\nQ 36.28125 30.8125 30.421875 30.8125 \r\nL 19.671875 30.8125 \r\nL 19.671875 0 \r\nL 9.8125 0 \r\nL 9.8125 72.90625 \r\nL 32.078125 72.90625 \r\nQ 44.578125 72.90625 50.734375 67.671875 \r\nQ 56.890625 62.453125 56.890625 51.90625 \r\nQ 56.890625 45.015625 53.6875 40.46875 \r\nQ 50.484375 35.9375 44.390625 34.1875 \r\nz\r\nM 19.671875 64.796875 \r\nL 19.671875 38.921875 \r\nL 32.078125 38.921875 \r\nQ 39.203125 38.921875 42.84375 42.21875 \r\nQ 46.484375 45.515625 46.484375 51.90625 \r\nQ 46.484375 58.296875 42.84375 61.546875 \r\nQ 39.203125 64.796875 32.078125 64.796875 \r\nz\r\n\" id=\"DejaVuSans-82\"/>\r\n       <path d=\"M 9.421875 75.984375 \r\nL 18.40625 75.984375 \r\nL 18.40625 0 \r\nL 9.421875 0 \r\nz\r\n\" id=\"DejaVuSans-108\"/>\r\n       <path d=\"M 44.28125 53.078125 \r\nL 44.28125 44.578125 \r\nQ 40.484375 46.53125 36.375 47.5 \r\nQ 32.28125 48.484375 27.875 48.484375 \r\nQ 21.1875 48.484375 17.84375 46.4375 \r\nQ 14.5 44.390625 14.5 40.28125 \r\nQ 14.5 37.15625 16.890625 35.375 \r\nQ 19.28125 33.59375 26.515625 31.984375 \r\nL 29.59375 31.296875 \r\nQ 39.15625 29.25 43.1875 25.515625 \r\nQ 47.21875 21.78125 47.21875 15.09375 \r\nQ 47.21875 7.46875 41.1875 3.015625 \r\nQ 35.15625 -1.421875 24.609375 -1.421875 \r\nQ 20.21875 -1.421875 15.453125 -0.5625 \r\nQ 10.6875 0.296875 5.421875 2 \r\nL 5.421875 11.28125 \r\nQ 10.40625 8.6875 15.234375 7.390625 \r\nQ 20.0625 6.109375 24.8125 6.109375 \r\nQ 31.15625 6.109375 34.5625 8.28125 \r\nQ 37.984375 10.453125 37.984375 14.40625 \r\nQ 37.984375 18.0625 35.515625 20.015625 \r\nQ 33.0625 21.96875 24.703125 23.78125 \r\nL 21.578125 24.515625 \r\nQ 13.234375 26.265625 9.515625 29.90625 \r\nQ 5.8125 33.546875 5.8125 39.890625 \r\nQ 5.8125 47.609375 11.28125 51.796875 \r\nQ 16.75 56 26.8125 56 \r\nQ 31.78125 56 36.171875 55.265625 \r\nQ 40.578125 54.546875 44.28125 53.078125 \r\nz\r\n\" id=\"DejaVuSans-115\"/>\r\n      </defs>\r\n      <use xlink:href=\"#DejaVuSans-78\"/>\r\n      <use x=\"74.804688\" xlink:href=\"#DejaVuSans-117\"/>\r\n      <use x=\"138.183594\" xlink:href=\"#DejaVuSans-109\"/>\r\n      <use x=\"235.595703\" xlink:href=\"#DejaVuSans-98\"/>\r\n      <use x=\"299.072266\" xlink:href=\"#DejaVuSans-101\"/>\r\n      <use x=\"360.595703\" xlink:href=\"#DejaVuSans-114\"/>\r\n      <use x=\"401.708984\" xlink:href=\"#DejaVuSans-32\"/>\r\n      <use x=\"433.496094\" xlink:href=\"#DejaVuSans-111\"/>\r\n      <use x=\"494.677734\" xlink:href=\"#DejaVuSans-102\"/>\r\n      <use x=\"529.882812\" xlink:href=\"#DejaVuSans-32\"/>\r\n      <use x=\"561.669922\" xlink:href=\"#DejaVuSans-82\"/>\r\n      <use x=\"626.652344\" xlink:href=\"#DejaVuSans-111\"/>\r\n      <use x=\"687.833984\" xlink:href=\"#DejaVuSans-108\"/>\r\n      <use x=\"715.617188\" xlink:href=\"#DejaVuSans-108\"/>\r\n      <use x=\"743.400391\" xlink:href=\"#DejaVuSans-115\"/>\r\n     </g>\r\n    </g>\r\n   </g>\r\n   <g id=\"matplotlib.axis_2\">\r\n    <g id=\"ytick_1\">\r\n     <g id=\"line2d_6\">\r\n      <defs>\r\n       <path d=\"M 0 0 \r\nL -3.5 0 \r\n\" id=\"m0cd30620b8\" style=\"stroke:#000000;stroke-width:0.8;\"/>\r\n      </defs>\r\n      <g>\r\n       <use style=\"stroke:#000000;stroke-width:0.8;\" x=\"56.50625\" xlink:href=\"#m0cd30620b8\" y=\"226.759686\"/>\r\n      </g>\r\n     </g>\r\n     <g id=\"text_7\">\r\n      <!-- 0.004 -->\r\n      <g transform=\"translate(20.878125 230.558905)scale(0.1 -0.1)\">\r\n       <defs>\r\n        <path d=\"M 10.6875 12.40625 \r\nL 21 12.40625 \r\nL 21 0 \r\nL 10.6875 0 \r\nz\r\n\" id=\"DejaVuSans-46\"/>\r\n       </defs>\r\n       <use xlink:href=\"#DejaVuSans-48\"/>\r\n       <use x=\"63.623047\" xlink:href=\"#DejaVuSans-46\"/>\r\n       <use x=\"95.410156\" xlink:href=\"#DejaVuSans-48\"/>\r\n       <use x=\"159.033203\" xlink:href=\"#DejaVuSans-48\"/>\r\n       <use x=\"222.65625\" xlink:href=\"#DejaVuSans-52\"/>\r\n      </g>\r\n     </g>\r\n    </g>\r\n    <g id=\"ytick_2\">\r\n     <g id=\"line2d_7\">\r\n      <g>\r\n       <use style=\"stroke:#000000;stroke-width:0.8;\" x=\"56.50625\" xlink:href=\"#m0cd30620b8\" y=\"194.333365\"/>\r\n      </g>\r\n     </g>\r\n     <g id=\"text_8\">\r\n      <!-- 0.006 -->\r\n      <g transform=\"translate(20.878125 198.132584)scale(0.1 -0.1)\">\r\n       <use xlink:href=\"#DejaVuSans-48\"/>\r\n       <use x=\"63.623047\" xlink:href=\"#DejaVuSans-46\"/>\r\n       <use x=\"95.410156\" xlink:href=\"#DejaVuSans-48\"/>\r\n       <use x=\"159.033203\" xlink:href=\"#DejaVuSans-48\"/>\r\n       <use x=\"222.65625\" xlink:href=\"#DejaVuSans-54\"/>\r\n      </g>\r\n     </g>\r\n    </g>\r\n    <g id=\"ytick_3\">\r\n     <g id=\"line2d_8\">\r\n      <g>\r\n       <use style=\"stroke:#000000;stroke-width:0.8;\" x=\"56.50625\" xlink:href=\"#m0cd30620b8\" y=\"161.907044\"/>\r\n      </g>\r\n     </g>\r\n     <g id=\"text_9\">\r\n      <!-- 0.008 -->\r\n      <g transform=\"translate(20.878125 165.706263)scale(0.1 -0.1)\">\r\n       <use xlink:href=\"#DejaVuSans-48\"/>\r\n       <use x=\"63.623047\" xlink:href=\"#DejaVuSans-46\"/>\r\n       <use x=\"95.410156\" xlink:href=\"#DejaVuSans-48\"/>\r\n       <use x=\"159.033203\" xlink:href=\"#DejaVuSans-48\"/>\r\n       <use x=\"222.65625\" xlink:href=\"#DejaVuSans-56\"/>\r\n      </g>\r\n     </g>\r\n    </g>\r\n    <g id=\"ytick_4\">\r\n     <g id=\"line2d_9\">\r\n      <g>\r\n       <use style=\"stroke:#000000;stroke-width:0.8;\" x=\"56.50625\" xlink:href=\"#m0cd30620b8\" y=\"129.480724\"/>\r\n      </g>\r\n     </g>\r\n     <g id=\"text_10\">\r\n      <!-- 0.010 -->\r\n      <g transform=\"translate(20.878125 133.279942)scale(0.1 -0.1)\">\r\n       <defs>\r\n        <path d=\"M 12.40625 8.296875 \r\nL 28.515625 8.296875 \r\nL 28.515625 63.921875 \r\nL 10.984375 60.40625 \r\nL 10.984375 69.390625 \r\nL 28.421875 72.90625 \r\nL 38.28125 72.90625 \r\nL 38.28125 8.296875 \r\nL 54.390625 8.296875 \r\nL 54.390625 0 \r\nL 12.40625 0 \r\nz\r\n\" id=\"DejaVuSans-49\"/>\r\n       </defs>\r\n       <use xlink:href=\"#DejaVuSans-48\"/>\r\n       <use x=\"63.623047\" xlink:href=\"#DejaVuSans-46\"/>\r\n       <use x=\"95.410156\" xlink:href=\"#DejaVuSans-48\"/>\r\n       <use x=\"159.033203\" xlink:href=\"#DejaVuSans-49\"/>\r\n       <use x=\"222.65625\" xlink:href=\"#DejaVuSans-48\"/>\r\n      </g>\r\n     </g>\r\n    </g>\r\n    <g id=\"ytick_5\">\r\n     <g id=\"line2d_10\">\r\n      <g>\r\n       <use style=\"stroke:#000000;stroke-width:0.8;\" x=\"56.50625\" xlink:href=\"#m0cd30620b8\" y=\"97.054403\"/>\r\n      </g>\r\n     </g>\r\n     <g id=\"text_11\">\r\n      <!-- 0.012 -->\r\n      <g transform=\"translate(20.878125 100.853622)scale(0.1 -0.1)\">\r\n       <use xlink:href=\"#DejaVuSans-48\"/>\r\n       <use x=\"63.623047\" xlink:href=\"#DejaVuSans-46\"/>\r\n       <use x=\"95.410156\" xlink:href=\"#DejaVuSans-48\"/>\r\n       <use x=\"159.033203\" xlink:href=\"#DejaVuSans-49\"/>\r\n       <use x=\"222.65625\" xlink:href=\"#DejaVuSans-50\"/>\r\n      </g>\r\n     </g>\r\n    </g>\r\n    <g id=\"ytick_6\">\r\n     <g id=\"line2d_11\">\r\n      <g>\r\n       <use style=\"stroke:#000000;stroke-width:0.8;\" x=\"56.50625\" xlink:href=\"#m0cd30620b8\" y=\"64.628082\"/>\r\n      </g>\r\n     </g>\r\n     <g id=\"text_12\">\r\n      <!-- 0.014 -->\r\n      <g transform=\"translate(20.878125 68.427301)scale(0.1 -0.1)\">\r\n       <use xlink:href=\"#DejaVuSans-48\"/>\r\n       <use x=\"63.623047\" xlink:href=\"#DejaVuSans-46\"/>\r\n       <use x=\"95.410156\" xlink:href=\"#DejaVuSans-48\"/>\r\n       <use x=\"159.033203\" xlink:href=\"#DejaVuSans-49\"/>\r\n       <use x=\"222.65625\" xlink:href=\"#DejaVuSans-52\"/>\r\n      </g>\r\n     </g>\r\n    </g>\r\n    <g id=\"ytick_7\">\r\n     <g id=\"line2d_12\">\r\n      <g>\r\n       <use style=\"stroke:#000000;stroke-width:0.8;\" x=\"56.50625\" xlink:href=\"#m0cd30620b8\" y=\"32.201761\"/>\r\n      </g>\r\n     </g>\r\n     <g id=\"text_13\">\r\n      <!-- 0.016 -->\r\n      <g transform=\"translate(20.878125 36.00098)scale(0.1 -0.1)\">\r\n       <use xlink:href=\"#DejaVuSans-48\"/>\r\n       <use x=\"63.623047\" xlink:href=\"#DejaVuSans-46\"/>\r\n       <use x=\"95.410156\" xlink:href=\"#DejaVuSans-48\"/>\r\n       <use x=\"159.033203\" xlink:href=\"#DejaVuSans-49\"/>\r\n       <use x=\"222.65625\" xlink:href=\"#DejaVuSans-54\"/>\r\n      </g>\r\n     </g>\r\n    </g>\r\n    <g id=\"text_14\">\r\n     <!-- Probability -->\r\n     <g transform=\"translate(14.798437 157.467031)rotate(-90)scale(0.1 -0.1)\">\r\n      <defs>\r\n       <path d=\"M 19.671875 64.796875 \r\nL 19.671875 37.40625 \r\nL 32.078125 37.40625 \r\nQ 38.96875 37.40625 42.71875 40.96875 \r\nQ 46.484375 44.53125 46.484375 51.125 \r\nQ 46.484375 57.671875 42.71875 61.234375 \r\nQ 38.96875 64.796875 32.078125 64.796875 \r\nz\r\nM 9.8125 72.90625 \r\nL 32.078125 72.90625 \r\nQ 44.34375 72.90625 50.609375 67.359375 \r\nQ 56.890625 61.8125 56.890625 51.125 \r\nQ 56.890625 40.328125 50.609375 34.8125 \r\nQ 44.34375 29.296875 32.078125 29.296875 \r\nL 19.671875 29.296875 \r\nL 19.671875 0 \r\nL 9.8125 0 \r\nz\r\n\" id=\"DejaVuSans-80\"/>\r\n       <path d=\"M 34.28125 27.484375 \r\nQ 23.390625 27.484375 19.1875 25 \r\nQ 14.984375 22.515625 14.984375 16.5 \r\nQ 14.984375 11.71875 18.140625 8.90625 \r\nQ 21.296875 6.109375 26.703125 6.109375 \r\nQ 34.1875 6.109375 38.703125 11.40625 \r\nQ 43.21875 16.703125 43.21875 25.484375 \r\nL 43.21875 27.484375 \r\nz\r\nM 52.203125 31.203125 \r\nL 52.203125 0 \r\nL 43.21875 0 \r\nL 43.21875 8.296875 \r\nQ 40.140625 3.328125 35.546875 0.953125 \r\nQ 30.953125 -1.421875 24.3125 -1.421875 \r\nQ 15.921875 -1.421875 10.953125 3.296875 \r\nQ 6 8.015625 6 15.921875 \r\nQ 6 25.140625 12.171875 29.828125 \r\nQ 18.359375 34.515625 30.609375 34.515625 \r\nL 43.21875 34.515625 \r\nL 43.21875 35.40625 \r\nQ 43.21875 41.609375 39.140625 45 \r\nQ 35.0625 48.390625 27.6875 48.390625 \r\nQ 23 48.390625 18.546875 47.265625 \r\nQ 14.109375 46.140625 10.015625 43.890625 \r\nL 10.015625 52.203125 \r\nQ 14.9375 54.109375 19.578125 55.046875 \r\nQ 24.21875 56 28.609375 56 \r\nQ 40.484375 56 46.34375 49.84375 \r\nQ 52.203125 43.703125 52.203125 31.203125 \r\nz\r\n\" id=\"DejaVuSans-97\"/>\r\n       <path d=\"M 9.421875 54.6875 \r\nL 18.40625 54.6875 \r\nL 18.40625 0 \r\nL 9.421875 0 \r\nz\r\nM 9.421875 75.984375 \r\nL 18.40625 75.984375 \r\nL 18.40625 64.59375 \r\nL 9.421875 64.59375 \r\nz\r\n\" id=\"DejaVuSans-105\"/>\r\n       <path d=\"M 18.3125 70.21875 \r\nL 18.3125 54.6875 \r\nL 36.8125 54.6875 \r\nL 36.8125 47.703125 \r\nL 18.3125 47.703125 \r\nL 18.3125 18.015625 \r\nQ 18.3125 11.328125 20.140625 9.421875 \r\nQ 21.96875 7.515625 27.59375 7.515625 \r\nL 36.8125 7.515625 \r\nL 36.8125 0 \r\nL 27.59375 0 \r\nQ 17.1875 0 13.234375 3.875 \r\nQ 9.28125 7.765625 9.28125 18.015625 \r\nL 9.28125 47.703125 \r\nL 2.6875 47.703125 \r\nL 2.6875 54.6875 \r\nL 9.28125 54.6875 \r\nL 9.28125 70.21875 \r\nz\r\n\" id=\"DejaVuSans-116\"/>\r\n       <path d=\"M 32.171875 -5.078125 \r\nQ 28.375 -14.84375 24.75 -17.8125 \r\nQ 21.140625 -20.796875 15.09375 -20.796875 \r\nL 7.90625 -20.796875 \r\nL 7.90625 -13.28125 \r\nL 13.1875 -13.28125 \r\nQ 16.890625 -13.28125 18.9375 -11.515625 \r\nQ 21 -9.765625 23.484375 -3.21875 \r\nL 25.09375 0.875 \r\nL 2.984375 54.6875 \r\nL 12.5 54.6875 \r\nL 29.59375 11.921875 \r\nL 46.6875 54.6875 \r\nL 56.203125 54.6875 \r\nz\r\n\" id=\"DejaVuSans-121\"/>\r\n      </defs>\r\n      <use xlink:href=\"#DejaVuSans-80\"/>\r\n      <use x=\"58.552734\" xlink:href=\"#DejaVuSans-114\"/>\r\n      <use x=\"97.416016\" xlink:href=\"#DejaVuSans-111\"/>\r\n      <use x=\"158.597656\" xlink:href=\"#DejaVuSans-98\"/>\r\n      <use x=\"222.074219\" xlink:href=\"#DejaVuSans-97\"/>\r\n      <use x=\"283.353516\" xlink:href=\"#DejaVuSans-98\"/>\r\n      <use x=\"346.830078\" xlink:href=\"#DejaVuSans-105\"/>\r\n      <use x=\"374.613281\" xlink:href=\"#DejaVuSans-108\"/>\r\n      <use x=\"402.396484\" xlink:href=\"#DejaVuSans-105\"/>\r\n      <use x=\"430.179688\" xlink:href=\"#DejaVuSans-116\"/>\r\n      <use x=\"469.388672\" xlink:href=\"#DejaVuSans-121\"/>\r\n     </g>\r\n    </g>\r\n   </g>\r\n   <g id=\"line2d_13\">\r\n    <path clip-path=\"url(#pc3684fe711)\" d=\"M 71.724432 32.201761 \r\nL 75.144248 36.35233 \r\nL 78.564064 40.43649 \r\nL 81.98388 44.455304 \r\nL 85.403696 48.409816 \r\nL 88.823513 52.301056 \r\nL 92.243329 56.130037 \r\nL 95.663145 59.897753 \r\nL 99.082961 63.605186 \r\nL 102.502777 67.253301 \r\nL 105.922593 70.843045 \r\nL 109.342409 74.375354 \r\nL 112.762225 77.851145 \r\nL 116.182042 81.271324 \r\nL 119.601858 84.63678 \r\nL 123.021674 87.948389 \r\nL 126.44149 91.207012 \r\nL 129.861306 94.413497 \r\nL 133.281122 97.568678 \r\nL 136.700938 100.673377 \r\nL 140.120755 103.7284 \r\nL 143.540571 106.734543 \r\nL 146.960387 109.692587 \r\nL 150.380203 112.603303 \r\nL 153.800019 115.467448 \r\nL 157.219835 118.285766 \r\nL 160.639651 121.058991 \r\nL 164.059468 123.787844 \r\nL 167.479284 126.473036 \r\nL 170.8991 129.115264 \r\nL 174.318916 131.715217 \r\nL 177.738732 134.273571 \r\nL 181.158548 136.790991 \r\nL 184.578364 139.268133 \r\nL 187.998181 141.70564 \r\nL 191.417997 144.104147 \r\nL 194.837813 146.464278 \r\nL 198.257629 148.786646 \r\nL 201.677445 151.071857 \r\nL 205.097261 153.320505 \r\nL 208.517077 155.533174 \r\nL 211.936894 157.71044 \r\nL 215.35671 159.852871 \r\nL 218.776526 161.961022 \r\nL 222.196342 164.035443 \r\nL 225.616158 166.076673 \r\nL 229.035974 168.085243 \r\nL 232.45579 170.061677 \r\nL 235.875606 172.006487 \r\nL 239.295423 173.920181 \r\nL 242.715239 175.803255 \r\nL 246.135055 177.6562 \r\nL 249.554871 179.479498 \r\nL 252.974687 181.273623 \r\nL 256.394503 183.039043 \r\nL 259.814319 184.776215 \r\nL 263.234136 186.485593 \r\nL 266.653952 188.167621 \r\nL 270.073768 189.822736 \r\nL 273.493584 191.45137 \r\nL 276.9134 193.053945 \r\nL 280.333216 194.630879 \r\nL 283.753032 196.182582 \r\nL 287.172849 197.709458 \r\nL 290.592665 199.211904 \r\nL 294.012481 200.690311 \r\nL 297.432297 202.145063 \r\nL 300.852113 203.576539 \r\nL 304.271929 204.985112 \r\nL 307.691745 206.371147 \r\nL 311.111562 207.735006 \r\nL 314.531378 209.077043 \r\nL 317.951194 210.397608 \r\nL 321.37101 211.697043 \r\nL 324.790826 212.975688 \r\nL 328.210642 214.233874 \r\nL 331.630458 215.471929 \r\nL 335.050275 216.690176 \r\nL 338.470091 217.88893 \r\nL 341.889907 219.068505 \r\nL 345.309723 220.229206 \r\nL 348.729539 221.371336 \r\nL 352.149355 222.495192 \r\nL 355.569171 223.601066 \r\nL 358.988987 224.689246 \r\nL 362.408804 225.760015 \r\nL 365.82862 226.813652 \r\nL 369.248436 227.850431 \r\nL 372.668252 228.870621 \r\nL 376.088068 229.874489 \r\n\" style=\"fill:none;stroke:#1f77b4;stroke-linecap:square;stroke-width:1.5;\"/>\r\n   </g>\r\n   <g id=\"patch_3\">\r\n    <path d=\"M 56.50625 239.758125 \r\nL 56.50625 22.318125 \r\n\" style=\"fill:none;stroke:#000000;stroke-linecap:square;stroke-linejoin:miter;stroke-width:0.8;\"/>\r\n   </g>\r\n   <g id=\"patch_4\">\r\n    <path d=\"M 391.30625 239.758125 \r\nL 391.30625 22.318125 \r\n\" style=\"fill:none;stroke:#000000;stroke-linecap:square;stroke-linejoin:miter;stroke-width:0.8;\"/>\r\n   </g>\r\n   <g id=\"patch_5\">\r\n    <path d=\"M 56.50625 239.758125 \r\nL 391.30625 239.758125 \r\n\" style=\"fill:none;stroke:#000000;stroke-linecap:square;stroke-linejoin:miter;stroke-width:0.8;\"/>\r\n   </g>\r\n   <g id=\"patch_6\">\r\n    <path d=\"M 56.50625 22.318125 \r\nL 391.30625 22.318125 \r\n\" style=\"fill:none;stroke:#000000;stroke-linecap:square;stroke-linejoin:miter;stroke-width:0.8;\"/>\r\n   </g>\r\n   <g id=\"text_15\">\r\n    <!-- Geometric Distribution of Roll Probability -->\r\n    <g transform=\"translate(101.540937 16.318125)scale(0.12 -0.12)\">\r\n     <defs>\r\n      <path d=\"M 59.515625 10.40625 \r\nL 59.515625 29.984375 \r\nL 43.40625 29.984375 \r\nL 43.40625 38.09375 \r\nL 69.28125 38.09375 \r\nL 69.28125 6.78125 \r\nQ 63.578125 2.734375 56.6875 0.65625 \r\nQ 49.8125 -1.421875 42 -1.421875 \r\nQ 24.90625 -1.421875 15.25 8.5625 \r\nQ 5.609375 18.5625 5.609375 36.375 \r\nQ 5.609375 54.25 15.25 64.234375 \r\nQ 24.90625 74.21875 42 74.21875 \r\nQ 49.125 74.21875 55.546875 72.453125 \r\nQ 61.96875 70.703125 67.390625 67.28125 \r\nL 67.390625 56.78125 \r\nQ 61.921875 61.421875 55.765625 63.765625 \r\nQ 49.609375 66.109375 42.828125 66.109375 \r\nQ 29.4375 66.109375 22.71875 58.640625 \r\nQ 16.015625 51.171875 16.015625 36.375 \r\nQ 16.015625 21.625 22.71875 14.15625 \r\nQ 29.4375 6.6875 42.828125 6.6875 \r\nQ 48.046875 6.6875 52.140625 7.59375 \r\nQ 56.25 8.5 59.515625 10.40625 \r\nz\r\n\" id=\"DejaVuSans-71\"/>\r\n      <path d=\"M 48.78125 52.59375 \r\nL 48.78125 44.1875 \r\nQ 44.96875 46.296875 41.140625 47.34375 \r\nQ 37.3125 48.390625 33.40625 48.390625 \r\nQ 24.65625 48.390625 19.8125 42.84375 \r\nQ 14.984375 37.3125 14.984375 27.296875 \r\nQ 14.984375 17.28125 19.8125 11.734375 \r\nQ 24.65625 6.203125 33.40625 6.203125 \r\nQ 37.3125 6.203125 41.140625 7.25 \r\nQ 44.96875 8.296875 48.78125 10.40625 \r\nL 48.78125 2.09375 \r\nQ 45.015625 0.34375 40.984375 -0.53125 \r\nQ 36.96875 -1.421875 32.421875 -1.421875 \r\nQ 20.0625 -1.421875 12.78125 6.34375 \r\nQ 5.515625 14.109375 5.515625 27.296875 \r\nQ 5.515625 40.671875 12.859375 48.328125 \r\nQ 20.21875 56 33.015625 56 \r\nQ 37.15625 56 41.109375 55.140625 \r\nQ 45.0625 54.296875 48.78125 52.59375 \r\nz\r\n\" id=\"DejaVuSans-99\"/>\r\n      <path d=\"M 19.671875 64.796875 \r\nL 19.671875 8.109375 \r\nL 31.59375 8.109375 \r\nQ 46.6875 8.109375 53.6875 14.9375 \r\nQ 60.6875 21.78125 60.6875 36.53125 \r\nQ 60.6875 51.171875 53.6875 57.984375 \r\nQ 46.6875 64.796875 31.59375 64.796875 \r\nz\r\nM 9.8125 72.90625 \r\nL 30.078125 72.90625 \r\nQ 51.265625 72.90625 61.171875 64.09375 \r\nQ 71.09375 55.28125 71.09375 36.53125 \r\nQ 71.09375 17.671875 61.125 8.828125 \r\nQ 51.171875 0 30.078125 0 \r\nL 9.8125 0 \r\nz\r\n\" id=\"DejaVuSans-68\"/>\r\n      <path d=\"M 54.890625 33.015625 \r\nL 54.890625 0 \r\nL 45.90625 0 \r\nL 45.90625 32.71875 \r\nQ 45.90625 40.484375 42.875 44.328125 \r\nQ 39.84375 48.1875 33.796875 48.1875 \r\nQ 26.515625 48.1875 22.3125 43.546875 \r\nQ 18.109375 38.921875 18.109375 30.90625 \r\nL 18.109375 0 \r\nL 9.078125 0 \r\nL 9.078125 54.6875 \r\nL 18.109375 54.6875 \r\nL 18.109375 46.1875 \r\nQ 21.34375 51.125 25.703125 53.5625 \r\nQ 30.078125 56 35.796875 56 \r\nQ 45.21875 56 50.046875 50.171875 \r\nQ 54.890625 44.34375 54.890625 33.015625 \r\nz\r\n\" id=\"DejaVuSans-110\"/>\r\n     </defs>\r\n     <use xlink:href=\"#DejaVuSans-71\"/>\r\n     <use x=\"77.490234\" xlink:href=\"#DejaVuSans-101\"/>\r\n     <use x=\"139.013672\" xlink:href=\"#DejaVuSans-111\"/>\r\n     <use x=\"200.195312\" xlink:href=\"#DejaVuSans-109\"/>\r\n     <use x=\"297.607422\" xlink:href=\"#DejaVuSans-101\"/>\r\n     <use x=\"359.130859\" xlink:href=\"#DejaVuSans-116\"/>\r\n     <use x=\"398.339844\" xlink:href=\"#DejaVuSans-114\"/>\r\n     <use x=\"439.453125\" xlink:href=\"#DejaVuSans-105\"/>\r\n     <use x=\"467.236328\" xlink:href=\"#DejaVuSans-99\"/>\r\n     <use x=\"522.216797\" xlink:href=\"#DejaVuSans-32\"/>\r\n     <use x=\"554.003906\" xlink:href=\"#DejaVuSans-68\"/>\r\n     <use x=\"631.005859\" xlink:href=\"#DejaVuSans-105\"/>\r\n     <use x=\"658.789062\" xlink:href=\"#DejaVuSans-115\"/>\r\n     <use x=\"710.888672\" xlink:href=\"#DejaVuSans-116\"/>\r\n     <use x=\"750.097656\" xlink:href=\"#DejaVuSans-114\"/>\r\n     <use x=\"791.210938\" xlink:href=\"#DejaVuSans-105\"/>\r\n     <use x=\"818.994141\" xlink:href=\"#DejaVuSans-98\"/>\r\n     <use x=\"882.470703\" xlink:href=\"#DejaVuSans-117\"/>\r\n     <use x=\"945.849609\" xlink:href=\"#DejaVuSans-116\"/>\r\n     <use x=\"985.058594\" xlink:href=\"#DejaVuSans-105\"/>\r\n     <use x=\"1012.841797\" xlink:href=\"#DejaVuSans-111\"/>\r\n     <use x=\"1074.023438\" xlink:href=\"#DejaVuSans-110\"/>\r\n     <use x=\"1137.402344\" xlink:href=\"#DejaVuSans-32\"/>\r\n     <use x=\"1169.189453\" xlink:href=\"#DejaVuSans-111\"/>\r\n     <use x=\"1230.371094\" xlink:href=\"#DejaVuSans-102\"/>\r\n     <use x=\"1265.576172\" xlink:href=\"#DejaVuSans-32\"/>\r\n     <use x=\"1297.363281\" xlink:href=\"#DejaVuSans-82\"/>\r\n     <use x=\"1362.345703\" xlink:href=\"#DejaVuSans-111\"/>\r\n     <use x=\"1423.527344\" xlink:href=\"#DejaVuSans-108\"/>\r\n     <use x=\"1451.310547\" xlink:href=\"#DejaVuSans-108\"/>\r\n     <use x=\"1479.09375\" xlink:href=\"#DejaVuSans-32\"/>\r\n     <use x=\"1510.880859\" xlink:href=\"#DejaVuSans-80\"/>\r\n     <use x=\"1569.433594\" xlink:href=\"#DejaVuSans-114\"/>\r\n     <use x=\"1608.296875\" xlink:href=\"#DejaVuSans-111\"/>\r\n     <use x=\"1669.478516\" xlink:href=\"#DejaVuSans-98\"/>\r\n     <use x=\"1732.955078\" xlink:href=\"#DejaVuSans-97\"/>\r\n     <use x=\"1794.234375\" xlink:href=\"#DejaVuSans-98\"/>\r\n     <use x=\"1857.710938\" xlink:href=\"#DejaVuSans-105\"/>\r\n     <use x=\"1885.494141\" xlink:href=\"#DejaVuSans-108\"/>\r\n     <use x=\"1913.277344\" xlink:href=\"#DejaVuSans-105\"/>\r\n     <use x=\"1941.060547\" xlink:href=\"#DejaVuSans-116\"/>\r\n     <use x=\"1980.269531\" xlink:href=\"#DejaVuSans-121\"/>\r\n    </g>\r\n   </g>\r\n  </g>\r\n </g>\r\n <defs>\r\n  <clipPath id=\"pc3684fe711\">\r\n   <rect height=\"217.44\" width=\"334.8\" x=\"56.50625\" y=\"22.318125\"/>\r\n  </clipPath>\r\n </defs>\r\n</svg>\r\n",
      "image/png": "[encoded data removed]"
     },
     "metadata": {
      "needs_background": "light"
     }
    }
   ],
   "source": [
    "p= .016\n",
    "X = np.arange(1,91,1)\n",
    "y = scipy.geom.pmf(X,p)\n",
    "plt.plot(X,y)\n",
    "plt.title('Geometric Distribution of Roll Probability')\n",
    "plt.ylabel('Probability')\n",
    "plt.xlabel('Number of Rolls')\n",
    "for x in X:\n",
    "    print('Probability that one would roll', x,'roll(s) or less until first success:', round((100*scipy.geom.cdf(x, p)), 2) , '%')\n"
   ]
  },
  {
   "cell_type": "markdown",
   "metadata": {},
   "source": [
    "From the CDF values, one would only have a 50% change of attaining a 5 star by the 44th roll. Our cummulative probabilities doesn't even reach 80% to 90% by the 80th to 89th roll. "
   ]
  },
  {
   "source": [
    "## Costs of Rolls\n",
    "<center><img src=\"https://img.game8.co/3289481/34ecdaca3909406df4b219f631ce63db.png/show\" ></center>\n",
    "\n",
    "Primogems are the special currency in game that rolls are bought with. Each roll costs ***160*** primogems. The unit cost of primogems is around 0.0157 USD. Let's do some simple roll costs, based on our three numbers of rolls computed previously:\n",
    "\n",
    "\\begin{equation}\n",
    "Each\\ roll\\ will\\ cost = (0.0157 * 160) \\approx $2.51\n",
    "\\end{equation}\n",
    "\\begin{equation}\n",
    "Our\\ simulation\\ had\\ an\\ average\\ of\\ 55\\ rolls\\ per\\ 5\\ star\\ item = ($2.51 * 55) \\approx $138.16\n",
    "\\end{equation}\n",
    "\\begin{equation}\n",
    "Our\\ computed\\ expected\\ value\\ was\\ 63\\ rolls = ($2.51 * 63) \\approx $158.13\n",
    "\\end{equation}\n",
    "\\begin{equation}\n",
    "Our\\ linear\\ model\\ predicted\\ 70\\ rolls\\ per\\ 5\\ star\\ item = ($2.51 * 70) \\approx $175.70\n",
    "\\end{equation}\n",
    "\n",
    "So, we have a range of ***potential*** (Values could exceed or be below this range) costs from 138.16 to 175.70 USD just to attain one 5 star item. "
   ],
   "cell_type": "markdown",
   "metadata": {}
  },
  {
   "cell_type": "markdown",
   "metadata": {},
   "source": [
    "## Potential Yearly Primogem Gain Amongst Players\n",
    "Now, we will speculate how many primogems a certain player may accumulate over the course of a non-leap year (365 days). This will be related to the number of 5 star characters that sum may attain, as well as the potential cost of those primogems if one buys them outright.\n",
    "To calculate potential costs, we need to calculate how many primogems players may obtain in a standard year. Their activties and respective primogem gains are detailed below:\n",
    "\n"
   ]
  },
  {
   "source": [
    "We have grouped players into four general categories: Casual Free to Play, Hardcore Free to Play, Casual Whale, and Hardcore Whale. Each category of players will have specific actions and purchases they may take. Two main subgroups exists: \n",
    "* Free to Play (F2P) - Players who spend no money on the game.\n",
    "* Whales - Players who spend little to whopping, even egregious amounts of money. Take a look at this blog here around whales in gacha games: [Mobile Game Whales](https://www.blog.udonis.co/mobile-marketing/mobile-games/mobile-games-whales#:~:text=A%20mobile%20gaming%20whale%20is,booster%20packs%2C%20cosmetics%2C%20etc.)."
   ],
   "cell_type": "markdown",
   "metadata": {}
  },
  {
   "source": [
    "### Casual Free to Play\n",
    "The Casual F2P may pursue the following actities:\n",
    "* Daily Commissions: Daily activities that may net the player up to 60 primogems. \n",
    "* Spiral Abyss: Each spiral Abyss level will net a one time reward of 300 primogems. There are 8 levels. \n",
    "* Battle Pass Awards: Occurs every 40 days, netting up to 5 awards, each 160 primogems each\n",
    "\n",
    "To best capture how the casual F2P may play, we will run a randomize function on the values above, since a casual player may not work towards attaining the max primogems possible. We will simulate this 10,000 times and take the average to attain a more precise sum."
   ],
   "cell_type": "markdown",
   "metadata": {}
  },
  {
   "cell_type": "code",
   "execution_count": 147,
   "metadata": {},
   "outputs": [
    {
     "output_type": "stream",
     "name": "stdout",
     "text": [
      "Potential yearly sum from Casual F2P activities:  12154\n"
     ]
    }
   ],
   "source": [
    "potentialSum = 0\n",
    "iterations = 10000\n",
    "# primo = pd.DataFrame(columns= ['Sum'])\n",
    "for i in range (iterations):\n",
    "    #Each daily activity will net primogems in increments of 10, for a potential total of 60. There are 360 days in a year\n",
    "    dailyGems= 360 * ra.randrange(0, 60, 10)\n",
    "    #Each spiral Abyss level will net a one time reward of 300 primogems. There are 8 levels. \n",
    "    spiralAbyss = 300 * ra.randrange(0, 3, 1)\n",
    "    #Free to play battle pass awards grant 5 occurences of 160 primogems. The Casual Free to Play may not obtain all 5.There are 9 40 day periods in a year\n",
    "    battlePass = 9 * 160 * ra.randrange(0, 5, 1)\n",
    "    potentialSum += dailyGems + spiralAbyss + battlePass\n",
    "    # primo.loc[i, 'Sum'] = dailyGems + spiralAbyss + battlePass\n",
    "# sns.histplot(data= primo, x=\"Sum\").set_title('Frequency of Potential Sums')\n",
    "averageF2P = potentialSum//iterations\n",
    "print('Potential yearly sum from Casual F2P activities: ' , averageF2P)"
   ]
  },
  {
   "source": [
    "### Hardcore Free to Play\n",
    "The Hardcore F2P may pursue the following actities:\n",
    "* Daily Commissions: Daily activities that may net the player up to 60 primogems. \n",
    "* Spiral Abyss: Each spiral Abyss level will net a one time reward of 300 primogems. There are 8 levels. \n",
    "* Battle Pass Awards: Occurs every 40 days, netting up to 5 awards, each 160 primogems each\n",
    "\n",
    "To best capture how the Hardcore F2P may play, we will run a randomize function on ***some*** the values above, since even a hardcore free-to-play may not work towards, or even be able to attain the max primogems possible. We will simulate this 10,000 times and take the average to attain a more precise sum."
   ],
   "cell_type": "markdown",
   "metadata": {}
  },
  {
   "cell_type": "code",
   "execution_count": 148,
   "metadata": {},
   "outputs": [
    {
     "output_type": "stream",
     "name": "stdout",
     "text": [
      "Potential yearly sum from Hardcore F2P activities:  30296\n"
     ]
    }
   ],
   "source": [
    "potentialSum = 0\n",
    "for i in range (iterations):\n",
    "    #Each daily activity will net primogems in increments of 10, for a potential total of 60.The Hardcore F2P will finish all daily commissions There are 360 days in a year\n",
    "    dailyGems= 360 * 60\n",
    "    #Each spiral Abyss level will net a one time reward of 300 primogems. There are 9 levels. Hardcore to F2P may play from at least 3 levels to 8 levels, since the upper levels are extremely         difficult\n",
    "    spiralAbyss = 300 * ra.randrange(3, 8, 1)\n",
    "    #Free to play battle pass awards grant 5 occurences of 160 primogems. \n",
    "    battlePass = 9 * 160 * 5\n",
    "    potentialSum += dailyGems + spiralAbyss + battlePass\n",
    "averageHardF2P = potentialSum//iterations\n",
    "print('Potential yearly sum from Hardcore F2P activities: ' , averageHardF2P)"
   ]
  },
  {
   "source": [
    "### Casual Whales\n",
    "The Casual Whale may pursue the following actities:\n",
    "* Daily Commissions: Daily activities that may net the player up to 60 primogems. \n",
    "* Spiral Abyss: Each spiral Abyss level will net a one time reward of 300 primogems. There are 8 levels. \n",
    "* Premium Battle Pass Awards: Occurs every 40 days, netting up to 9 awards, each 160 primogems each. This costs ***$9.99*** per Battle Pass period\n",
    "* Monthly Pass: This will award the player 90 primogems per day. This costs ***$4.99*** per month.\n",
    "\n",
    "To best capture how the Casual Whales may play, we will run a randomize function on ***some*** the values above, since a casual whale may not work towards attaining the max primogems possible. We will simulate this 10,000 times and take the average to attain a more precise sum."
   ],
   "cell_type": "markdown",
   "metadata": {}
  },
  {
   "cell_type": "code",
   "execution_count": 149,
   "metadata": {},
   "outputs": [
    {
     "output_type": "stream",
     "name": "stdout",
     "text": [
      "Potential yearly sum from Casual Whale activities:  62347\n"
     ]
    }
   ],
   "source": [
    "potentialSum = 0\n",
    "for i in range (iterations):\n",
    "    #Each daily activity will net primogems in increments of 10, for a potential total of 60. There are 360 days in a year\n",
    "    dailyGems= 360 * ra.randrange(0, 60, 10)\n",
    "    #Each spiral Abyss level will net a one time reward of 300 primogems. There are 9 levels. Like Hardcore to F2P, Casual Whales may play from at least 3 levels to 8 levels, since the upper          levels are extremely difficult\n",
    "    spiralAbyss = 300 * ra.randrange(3, 8, 1)\n",
    "    #Premium battle pass awards grant 9 occurences of 160 primogems. The last premium awards an extra 680 primogems\n",
    "    battlePass = 9 * ((160 * 9) + 680)\n",
    "    #90 primogems per day.\n",
    "    monthlyPass = 90 * 365\n",
    "    potentialSum += dailyGems + spiralAbyss + battlePass + monthlyPass\n",
    "averageWhale = potentialSum//iterations\n",
    "print('Potential yearly sum from Casual Whale activities: ' , averageWhale)"
   ]
  },
  {
   "source": [
    "### Hardcore Whales\n",
    "The Hardcore Whale may pursue the following actities:\n",
    "* Daily Commissions: Daily activities that may net the player up to 60 primogems. \n",
    "* Spiral Abyss: Each spiral Abyss level will net a one time reward of 300 primogems. There are 8 levels. \n",
    "* Premium Battle Pass Awards: Occurs every 40 days, netting up to 9 awards, each 160 primogems each. This costs ***$19.99*** per Battle Pass period because the Hardcore whale will purchase the more expensive version, which gives free progress (basically the player can skip levels and advanced quicker)\n",
    "* Monthly Pass: This will award the player 90 primogems per day. This costs ***$4.99*** per month.\n",
    "\n",
    "Hardcore Whales will attain everything possible from these sources."
   ],
   "cell_type": "markdown",
   "metadata": {}
  },
  {
   "cell_type": "code",
   "execution_count": 150,
   "metadata": {},
   "outputs": [
    {
     "output_type": "stream",
     "name": "stdout",
     "text": [
      "Potential yearly sum from Casual Whale activities:  75930\n"
     ]
    }
   ],
   "source": [
    "potentialSum = 0\n",
    "for i in range (iterations):\n",
    "    #Each daily activity will net primogems in increments of 10, for a potential total of 60. There are 360 days in a year\n",
    "    dailyGems= 360 * 60\n",
    "    #Each spiral Abyss level will net a one time reward of 300 primogems. There are 9 levels. Like Hardcore to F2P, Casual Whales may play from at least 3 levels to 8 levels, since the upper          levels are extremely difficult\n",
    "    spiralAbyss = 300 * 8\n",
    "    #Premium battle pass awards grant 9 occurences of 160 primogems. The last premium awards an extra 680 primogems\n",
    "    battlePass = 9 * ((160 * 9) + 680)\n",
    "    #90 primogems per day.\n",
    "    monthlyPass = 90 * 365\n",
    "    potentialSum += dailyGems + spiralAbyss + battlePass + monthlyPass\n",
    "averageHardWhale = potentialSum//iterations\n",
    "print('Potential yearly sum from Casual Whale activities: ' , averageHardWhale)"
   ]
  },
  {
   "source": [
    "<center><img src=\"https://static2.gamerantimages.com/wordpress/wp-content/uploads/2020/10/genshin-impact-five-star-characters.jpg?q=50&fit=crop&w=960&h=500\" width = \"500\" height= \"250\"></center>"
   ],
   "cell_type": "markdown",
   "metadata": {}
  },
  {
   "source": [
    "## Primogems, Rolls, Costs: Got to Catch Them All?"
   ],
   "cell_type": "markdown",
   "metadata": {}
  },
  {
   "source": [
    "To summarize, here are the potential year sum for each category of player:\n"
   ],
   "cell_type": "markdown",
   "metadata": {}
  },
  {
   "cell_type": "code",
   "execution_count": 151,
   "metadata": {},
   "outputs": [
    {
     "output_type": "stream",
     "name": "stdout",
     "text": [
      "Potential yearly sum from Casual F2P activities:  12154\nPotential yearly sum from Hardcore F2P activities:  30296\nPotential yearly sum from Casual Whale activities:  62347\nPotential yearly sum from Hardcore Whale activities:  75930\n"
     ]
    }
   ],
   "source": [
    "print('Potential yearly sum from Casual F2P activities: ' , averageF2P)\n",
    "print('Potential yearly sum from Hardcore F2P activities: ' , averageHardF2P)\n",
    "print('Potential yearly sum from Casual Whale activities: ' , averageWhale)\n",
    "print('Potential yearly sum from Hardcore Whale activities: ' , averageHardWhale)"
   ]
  },
  {
   "source": [
    "About how many rolls do theses values covert to?"
   ],
   "cell_type": "markdown",
   "metadata": {}
  },
  {
   "cell_type": "code",
   "execution_count": 152,
   "metadata": {},
   "outputs": [
    {
     "output_type": "stream",
     "name": "stdout",
     "text": [
      "Casual F2P:  75  rolls\nHardcore F2P:  189  rolls\nCasual Whale:  389  rolls\nHardcore Whale  474  rolls\n"
     ]
    }
   ],
   "source": [
    "print('Casual F2P: ' , averageF2P//160, ' rolls') \n",
    "print('Hardcore F2P: ' , averageHardF2P//160, ' rolls') \n",
    "print('Casual Whale: ' , averageWhale//160, ' rolls') \n",
    "print('Hardcore Whale ' , averageHardWhale//160, ' rolls') "
   ]
  },
  {
   "source": [
    "How many 5 Star Items can this translate into? We will use our simulated average of 55 rolls per 5 star as a upper bound, and our linear model's predicted 70 rolls per 5 star as a lower bound."
   ],
   "cell_type": "markdown",
   "metadata": {}
  },
  {
   "cell_type": "code",
   "execution_count": 153,
   "metadata": {},
   "outputs": [
    {
     "output_type": "stream",
     "name": "stdout",
     "text": [
      "Casual F2P:  1 to 1  5 star items\nHardcore F2P:  3 to 3  5 star items\nCasual Whale:  6 to 7  5 star items\nHardcore Whale  7 to 9  5 star items\n"
     ]
    }
   ],
   "source": [
    "print('Casual F2P: ' , round((averageF2P//160)/70), 'to', round((averageF2P//160)/55), ' 5 star items') \n",
    "print('Hardcore F2P: ' , round((averageHardF2P//160)/70), 'to', round((averageHardF2P//160)/55), ' 5 star items') \n",
    "print('Casual Whale: ' , round((averageWhale//160)/70), 'to', round((averageWhale//160)/55), ' 5 star items')  \n",
    "print('Hardcore Whale ' , round((averageHardWhale//160)/70), 'to', round((averageHardWhale//160)/55), ' 5 star items')  "
   ]
  },
  {
   "source": [
    "Based the calculations above, even for whales, it takes about a ***year*** to attain not even all of the 5 star characters guranteed. Thus, it is often the case whales would not only buy the battle pass and monthly pass, but they have a chance of purchasing additional primogems seperately. Note the unit cost of a primo gem is 0.0154 USD.\n",
    "\n",
    "We will compute a new set of values that captures, **only in lucky sernarios**, the amount of money whales may spend on obtain a certain number or certain selection of 5 star characters."
   ],
   "cell_type": "markdown",
   "metadata": {}
  },
  {
   "source": [
    "### Casual Whales\n",
    "* They have bought the Monthly pass for each month: $4.99 per month\n",
    "* They have bought the Premium Battle pass for each 40 day period: $9.99 per period\n",
    "* They are determined to obtain  1 particular 5 star character. They are **9** 5 star characters in total. As a result, there is a 1/9 chance of obtain the once you want. Like what we computed before, the expected number of times until you get the one you want is:\n",
    "\n",
    "\\begin{equation}\n",
    "E(times) = 1/ p\n",
    "\\end{equation}\n",
    "\\begin{equation}\n",
    "E(times) = 1/(1/9) \\approx 9 \\;times\n",
    "\\end{equation}\n"
   ],
   "cell_type": "markdown",
   "metadata": {}
  },
  {
   "source": [
    "This means that I expected to roll 9 5 Star Character until one obtains the character he/she wants. Since the expected number of rolls per 5 star was computed to be 63, we can calculate the costs as follows:"
   ],
   "cell_type": "markdown",
   "metadata": {}
  },
  {
   "cell_type": "code",
   "execution_count": 2,
   "metadata": {},
   "outputs": [
    {
     "output_type": "stream",
     "name": "stdout",
     "text": [
      "Potential(Lucky Case Senario)Cost:  1546.878  USD\n"
     ]
    }
   ],
   "source": [
    "monthyPassSum = 12 * 4.99\n",
    "#There are 9 40 day periods in a year\n",
    "battlePassSum = 9 * 9.99\n",
    "#160 primogems per roll, times expected value of rolls per 5 star, times the expected value of 5 stars to roll for until one gets the particular character, times the unit cost of a primogem\n",
    "primogemSum = 160 * 63 * 9 * .0154\n",
    "print('Potential (Lucky Case Senario) Cost: ' , (monthyPassSum + battlePassSum + primogemSum), ' USD')"
   ]
  },
  {
   "source": [
    "### Hardcore Whales\n",
    "* They have bought the Monthly pass for each month: $4.99 per month\n",
    "* They have bought the Advanced Premium Battle pass for each 40 day period: $19.99 per period\n",
    "* They are determined to obtain  all 9 5 star characters. \n"
   ],
   "cell_type": "markdown",
   "metadata": {}
  },
  {
   "cell_type": "code",
   "execution_count": 3,
   "metadata": {},
   "outputs": [
    {
     "output_type": "stream",
     "name": "stdout",
     "text": [
      "Potential (Lucky Case Senario) Cost:  12813.582  USD\n"
     ]
    }
   ],
   "source": [
    "monthyPassSum = 12 * 4.99\n",
    "#There are 9 40 day periods in a year\n",
    "battlePassSum = 9 * 19.99\n",
    "#160 primogems per roll, times expected value of rolls per 5 star, times the expected value of 5 stars to roll for until one gets the particular character, times the unit cost of a primogem.\n",
    "#This is a multiplied 9 times, since the Hardcore whale will want to obtain all 9 Characters\n",
    "primogemSum = (160 * 63 * 9 * .0154) * 9\n",
    "print('Potential (Lucky Case Senario) Cost: ' , (monthyPassSum + battlePassSum + primogemSum), ' USD')"
   ]
  },
  {
   "source": [
    "This is a disturbance in the Force. Potentially, a whale may spend thousands of dollars on Genshin Impact, a Free to Play game, in one or more sittings, not throughout the year. It is important to note that it is not guarenteed to attain a unique 5 star character every time you attain a 5 star; there are repeats. Furthermore, whales may not be finished after attaining all 9 characters, for they can use to repeated 5 star character drops to level up those respective drops, for a total of 6 times. A player may go for 6 drops per 9 5 star character (54 times). \n",
    "\n",
    "These...calculations may seem like speculation; who would rationally spend this amount of money: \n",
    "\n",
    "[Mtashed's $2000 Genshin Impact Blowout](https://www.polygon.com/2020/10/30/21540515/genshin-impact-gacha-f2p-mtash-tectone-wish-giving-up-youtube-mihoyo-ps4-whales)\n",
    "\n",
    "[Tectone Spends more than $5000 on Genshin Impact](https://www.youtube.com/watch?v=Jiubf8FbvO8)\n",
    "\n",
    "Most likely, these are not the only examples. Otherwise, how else could Genshin Impact generate [$400 Million Dollars](https://sensortower.com/blog/genshin-impact-first-two-months-revenue#:~:text=On%20average%2C%20Genshin%20Impact%20has,30.5%20percent%20of%20total%20revenue.)?"
   ],
   "cell_type": "markdown",
   "metadata": {}
  },
  {
   "source": [
    "## Potential Economic Impact "
   ],
   "cell_type": "markdown",
   "metadata": {}
  },
  {
   "cell_type": "code",
   "execution_count": 154,
   "metadata": {},
   "outputs": [
    {
     "output_type": "execute_result",
     "data": {
      "text/plain": [
       "                              Characteristic  Number in Thousands 2018  \\\n",
       "2                             All households                  128579.0   \n",
       "4                          Family households                   83482.0   \n",
       "5                          ...Married-couple                   61959.0   \n",
       "6   ...Female householder, no spouse present                   15043.0   \n",
       "7     ...Male householder, no spouse present                    6480.0   \n",
       "8                       Nonfamily households                   45096.0   \n",
       "9                      ...Female householder                   23515.0   \n",
       "10                       ...Male householder                   21582.0   \n",
       "12                                     White                  100528.0   \n",
       "13                    ...White, not Hispanic                   84727.0   \n",
       "14                                     Black                   17167.0   \n",
       "15                                     Asian                    6981.0   \n",
       "16                       Hispanic (any race)                   17758.0   \n",
       "18                            Under 65 years                   94423.0   \n",
       "19                         ...15 to 24 years                    6199.0   \n",
       "20                         ...25 to 34 years                   20611.0   \n",
       "21                         ...35 to 44 years                   21370.0   \n",
       "22                         ...45 to 54 years                   22071.0   \n",
       "23                         ...55 to 64 years                   24172.0   \n",
       "24                        65 years and older                   34156.0   \n",
       "26                               Native-born                  108560.0   \n",
       "27                              Foreign-born                   20019.0   \n",
       "28                    ...Naturalized citizen                   11043.0   \n",
       "29                          ...Not a citizen                    8976.0   \n",
       "31                                 Northeast                   22054.0   \n",
       "32                                   Midwest                   27686.0   \n",
       "33                                     South                   49743.0   \n",
       "34                                      West                   29096.0   \n",
       "36     Inside metropolitan statistical areas                  110789.0   \n",
       "37                ...Inside principal cities                   42983.0   \n",
       "38               ...Outside principal cities                   67806.0   \n",
       "39    Outside metropolitan statistical areas                   17790.0   \n",
       "\n",
       "    Median income Estimate  Median income Margin of Error  \\\n",
       "2                  64324.0                          704.0   \n",
       "4                  82124.0                          676.0   \n",
       "5                  95351.0                         1145.0   \n",
       "6                  45946.0                         1136.0   \n",
       "7                  62632.0                         1269.0   \n",
       "8                  38813.0                          840.0   \n",
       "9                  32587.0                          679.0   \n",
       "10                 46583.0                          884.0   \n",
       "12                 68156.0                          657.0   \n",
       "13                 71922.0                          664.0   \n",
       "14                 42110.0                          922.0   \n",
       "15                 88774.0                         2856.0   \n",
       "16                 52382.0                          748.0   \n",
       "18                 72958.0                          584.0   \n",
       "19                 44320.0                         2738.0   \n",
       "20                 67084.0                         1095.0   \n",
       "21                 82206.0                         1090.0   \n",
       "22                 85994.0                         1878.0   \n",
       "23                 70200.0                         1470.0   \n",
       "24                 44487.0                          831.0   \n",
       "26                 65407.0                          725.0   \n",
       "27                 59841.0                         1616.0   \n",
       "28                 66707.0                         2292.0   \n",
       "29                 52885.0                         1072.0   \n",
       "31                 71383.0                         1920.0   \n",
       "32                 65230.0                         1471.0   \n",
       "33                 58337.0                          836.0   \n",
       "34                 70779.0                         1624.0   \n",
       "36                 67363.0                          620.0   \n",
       "37                 60434.0                         1245.0   \n",
       "38                 72213.0                          771.0   \n",
       "39                 50771.0                         1659.0   \n",
       "\n",
       "    Number in Thousands 2019  Median Income Estimate  \\\n",
       "2                   128451.0                 68703.0   \n",
       "4                    83677.0                 88149.0   \n",
       "5                    62342.0                102308.0   \n",
       "6                    14832.0                 48098.0   \n",
       "7                     6503.0                 69244.0   \n",
       "8                    44774.0                 41232.0   \n",
       "9                    23470.0                 34612.0   \n",
       "10                   21304.0                 48496.0   \n",
       "12                  100568.0                 72204.0   \n",
       "13                   84868.0                 76057.0   \n",
       "14                   17054.0                 45438.0   \n",
       "15                    6853.0                 98174.0   \n",
       "16                   17667.0                 56113.0   \n",
       "18                   93524.0                 77873.0   \n",
       "19                    5406.0                 47934.0   \n",
       "20                   20424.0                 70283.0   \n",
       "21                   21432.0                 88858.0   \n",
       "22                   21659.0                 92221.0   \n",
       "23                   24603.0                 75686.0   \n",
       "24                   34927.0                 47357.0   \n",
       "26                  108851.0                 69474.0   \n",
       "27                   19600.0                 64900.0   \n",
       "28                   11208.0                 71538.0   \n",
       "29                    8392.0                 57668.0   \n",
       "31                   22031.0                 76221.0   \n",
       "32                   27757.0                 68354.0   \n",
       "33                   49486.0                 61884.0   \n",
       "34                   29177.0                 75769.0   \n",
       "36                  110679.0                 71961.0   \n",
       "37                   42992.0                 63745.0   \n",
       "38                   67687.0                 77170.0   \n",
       "39                   17772.0                 52100.0   \n",
       "\n",
       "    Median Income Margin of Error  \\\n",
       "2                           904.0   \n",
       "4                          1113.0   \n",
       "5                          1022.0   \n",
       "6                           985.0   \n",
       "7                          2988.0   \n",
       "8                           466.0   \n",
       "9                           851.0   \n",
       "10                         1252.0   \n",
       "12                          800.0   \n",
       "13                          876.0   \n",
       "14                         1212.0   \n",
       "15                         3068.0   \n",
       "16                         1173.0   \n",
       "18                         1151.0   \n",
       "19                         2132.0   \n",
       "20                         1406.0   \n",
       "21                         2531.0   \n",
       "22                         1983.0   \n",
       "23                         1482.0   \n",
       "24                          911.0   \n",
       "26                          960.0   \n",
       "27                         1930.0   \n",
       "28                         2040.0   \n",
       "29                         2598.0   \n",
       "31                         1952.0   \n",
       "32                         1824.0   \n",
       "33                          766.0   \n",
       "34                         1244.0   \n",
       "36                          699.0   \n",
       "37                         1586.0   \n",
       "38                         1021.0   \n",
       "39                         1150.0   \n",
       "\n",
       "    Percent change from median income 2018 - 2019 estimate  \\\n",
       "2                                                 6.8        \n",
       "4                                                 7.3        \n",
       "5                                                 7.3        \n",
       "6                                                 4.7        \n",
       "7                                                10.6        \n",
       "8                                                 6.2        \n",
       "9                                                 6.2        \n",
       "10                                                4.1        \n",
       "12                                                5.9        \n",
       "13                                                5.7        \n",
       "14                                                7.9        \n",
       "15                                               10.6        \n",
       "16                                                7.1        \n",
       "18                                                6.7        \n",
       "19                                                8.2        \n",
       "20                                                4.8        \n",
       "21                                                8.1        \n",
       "22                                                7.2        \n",
       "23                                                7.8        \n",
       "24                                                6.5        \n",
       "26                                                6.2        \n",
       "27                                                8.5        \n",
       "28                                                7.2        \n",
       "29                                                9.0        \n",
       "31                                                6.8        \n",
       "32                                                4.8        \n",
       "33                                                6.1        \n",
       "34                                                7.0        \n",
       "36                                                6.8        \n",
       "37                                                5.5        \n",
       "38                                                6.9        \n",
       "39                                                2.6        \n",
       "\n",
       "    Percent change from median income 2018 - 2019 margin of error  \n",
       "2                                                1.55              \n",
       "4                                                1.47              \n",
       "5                                                1.53              \n",
       "6                                                2.92              \n",
       "7                                                5.05              \n",
       "8                                                2.28              \n",
       "9                                                3.05              \n",
       "10                                               3.13              \n",
       "12                                               1.25              \n",
       "13                                               1.25              \n",
       "14                                               3.51              \n",
       "15                                               5.24              \n",
       "16                                               2.30              \n",
       "18                                               1.58              \n",
       "19                                               8.15              \n",
       "20                                               2.42              \n",
       "21                                               3.01              \n",
       "22                                               3.17              \n",
       "23                                               2.71              \n",
       "24                                               2.57              \n",
       "26                                               1.57              \n",
       "27                                               4.19              \n",
       "28                                               4.69              \n",
       "29                                               4.94              \n",
       "31                                               3.00              \n",
       "32                                               3.10              \n",
       "33                                               1.82              \n",
       "34                                               2.58              \n",
       "36                                               1.29              \n",
       "37                                               3.01              \n",
       "38                                               1.57              \n",
       "39                                               2.80              "
      ],
      "text/html": "<div>\n<style scoped>\n    .dataframe tbody tr th:only-of-type {\n        vertical-align: middle;\n    }\n\n    .dataframe tbody tr th {\n        vertical-align: top;\n    }\n\n    .dataframe thead th {\n        text-align: right;\n    }\n</style>\n<table border=\"1\" class=\"dataframe\">\n  <thead>\n    <tr style=\"text-align: right;\">\n      <th></th>\n      <th>Characteristic</th>\n      <th>Number in Thousands 2018</th>\n      <th>Median income Estimate</th>\n      <th>Median income Margin of Error</th>\n      <th>Number in Thousands 2019</th>\n      <th>Median Income Estimate</th>\n      <th>Median Income Margin of Error</th>\n      <th>Percent change from median income 2018 - 2019 estimate</th>\n      <th>Percent change from median income 2018 - 2019 margin of error</th>\n    </tr>\n  </thead>\n  <tbody>\n    <tr>\n      <th>2</th>\n      <td>All households</td>\n      <td>128579.0</td>\n      <td>64324.0</td>\n      <td>704.0</td>\n      <td>128451.0</td>\n      <td>68703.0</td>\n      <td>904.0</td>\n      <td>6.8</td>\n      <td>1.55</td>\n    </tr>\n    <tr>\n      <th>4</th>\n      <td>Family households</td>\n      <td>83482.0</td>\n      <td>82124.0</td>\n      <td>676.0</td>\n      <td>83677.0</td>\n      <td>88149.0</td>\n      <td>1113.0</td>\n      <td>7.3</td>\n      <td>1.47</td>\n    </tr>\n    <tr>\n      <th>5</th>\n      <td>...Married-couple</td>\n      <td>61959.0</td>\n      <td>95351.0</td>\n      <td>1145.0</td>\n      <td>62342.0</td>\n      <td>102308.0</td>\n      <td>1022.0</td>\n      <td>7.3</td>\n      <td>1.53</td>\n    </tr>\n    <tr>\n      <th>6</th>\n      <td>...Female householder, no spouse present</td>\n      <td>15043.0</td>\n      <td>45946.0</td>\n      <td>1136.0</td>\n      <td>14832.0</td>\n      <td>48098.0</td>\n      <td>985.0</td>\n      <td>4.7</td>\n      <td>2.92</td>\n    </tr>\n    <tr>\n      <th>7</th>\n      <td>...Male householder, no spouse present</td>\n      <td>6480.0</td>\n      <td>62632.0</td>\n      <td>1269.0</td>\n      <td>6503.0</td>\n      <td>69244.0</td>\n      <td>2988.0</td>\n      <td>10.6</td>\n      <td>5.05</td>\n    </tr>\n    <tr>\n      <th>8</th>\n      <td>Nonfamily households</td>\n      <td>45096.0</td>\n      <td>38813.0</td>\n      <td>840.0</td>\n      <td>44774.0</td>\n      <td>41232.0</td>\n      <td>466.0</td>\n      <td>6.2</td>\n      <td>2.28</td>\n    </tr>\n    <tr>\n      <th>9</th>\n      <td>...Female householder</td>\n      <td>23515.0</td>\n      <td>32587.0</td>\n      <td>679.0</td>\n      <td>23470.0</td>\n      <td>34612.0</td>\n      <td>851.0</td>\n      <td>6.2</td>\n      <td>3.05</td>\n    </tr>\n    <tr>\n      <th>10</th>\n      <td>...Male householder</td>\n      <td>21582.0</td>\n      <td>46583.0</td>\n      <td>884.0</td>\n      <td>21304.0</td>\n      <td>48496.0</td>\n      <td>1252.0</td>\n      <td>4.1</td>\n      <td>3.13</td>\n    </tr>\n    <tr>\n      <th>12</th>\n      <td>White</td>\n      <td>100528.0</td>\n      <td>68156.0</td>\n      <td>657.0</td>\n      <td>100568.0</td>\n      <td>72204.0</td>\n      <td>800.0</td>\n      <td>5.9</td>\n      <td>1.25</td>\n    </tr>\n    <tr>\n      <th>13</th>\n      <td>...White, not Hispanic</td>\n      <td>84727.0</td>\n      <td>71922.0</td>\n      <td>664.0</td>\n      <td>84868.0</td>\n      <td>76057.0</td>\n      <td>876.0</td>\n      <td>5.7</td>\n      <td>1.25</td>\n    </tr>\n    <tr>\n      <th>14</th>\n      <td>Black</td>\n      <td>17167.0</td>\n      <td>42110.0</td>\n      <td>922.0</td>\n      <td>17054.0</td>\n      <td>45438.0</td>\n      <td>1212.0</td>\n      <td>7.9</td>\n      <td>3.51</td>\n    </tr>\n    <tr>\n      <th>15</th>\n      <td>Asian</td>\n      <td>6981.0</td>\n      <td>88774.0</td>\n      <td>2856.0</td>\n      <td>6853.0</td>\n      <td>98174.0</td>\n      <td>3068.0</td>\n      <td>10.6</td>\n      <td>5.24</td>\n    </tr>\n    <tr>\n      <th>16</th>\n      <td>Hispanic (any race)</td>\n      <td>17758.0</td>\n      <td>52382.0</td>\n      <td>748.0</td>\n      <td>17667.0</td>\n      <td>56113.0</td>\n      <td>1173.0</td>\n      <td>7.1</td>\n      <td>2.30</td>\n    </tr>\n    <tr>\n      <th>18</th>\n      <td>Under 65 years</td>\n      <td>94423.0</td>\n      <td>72958.0</td>\n      <td>584.0</td>\n      <td>93524.0</td>\n      <td>77873.0</td>\n      <td>1151.0</td>\n      <td>6.7</td>\n      <td>1.58</td>\n    </tr>\n    <tr>\n      <th>19</th>\n      <td>...15 to 24 years</td>\n      <td>6199.0</td>\n      <td>44320.0</td>\n      <td>2738.0</td>\n      <td>5406.0</td>\n      <td>47934.0</td>\n      <td>2132.0</td>\n      <td>8.2</td>\n      <td>8.15</td>\n    </tr>\n    <tr>\n      <th>20</th>\n      <td>...25 to 34 years</td>\n      <td>20611.0</td>\n      <td>67084.0</td>\n      <td>1095.0</td>\n      <td>20424.0</td>\n      <td>70283.0</td>\n      <td>1406.0</td>\n      <td>4.8</td>\n      <td>2.42</td>\n    </tr>\n    <tr>\n      <th>21</th>\n      <td>...35 to 44 years</td>\n      <td>21370.0</td>\n      <td>82206.0</td>\n      <td>1090.0</td>\n      <td>21432.0</td>\n      <td>88858.0</td>\n      <td>2531.0</td>\n      <td>8.1</td>\n      <td>3.01</td>\n    </tr>\n    <tr>\n      <th>22</th>\n      <td>...45 to 54 years</td>\n      <td>22071.0</td>\n      <td>85994.0</td>\n      <td>1878.0</td>\n      <td>21659.0</td>\n      <td>92221.0</td>\n      <td>1983.0</td>\n      <td>7.2</td>\n      <td>3.17</td>\n    </tr>\n    <tr>\n      <th>23</th>\n      <td>...55 to 64 years</td>\n      <td>24172.0</td>\n      <td>70200.0</td>\n      <td>1470.0</td>\n      <td>24603.0</td>\n      <td>75686.0</td>\n      <td>1482.0</td>\n      <td>7.8</td>\n      <td>2.71</td>\n    </tr>\n    <tr>\n      <th>24</th>\n      <td>65 years and older</td>\n      <td>34156.0</td>\n      <td>44487.0</td>\n      <td>831.0</td>\n      <td>34927.0</td>\n      <td>47357.0</td>\n      <td>911.0</td>\n      <td>6.5</td>\n      <td>2.57</td>\n    </tr>\n    <tr>\n      <th>26</th>\n      <td>Native-born</td>\n      <td>108560.0</td>\n      <td>65407.0</td>\n      <td>725.0</td>\n      <td>108851.0</td>\n      <td>69474.0</td>\n      <td>960.0</td>\n      <td>6.2</td>\n      <td>1.57</td>\n    </tr>\n    <tr>\n      <th>27</th>\n      <td>Foreign-born</td>\n      <td>20019.0</td>\n      <td>59841.0</td>\n      <td>1616.0</td>\n      <td>19600.0</td>\n      <td>64900.0</td>\n      <td>1930.0</td>\n      <td>8.5</td>\n      <td>4.19</td>\n    </tr>\n    <tr>\n      <th>28</th>\n      <td>...Naturalized citizen</td>\n      <td>11043.0</td>\n      <td>66707.0</td>\n      <td>2292.0</td>\n      <td>11208.0</td>\n      <td>71538.0</td>\n      <td>2040.0</td>\n      <td>7.2</td>\n      <td>4.69</td>\n    </tr>\n    <tr>\n      <th>29</th>\n      <td>...Not a citizen</td>\n      <td>8976.0</td>\n      <td>52885.0</td>\n      <td>1072.0</td>\n      <td>8392.0</td>\n      <td>57668.0</td>\n      <td>2598.0</td>\n      <td>9.0</td>\n      <td>4.94</td>\n    </tr>\n    <tr>\n      <th>31</th>\n      <td>Northeast</td>\n      <td>22054.0</td>\n      <td>71383.0</td>\n      <td>1920.0</td>\n      <td>22031.0</td>\n      <td>76221.0</td>\n      <td>1952.0</td>\n      <td>6.8</td>\n      <td>3.00</td>\n    </tr>\n    <tr>\n      <th>32</th>\n      <td>Midwest</td>\n      <td>27686.0</td>\n      <td>65230.0</td>\n      <td>1471.0</td>\n      <td>27757.0</td>\n      <td>68354.0</td>\n      <td>1824.0</td>\n      <td>4.8</td>\n      <td>3.10</td>\n    </tr>\n    <tr>\n      <th>33</th>\n      <td>South</td>\n      <td>49743.0</td>\n      <td>58337.0</td>\n      <td>836.0</td>\n      <td>49486.0</td>\n      <td>61884.0</td>\n      <td>766.0</td>\n      <td>6.1</td>\n      <td>1.82</td>\n    </tr>\n    <tr>\n      <th>34</th>\n      <td>West</td>\n      <td>29096.0</td>\n      <td>70779.0</td>\n      <td>1624.0</td>\n      <td>29177.0</td>\n      <td>75769.0</td>\n      <td>1244.0</td>\n      <td>7.0</td>\n      <td>2.58</td>\n    </tr>\n    <tr>\n      <th>36</th>\n      <td>Inside metropolitan statistical areas</td>\n      <td>110789.0</td>\n      <td>67363.0</td>\n      <td>620.0</td>\n      <td>110679.0</td>\n      <td>71961.0</td>\n      <td>699.0</td>\n      <td>6.8</td>\n      <td>1.29</td>\n    </tr>\n    <tr>\n      <th>37</th>\n      <td>...Inside principal cities</td>\n      <td>42983.0</td>\n      <td>60434.0</td>\n      <td>1245.0</td>\n      <td>42992.0</td>\n      <td>63745.0</td>\n      <td>1586.0</td>\n      <td>5.5</td>\n      <td>3.01</td>\n    </tr>\n    <tr>\n      <th>38</th>\n      <td>...Outside principal cities</td>\n      <td>67806.0</td>\n      <td>72213.0</td>\n      <td>771.0</td>\n      <td>67687.0</td>\n      <td>77170.0</td>\n      <td>1021.0</td>\n      <td>6.9</td>\n      <td>1.57</td>\n    </tr>\n    <tr>\n      <th>39</th>\n      <td>Outside metropolitan statistical areas</td>\n      <td>17790.0</td>\n      <td>50771.0</td>\n      <td>1659.0</td>\n      <td>17772.0</td>\n      <td>52100.0</td>\n      <td>1150.0</td>\n      <td>2.6</td>\n      <td>2.80</td>\n    </tr>\n  </tbody>\n</table>\n</div>"
     },
     "metadata": {},
     "execution_count": 154
    }
   ],
   "source": [
    "pd.option_context('display.max_rows', None, 'display.max_columns', None)\n",
    "df = pd.read_excel('tableA1.xlsx')\n",
    "df.columns = ['Characteristic', 'Number in Thousands 2018', 'Median income Estimate', \n",
    "              'Median income Margin of Error', 'Number in Thousands 2019', \n",
    "              'Median Income Estimate', 'Median Income Margin of Error',\n",
    "              'Percent change from median income 2018 - 2019 estimate', \n",
    "              'Percent change from median income 2018 - 2019 margin of error']\n",
    "df = df.dropna()\n",
    "df\n",
    "\n",
    "\n",
    "#Demographics (with 90% percentage percentile)\n",
    "#Age Group 15-24 , 25 - 24 (2)\n",
    "#Female and Male - Married and Unmarried (4)\n",
    "#4 regions (4)"
   ]
  },
  {
   "source": [
    "Demographics: "
   ],
   "cell_type": "markdown",
   "metadata": {}
  }
 ],
 "metadata": {
  "kernelspec": {
   "display_name": "Python 3",
   "language": "python",
   "name": "python3"
  },
  "language_info": {
   "codemirror_mode": {
    "name": "ipython",
    "version": 3
   },
   "file_extension": ".py",
   "mimetype": "text/x-python",
   "name": "python",
   "nbconvert_exporter": "python",
   "pygments_lexer": "ipython3",
   "version": "3.8.5-final"
  }
 },
 "nbformat": 4,
 "nbformat_minor": 2
}